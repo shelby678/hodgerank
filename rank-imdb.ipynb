{
 "cells": [
  {
   "cell_type": "code",
   "execution_count": 1,
   "id": "50ddc3b1",
   "metadata": {},
   "outputs": [],
   "source": [
    "import csv\n",
    "import pandas as pd\n",
    "import numpy as np\n",
    "import math\n",
    "from scipy import stats\n",
    "from hodgerank_tools import *"
   ]
  },
  {
   "cell_type": "code",
   "execution_count": 2,
   "id": "c6df6b35",
   "metadata": {},
   "outputs": [],
   "source": [
    "dataset = np.load (\"data/imdb/Dataset.npy\")"
   ]
  },
  {
   "cell_type": "code",
   "execution_count": 3,
   "id": "c6c4329d",
   "metadata": {},
   "outputs": [
    {
     "name": "stdout",
     "output_type": "stream",
     "text": [
      "4669820\n",
      "4669820\n"
     ]
    }
   ],
   "source": [
    "print(len(dataset))\n",
    "userID=[]\n",
    "movieID=[]\n",
    "data=[]\n",
    "for i in range(len(dataset)):\n",
    "    v=dataset[i].split(',')\n",
    "    userID.append(v[0])\n",
    "    movieID.append(v[1])\n",
    "    data.append(v)\n",
    "print(len(data))"
   ]
  },
  {
   "cell_type": "code",
   "execution_count": 4,
   "id": "98890142",
   "metadata": {},
   "outputs": [
    {
     "name": "stdout",
     "output_type": "stream",
     "text": [
      "4669820\n",
      "<class 'list'>\n",
      "351109\n"
     ]
    }
   ],
   "source": [
    "users = set()\n",
    "movies = set()\n",
    "print(len(userID))\n",
    "print(type(userID))\n",
    "users.update(userID)\n",
    "movies.update(movieID)\n",
    "print(len(movies))"
   ]
  },
  {
   "cell_type": "code",
   "execution_count": 5,
   "id": "7b0fdc4f",
   "metadata": {},
   "outputs": [],
   "source": [
    "dict_data = dict()\n",
    "for user in users:\n",
    "    dict_data[user] = dict()"
   ]
  },
  {
   "cell_type": "code",
   "execution_count": 6,
   "id": "73735b9c",
   "metadata": {},
   "outputs": [],
   "source": [
    "for rating in data:\n",
    "    dict_data[rating[0]][rating[1]] = float(rating[2])"
   ]
  },
  {
   "cell_type": "code",
   "execution_count": null,
   "id": "a1c7b584",
   "metadata": {},
   "outputs": [],
   "source": []
  },
  {
   "cell_type": "code",
   "execution_count": 7,
   "id": "d37f2530",
   "metadata": {},
   "outputs": [
    {
     "name": "stdout",
     "output_type": "stream",
     "text": [
      "424759\n"
     ]
    }
   ],
   "source": [
    "imdb_data = []\n",
    "movie_popularity = dict()\n",
    "for movie in movies:\n",
    "    movie_popularity[movie] = 0\n",
    "for user, votes in dict_data.items():\n",
    "    if len(votes)>=2:\n",
    "        imdb_data.append(votes)\n",
    "        for movie, rating in votes.items():\n",
    "            movie_popularity[movie] += 1\n",
    "            \n",
    "print(len(imdb_data))"
   ]
  },
  {
   "cell_type": "code",
   "execution_count": 8,
   "id": "b97e95d3",
   "metadata": {},
   "outputs": [
    {
     "name": "stdout",
     "output_type": "stream",
     "text": [
      "2966\n"
     ]
    }
   ],
   "source": [
    "popular_movies = []\n",
    "tier = 200\n",
    "for movie, pop in movie_popularity.items():\n",
    "    if pop >tier:\n",
    "        popular_movies.append(movie)\n",
    "print(len(popular_movies))"
   ]
  },
  {
   "cell_type": "code",
   "execution_count": 9,
   "id": "8ebabb2f",
   "metadata": {},
   "outputs": [
    {
     "name": "stdout",
     "output_type": "stream",
     "text": [
      "837\n"
     ]
    }
   ],
   "source": [
    "popular_movies2 = []\n",
    "tier = 500\n",
    "for movie, pop in movie_popularity.items():\n",
    "    if pop >tier:\n",
    "        popular_movies2.append(movie)\n",
    "print(len(popular_movies2))"
   ]
  },
  {
   "cell_type": "code",
   "execution_count": 10,
   "id": "f9baabc5",
   "metadata": {},
   "outputs": [
    {
     "name": "stdout",
     "output_type": "stream",
     "text": [
      "0.0 %\n",
      "11.77138094778451 %\n",
      "23.54276189556902 %\n",
      "35.31414284335352 %\n",
      "47.08552379113804 %\n",
      "58.856904738922545 %\n",
      "70.62828568670704 %\n",
      "82.39966663449157 %\n",
      "94.17104758227607 %\n",
      "131186\n"
     ]
    }
   ],
   "source": [
    "new_imdb2 = []\n",
    "\n",
    "for i, voter in enumerate(imdb_data):\n",
    "    keep = intersection(voter.keys(), popular_movies2)\n",
    "    if len(keep) >= 2:\n",
    "        new_dict = {movie:score for movie,score in voter.items() if movie in keep}\n",
    "        new_imdb2.append(new_dict)\n",
    "    if i % 50000 == 0:\n",
    "        print(i/len(imdb_data)*100, \"%\")\n",
    "            \n",
    "print(len(new_imdb2))"
   ]
  },
  {
   "cell_type": "code",
   "execution_count": 11,
   "id": "3665ee42",
   "metadata": {},
   "outputs": [
    {
     "name": "stdout",
     "output_type": "stream",
     "text": [
      "0.0 %\n",
      "11.77138094778451 %\n",
      "23.54276189556902 %\n",
      "35.31414284335352 %\n",
      "47.08552379113804 %\n",
      "58.856904738922545 %\n"
     ]
    },
    {
     "ename": "KeyboardInterrupt",
     "evalue": "",
     "output_type": "error",
     "traceback": [
      "\u001b[0;31m---------------------------------------------------------------------------\u001b[0m",
      "\u001b[0;31mKeyboardInterrupt\u001b[0m                         Traceback (most recent call last)",
      "Input \u001b[0;32mIn [11]\u001b[0m, in \u001b[0;36m<module>\u001b[0;34m\u001b[0m\n\u001b[1;32m      1\u001b[0m new_imdb \u001b[38;5;241m=\u001b[39m []\n\u001b[1;32m      3\u001b[0m \u001b[38;5;28;01mfor\u001b[39;00m i, voter \u001b[38;5;129;01min\u001b[39;00m \u001b[38;5;28menumerate\u001b[39m(imdb_data):\n\u001b[0;32m----> 4\u001b[0m     keep \u001b[38;5;241m=\u001b[39m \u001b[43mintersection\u001b[49m\u001b[43m(\u001b[49m\u001b[43mvoter\u001b[49m\u001b[38;5;241;43m.\u001b[39;49m\u001b[43mkeys\u001b[49m\u001b[43m(\u001b[49m\u001b[43m)\u001b[49m\u001b[43m,\u001b[49m\u001b[43m \u001b[49m\u001b[43mpopular_movies\u001b[49m\u001b[43m)\u001b[49m\n\u001b[1;32m      5\u001b[0m     \u001b[38;5;28;01mif\u001b[39;00m \u001b[38;5;28mlen\u001b[39m(keep) \u001b[38;5;241m>\u001b[39m\u001b[38;5;241m=\u001b[39m \u001b[38;5;241m2\u001b[39m:\n\u001b[1;32m      6\u001b[0m         new_dict \u001b[38;5;241m=\u001b[39m {movie:score \u001b[38;5;28;01mfor\u001b[39;00m movie,score \u001b[38;5;129;01min\u001b[39;00m voter\u001b[38;5;241m.\u001b[39mitems() \u001b[38;5;28;01mif\u001b[39;00m movie \u001b[38;5;129;01min\u001b[39;00m keep}\n",
      "File \u001b[0;32m~/Desktop/Summer 2022/Thesis/hodgerank/hodgerank_tools.py:192\u001b[0m, in \u001b[0;36mintersection\u001b[0;34m(lst1, lst2)\u001b[0m\n\u001b[1;32m    189\u001b[0m \u001b[38;5;28;01mdef\u001b[39;00m \u001b[38;5;21mintersection\u001b[39m(lst1, lst2):\n\u001b[1;32m    190\u001b[0m     \u001b[38;5;66;03m# Use of hybrid method\u001b[39;00m\n\u001b[1;32m    191\u001b[0m     temp \u001b[38;5;241m=\u001b[39m \u001b[38;5;28mset\u001b[39m(lst2)\n\u001b[0;32m--> 192\u001b[0m     lst3 \u001b[38;5;241m=\u001b[39m [value \u001b[38;5;28;01mfor\u001b[39;00m value \u001b[38;5;129;01min\u001b[39;00m lst1 \u001b[38;5;28;01mif\u001b[39;00m value \u001b[38;5;129;01min\u001b[39;00m temp]\n\u001b[1;32m    193\u001b[0m     \u001b[38;5;28;01mreturn\u001b[39;00m lst3\n",
      "File \u001b[0;32m~/Desktop/Summer 2022/Thesis/hodgerank/hodgerank_tools.py:192\u001b[0m, in \u001b[0;36m<listcomp>\u001b[0;34m(.0)\u001b[0m\n\u001b[1;32m    189\u001b[0m \u001b[38;5;28;01mdef\u001b[39;00m \u001b[38;5;21mintersection\u001b[39m(lst1, lst2):\n\u001b[1;32m    190\u001b[0m     \u001b[38;5;66;03m# Use of hybrid method\u001b[39;00m\n\u001b[1;32m    191\u001b[0m     temp \u001b[38;5;241m=\u001b[39m \u001b[38;5;28mset\u001b[39m(lst2)\n\u001b[0;32m--> 192\u001b[0m     lst3 \u001b[38;5;241m=\u001b[39m [value \u001b[38;5;28;01mfor\u001b[39;00m value \u001b[38;5;129;01min\u001b[39;00m lst1 \u001b[38;5;28;01mif\u001b[39;00m value \u001b[38;5;129;01min\u001b[39;00m temp]\n\u001b[1;32m    193\u001b[0m     \u001b[38;5;28;01mreturn\u001b[39;00m lst3\n",
      "\u001b[0;31mKeyboardInterrupt\u001b[0m: "
     ]
    }
   ],
   "source": [
    "new_imdb = []\n",
    "\n",
    "for i, voter in enumerate(imdb_data):\n",
    "    keep = intersection(voter.keys(), popular_movies)\n",
    "    if len(keep) >= 2:\n",
    "        new_dict = {movie:score for movie,score in voter.items() if movie in keep}\n",
    "        new_imdb.append(new_dict)\n",
    "    if i % 50000 == 0:\n",
    "        print(i/len(imdb_data)*100, \"%\")\n",
    "            \n",
    "print(len(new_imdb))"
   ]
  },
  {
   "cell_type": "code",
   "execution_count": 12,
   "id": "08ae8be4",
   "metadata": {},
   "outputs": [],
   "source": [
    "imdb_data = new_imdb2"
   ]
  },
  {
   "cell_type": "code",
   "execution_count": null,
   "id": "00e6ddde",
   "metadata": {},
   "outputs": [],
   "source": [
    "print(imdb_data[0])"
   ]
  },
  {
   "cell_type": "code",
   "execution_count": 13,
   "id": "329ad63f",
   "metadata": {},
   "outputs": [
    {
     "name": "stdout",
     "output_type": "stream",
     "text": [
      "(           node         r\n",
      "0    tt12986942  9.942505\n",
      "1    tt12969078  9.940270\n",
      "2    tt10290114  9.907071\n",
      "3     tt9471404  9.853755\n",
      "4    tt12758600  9.851562\n",
      "..          ...       ...\n",
      "832   tt8712204  3.450079\n",
      "833   tt0450345  3.186486\n",
      "834   tt0118688  3.133333\n",
      "835   tt0185183  2.902214\n",
      "836  tt10350922  1.855172\n",
      "\n",
      "[837 rows x 2 columns], nan)\n"
     ]
    }
   ],
   "source": [
    "(naive_r0) = naive_rank_0(imdb_data)\n",
    "print(naive_r0)\n",
    "#print(\"error: \", naive_r0_error)"
   ]
  },
  {
   "cell_type": "code",
   "execution_count": null,
   "id": "50cba29b",
   "metadata": {},
   "outputs": [],
   "source": [
    "naive_r0[0].to_csv('data/imdb/naive_r0.csv')"
   ]
  },
  {
   "cell_type": "code",
   "execution_count": 14,
   "id": "29d34c53",
   "metadata": {},
   "outputs": [
    {
     "ename": "KeyboardInterrupt",
     "evalue": "",
     "output_type": "error",
     "traceback": [
      "\u001b[0;31m---------------------------------------------------------------------------\u001b[0m",
      "\u001b[0;31mKeyboardInterrupt\u001b[0m                         Traceback (most recent call last)",
      "Input \u001b[0;32mIn [14]\u001b[0m, in \u001b[0;36m<module>\u001b[0;34m\u001b[0m\n\u001b[0;32m----> 1\u001b[0m (naive_r) \u001b[38;5;241m=\u001b[39m \u001b[43mnaive_rank\u001b[49m\u001b[43m(\u001b[49m\u001b[43mimdb_data\u001b[49m\u001b[43m)\u001b[49m\n\u001b[1;32m      2\u001b[0m \u001b[38;5;28mprint\u001b[39m(naive_r)\n",
      "File \u001b[0;32m~/Desktop/Summer 2022/Thesis/hodgerank/hodgerank_tools.py:146\u001b[0m, in \u001b[0;36mnaive_rank\u001b[0;34m(data)\u001b[0m\n\u001b[1;32m    143\u001b[0m \u001b[38;5;28;01mdef\u001b[39;00m \u001b[38;5;21mnaive_rank\u001b[39m(data):\n\u001b[1;32m    144\u001b[0m     \u001b[38;5;66;03m#initialize nodes, sum_scores, total_votes\u001b[39;00m\n\u001b[1;32m    145\u001b[0m     nodes \u001b[38;5;241m=\u001b[39m get_nodes(data)\n\u001b[0;32m--> 146\u001b[0m     (f, W) \u001b[38;5;241m=\u001b[39m \u001b[43mget_f_W\u001b[49m\u001b[43m(\u001b[49m\u001b[43mdata\u001b[49m\u001b[43m,\u001b[49m\u001b[43m \u001b[49m\u001b[43mnodes\u001b[49m\u001b[43m)\u001b[49m\n\u001b[1;32m    147\u001b[0m     sum_scores \u001b[38;5;241m=\u001b[39m \u001b[38;5;28mdict\u001b[39m()\n\u001b[1;32m    148\u001b[0m     naive_r \u001b[38;5;241m=\u001b[39m \u001b[38;5;28mdict\u001b[39m()\n",
      "File \u001b[0;32m~/Desktop/Summer 2022/Thesis/hodgerank/hodgerank_tools.py:57\u001b[0m, in \u001b[0;36mget_f_W\u001b[0;34m(data, nodes)\u001b[0m\n\u001b[1;32m     54\u001b[0m     vote_nodes\u001b[38;5;241m.\u001b[39msort()\n\u001b[1;32m     55\u001b[0m     \u001b[38;5;28;01mfor\u001b[39;00m edge \u001b[38;5;129;01min\u001b[39;00m get_edges(vote_nodes):\n\u001b[1;32m     56\u001b[0m         \u001b[38;5;66;03m# for each edge in this voter's graph, add pairwise difference to f and add 1 to W\u001b[39;00m\n\u001b[0;32m---> 57\u001b[0m         f[\u001b[43medges\u001b[49m\u001b[38;5;241;43m.\u001b[39;49m\u001b[43mindex\u001b[49m\u001b[43m(\u001b[49m\u001b[43medge\u001b[49m\u001b[43m)\u001b[49m] \u001b[38;5;241m+\u001b[39m\u001b[38;5;241m=\u001b[39m voter[edge[\u001b[38;5;241m1\u001b[39m]] \u001b[38;5;241m-\u001b[39m voter[edge[\u001b[38;5;241m0\u001b[39m]]\n\u001b[1;32m     58\u001b[0m         W[edges\u001b[38;5;241m.\u001b[39mindex(edge), edges\u001b[38;5;241m.\u001b[39mindex(edge)] \u001b[38;5;241m+\u001b[39m\u001b[38;5;241m=\u001b[39m \u001b[38;5;241m1\u001b[39m\n\u001b[1;32m     59\u001b[0m \u001b[38;5;66;03m# weighting f by W\u001b[39;00m\n",
      "\u001b[0;31mKeyboardInterrupt\u001b[0m: "
     ]
    }
   ],
   "source": [
    "(naive_r) = naive_rank(imdb_data)\n",
    "print(naive_r)\n",
    "#print(\"error: \", naive_r_error)"
   ]
  },
  {
   "cell_type": "code",
   "execution_count": null,
   "id": "72f39268",
   "metadata": {},
   "outputs": [],
   "source": [
    "naive_r[0].to_csv('data/imdb/naive_r.csv')"
   ]
  },
  {
   "cell_type": "code",
   "execution_count": 18,
   "id": "5a8f1ded",
   "metadata": {},
   "outputs": [
    {
     "ename": "KeyboardInterrupt",
     "evalue": "",
     "output_type": "error",
     "traceback": [
      "\u001b[0;31m---------------------------------------------------------------------------\u001b[0m",
      "\u001b[0;31mKeyboardInterrupt\u001b[0m                         Traceback (most recent call last)",
      "Input \u001b[0;32mIn [18]\u001b[0m, in \u001b[0;36m<module>\u001b[0;34m\u001b[0m\n\u001b[0;32m----> 1\u001b[0m (r_regular, error_regular) \u001b[38;5;241m=\u001b[39m \u001b[43mrank\u001b[49m\u001b[43m(\u001b[49m\u001b[43mimdb_data\u001b[49m\u001b[43m)\u001b[49m\n\u001b[1;32m      2\u001b[0m \u001b[38;5;28mprint\u001b[39m(r_regular)\n\u001b[1;32m      3\u001b[0m \u001b[38;5;28mprint\u001b[39m(\u001b[38;5;124m\"\u001b[39m\u001b[38;5;124merror: \u001b[39m\u001b[38;5;124m\"\u001b[39m, error_regular)\n",
      "File \u001b[0;32m~/Desktop/Summer 2022/Thesis/hodgerank/hodgerank_tools.py:101\u001b[0m, in \u001b[0;36mrank\u001b[0;34m(data)\u001b[0m\n\u001b[1;32m     99\u001b[0m edges \u001b[38;5;241m=\u001b[39m get_edges(nodes)\n\u001b[1;32m    100\u001b[0m neg_divergence \u001b[38;5;241m=\u001b[39m get_neg_divergence(nodes)\n\u001b[0;32m--> 101\u001b[0m (f, W) \u001b[38;5;241m=\u001b[39m \u001b[43mget_f_W\u001b[49m\u001b[43m(\u001b[49m\u001b[43mdata\u001b[49m\u001b[43m,\u001b[49m\u001b[43m \u001b[49m\u001b[43mnodes\u001b[49m\u001b[43m)\u001b[49m\n\u001b[1;32m    102\u001b[0m \u001b[38;5;66;03m# solve for r\u001b[39;00m\n\u001b[1;32m    103\u001b[0m right_side \u001b[38;5;241m=\u001b[39m np\u001b[38;5;241m.\u001b[39mmatmul(np\u001b[38;5;241m.\u001b[39mtranspose(neg_divergence), np\u001b[38;5;241m.\u001b[39mmatmul(W, f))\n",
      "File \u001b[0;32m~/Desktop/Summer 2022/Thesis/hodgerank/hodgerank_tools.py:57\u001b[0m, in \u001b[0;36mget_f_W\u001b[0;34m(data, nodes)\u001b[0m\n\u001b[1;32m     54\u001b[0m     vote_nodes\u001b[38;5;241m.\u001b[39msort()\n\u001b[1;32m     55\u001b[0m     \u001b[38;5;28;01mfor\u001b[39;00m edge \u001b[38;5;129;01min\u001b[39;00m get_edges(vote_nodes):\n\u001b[1;32m     56\u001b[0m         \u001b[38;5;66;03m# for each edge in this voter's graph, add pairwise difference to f and add 1 to W\u001b[39;00m\n\u001b[0;32m---> 57\u001b[0m         f[\u001b[43medges\u001b[49m\u001b[38;5;241;43m.\u001b[39;49m\u001b[43mindex\u001b[49m\u001b[43m(\u001b[49m\u001b[43medge\u001b[49m\u001b[43m)\u001b[49m] \u001b[38;5;241m+\u001b[39m\u001b[38;5;241m=\u001b[39m voter[edge[\u001b[38;5;241m1\u001b[39m]] \u001b[38;5;241m-\u001b[39m voter[edge[\u001b[38;5;241m0\u001b[39m]]\n\u001b[1;32m     58\u001b[0m         W[edges\u001b[38;5;241m.\u001b[39mindex(edge), edges\u001b[38;5;241m.\u001b[39mindex(edge)] \u001b[38;5;241m+\u001b[39m\u001b[38;5;241m=\u001b[39m \u001b[38;5;241m1\u001b[39m\n\u001b[1;32m     59\u001b[0m \u001b[38;5;66;03m# weighting f by W\u001b[39;00m\n",
      "\u001b[0;31mKeyboardInterrupt\u001b[0m: "
     ]
    }
   ],
   "source": [
    "(r_regular, error_regular) = rank(imdb_data)\n",
    "print(r_regular)\n",
    "print(\"error: \", error_regular)"
   ]
  },
  {
   "cell_type": "code",
   "execution_count": 20,
   "id": "73a120cf",
   "metadata": {},
   "outputs": [
    {
     "name": "stdout",
     "output_type": "stream",
     "text": [
      "           node         r\n",
      "0     tt0903747  1.405035\n",
      "1     tt7366338  1.346433\n",
      "2     tt0068646  1.314332\n",
      "3     tt0054215  1.265152\n",
      "4     tt0111161  1.212183\n",
      "..          ...       ...\n",
      "115   tt3698454 -2.732824\n",
      "116  tt12758600 -2.734396\n",
      "117  tt12929738 -2.742403\n",
      "118   tt9031094 -2.764442\n",
      "119   tt9875006 -2.800377\n",
      "\n",
      "[120 rows x 2 columns]\n",
      "           node         r\n",
      "0     tt3230854  0.963056\n",
      "1     tt0033467  0.732996\n",
      "2     tt0031381  0.699766\n",
      "3     tt0460681  0.600318\n",
      "4     tt0052357  0.599176\n",
      "..          ...       ...\n",
      "115  tt12805346 -2.938932\n",
      "116   tt9077626 -3.414620\n",
      "117   tt7212726 -3.514875\n",
      "118   tt9649436 -4.176776\n",
      "119  tt10230426 -6.180063\n",
      "\n",
      "[120 rows x 2 columns]\n",
      "           node         r\n",
      "0     tt2356777  0.763755\n",
      "1     tt5071412  0.751246\n",
      "2     tt0407887  0.621881\n",
      "3     tt0310793  0.617277\n",
      "4     tt0375063  0.555525\n",
      "..          ...       ...\n",
      "115   tt4158110 -0.860499\n",
      "116   tt7335184 -0.934746\n",
      "117  tt12405230 -0.990477\n",
      "118   tt5691552 -1.158311\n",
      "119   tt8580274 -1.164786\n",
      "\n",
      "[120 rows x 2 columns]\n",
      "          node         r\n",
      "0    tt0477348  0.930965\n",
      "1    tt1392190  0.790280\n",
      "2    tt0166924  0.788232\n",
      "3    tt2267998  0.778662\n",
      "4    tt0181865  0.745056\n",
      "..         ...       ...\n",
      "115  tt5884052 -0.951910\n",
      "116  tt1270797 -0.971532\n",
      "117  tt0329101 -0.992444\n",
      "118  tt0401729 -1.005383\n",
      "119  tt0803096 -1.294587\n",
      "\n",
      "[120 rows x 2 columns]\n",
      "          node         r\n",
      "0    tt0399146  1.020491\n",
      "1    tt0887912  0.968937\n",
      "2    tt6155172  0.919939\n",
      "3    tt1856010  0.861132\n",
      "4    tt4975722  0.827434\n",
      "..         ...       ...\n",
      "114  tt2975590 -0.823298\n",
      "115  tt0103644 -0.832853\n",
      "116  tt0120915 -0.867593\n",
      "117  tt1972591 -0.929953\n",
      "118  tt2661044 -0.959098\n",
      "\n",
      "[119 rows x 2 columns]\n",
      "          node         r\n",
      "0    tt6027912  1.202072\n",
      "1    tt2488496  1.106071\n",
      "2    tt5083738  0.976720\n",
      "3    tt1706620  0.956644\n",
      "4    tt1213641  0.826034\n",
      "..         ...       ...\n",
      "114  tt0370263 -0.717110\n",
      "115  tt0163025 -0.802825\n",
      "116  tt1618434 -0.833912\n",
      "117  tt0452637 -1.271333\n",
      "118  tt6673612 -1.609778\n",
      "\n",
      "[119 rows x 2 columns]\n",
      "           node         r\n",
      "0     tt7939766  1.419277\n",
      "1     tt5296406  1.390812\n",
      "2     tt3322310  1.379045\n",
      "3     tt9614460  1.366551\n",
      "4     tt9777644  1.299927\n",
      "..          ...       ...\n",
      "114  tt10886166 -1.781236\n",
      "115   tt1255919 -1.837342\n",
      "116   tt0185183 -1.883266\n",
      "117   tt0118688 -1.892390\n",
      "118  tt10350922 -1.955777\n",
      "\n",
      "[119 rows x 2 columns]\n",
      "           node         r\n",
      "0     tt0903747  1.405035\n",
      "1     tt7366338  1.346433\n",
      "2     tt0068646  1.314332\n",
      "3     tt0054215  1.265152\n",
      "4     tt0111161  1.212183\n",
      "..          ...       ...\n",
      "832  tt10886166 -1.781236\n",
      "833   tt1255919 -1.837342\n",
      "834   tt0185183 -1.883266\n",
      "835   tt0118688  -1.89239\n",
      "836  tt10350922 -1.955777\n",
      "\n",
      "[837 rows x 2 columns]\n",
      "error:  57550.2433677198\n"
     ]
    }
   ],
   "source": [
    "k = 7\n",
    "(r_groups_1, error_groups_1) = simple_group_rank(imdb_data, k)\n",
    "print(r_groups_1)\n",
    "print(\"error: \", error_groups_1)"
   ]
  },
  {
   "cell_type": "code",
   "execution_count": null,
   "id": "b02bd489",
   "metadata": {},
   "outputs": [],
   "source": []
  },
  {
   "cell_type": "code",
   "execution_count": null,
   "id": "87023a2d",
   "metadata": {},
   "outputs": [],
   "source": []
  }
 ],
 "metadata": {
  "kernelspec": {
   "display_name": "Python 3 (ipykernel)",
   "language": "python",
   "name": "python3"
  },
  "language_info": {
   "codemirror_mode": {
    "name": "ipython",
    "version": 3
   },
   "file_extension": ".py",
   "mimetype": "text/x-python",
   "name": "python",
   "nbconvert_exporter": "python",
   "pygments_lexer": "ipython3",
   "version": "3.9.2"
  }
 },
 "nbformat": 4,
 "nbformat_minor": 5
}
