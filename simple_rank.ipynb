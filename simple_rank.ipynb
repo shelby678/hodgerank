{
 "cells": [
  {
   "cell_type": "code",
   "execution_count": 26,
   "id": "6bd13180",
   "metadata": {},
   "outputs": [],
   "source": [
    "import csv\n",
    "import pandas as pd\n",
    "import numpy as np\n",
    "import scipy.linalg as linalg\n",
    "from hodgerank_tools import *"
   ]
  },
  {
   "cell_type": "code",
   "execution_count": 27,
   "id": "69278095",
   "metadata": {},
   "outputs": [],
   "source": [
    "symptoms = ['A', 'B', 'C','D']\n",
    "\n",
    "covid_df = pd.DataFrame(np.array([[3, 2, 2,5], [7, 8, 9, np.nan], [2, 2, 1,3]]), columns=symptoms)"
   ]
  },
  {
   "cell_type": "code",
   "execution_count": 28,
   "id": "782677c1",
   "metadata": {},
   "outputs": [
    {
     "name": "stdout",
     "output_type": "stream",
     "text": [
      "     A    B    C    D\n",
      "0  3.0  2.0  2.0  5.0\n",
      "1  7.0  8.0  9.0  NaN\n",
      "2  2.0  2.0  1.0  3.0\n"
     ]
    }
   ],
   "source": [
    "print(covid_df.head())"
   ]
  },
  {
   "cell_type": "code",
   "execution_count": 29,
   "id": "88928c44",
   "metadata": {},
   "outputs": [],
   "source": [
    "symptoms = ['A', 'B', 'C','D']"
   ]
  },
  {
   "cell_type": "code",
   "execution_count": 30,
   "id": "d7f20474",
   "metadata": {},
   "outputs": [
    {
     "name": "stdout",
     "output_type": "stream",
     "text": [
      "  element         r\n",
      "0       D  1.500000\n",
      "1       A -0.409091\n",
      "2       B -0.500000\n",
      "3       C -0.590909\n",
      "0.38429752066115663\n"
     ]
    }
   ],
   "source": [
    "(r, error) = rank(covid_df)\n",
    "print(r)\n",
    "print(error)"
   ]
  }
 ],
 "metadata": {
  "kernelspec": {
   "display_name": "Python 3 (ipykernel)",
   "language": "python",
   "name": "python3"
  },
  "language_info": {
   "codemirror_mode": {
    "name": "ipython",
    "version": 3
   },
   "file_extension": ".py",
   "mimetype": "text/x-python",
   "name": "python",
   "nbconvert_exporter": "python",
   "pygments_lexer": "ipython3",
   "version": "3.9.2"
  }
 },
 "nbformat": 4,
 "nbformat_minor": 5
}
