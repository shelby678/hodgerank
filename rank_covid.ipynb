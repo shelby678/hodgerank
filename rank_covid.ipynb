{
 "cells": [
  {
   "cell_type": "markdown",
   "id": "07edeba7",
   "metadata": {},
   "source": [
    "Note: this notebook has been modified specifically for use on the oxford data set!"
   ]
  },
  {
   "cell_type": "code",
   "execution_count": 1,
   "id": "6bd13180",
   "metadata": {},
   "outputs": [],
   "source": [
    "import csv\n",
    "import pandas as pd\n",
    "import numpy as np\n",
    "import random\n",
    "from hodgerank_tools import *"
   ]
  },
  {
   "cell_type": "markdown",
   "id": "4f94f8a0",
   "metadata": {},
   "source": [
    "## 1. Preprocessing\n",
    "### Create data"
   ]
  },
  {
   "cell_type": "code",
   "execution_count": 2,
   "id": "d173697e",
   "metadata": {},
   "outputs": [
    {
     "name": "stdout",
     "output_type": "stream",
     "text": [
      "[0.8308771929824561, 0.67, 0.4808771929824561, 0.14982456140350878, 0.3031578947368421, 0.1831578947368421, 0.16210526315789472, 0.14543859649122806, 0.1307017543859649, 0.12964912280701754, 0.09228070175438596, 0.057368421052631575, 0.05771929824561404, 0.0456140350877193]\n",
      "   Fever  Cough  Fatigue  Dyspnea  Sputum  Shortness of Breath  Myalgia  \\\n",
      "0   1216    978      830      608     517                  491      358   \n",
      "1   3520   2841     1911      246    1211                  553      566   \n",
      "\n",
      "   Chill  Dizziness  Headache  Sore Throat  Nausea  Diarhea  Congestion  \n",
      "0    358        222       155          107      81       78          39  \n",
      "1    471        523       584          419     246      251         221  \n"
     ]
    }
   ],
   "source": [
    "k_sev=1376\n",
    "k_non_sev=4324\n",
    "sev_p=[0.884,0.711,0.603,0.442,0.376,0.357,0.26,0.26,0.161,0.113,0.078,\n",
    "       0.059,0.057,0.028]\n",
    "non_sev_p=[0.814,0.657,0.442,0.057,0.28,0.128,0.131,0.109,0.121,0.135,0.097,\n",
    "           0.057,0.058,0.051]\n",
    "sev_n=[round(k_sev*i) for i in sev_p]\n",
    "non_sev_n=[round(k_non_sev*i) for i in non_sev_p]\n",
    "naive_r = [(sev_n[i]+non_sev_n[i])/5700 for i in range(len(non_sev_p))]\n",
    "print(naive_r)\n",
    "data = [sev_n, non_sev_n]\n",
    "symptoms = [\"Fever\", \"Cough\", \"Fatigue\", \"Dyspnea\", \"Sputum\", \"Shortness of Breath\", \"Myalgia\", \"Chill\", \"Dizziness\", \"Headache\", \"Sore Throat\", \"Nausea\", \"Diarhea\", \"Congestion\"]\n",
    "covid_df = pd.DataFrame(data, columns = symptoms)\n",
    "\n",
    "print(covid_df)"
   ]
  },
  {
   "cell_type": "code",
   "execution_count": 3,
   "id": "fc4f0f13",
   "metadata": {},
   "outputs": [],
   "source": [
    "# multiply all values by scalar, with sd, around normal dist\n",
    "def norm(center, sd):\n",
    "    rating = np.abs(np.random.normal(center, sd)) \n",
    "    if rating > 10: rating = 10\n",
    "    return rating"
   ]
  },
  {
   "cell_type": "code",
   "execution_count": 4,
   "id": "9fd2ddfa",
   "metadata": {},
   "outputs": [
    {
     "name": "stdout",
     "output_type": "stream",
     "text": [
      "(1376, 14)\n",
      "(4324, 14)\n",
      "(5700, 14)\n",
      "<bound method NDFrame.head of          Fever      Cough   Fatigue    Dyspnea    Sputum  Shortness of Breath  \\\n",
      "0     0.000000   7.566467  8.326692  10.000000  0.000000             0.000000   \n",
      "1     0.000000  10.000000  8.032917   0.000000  0.000000            10.000000   \n",
      "2     7.474325   8.375201  0.000000   8.396149  0.000000             0.000000   \n",
      "3     5.908051   7.615881  0.000000   8.017046  8.176538             0.000000   \n",
      "4     9.904310   0.000000  0.000000   0.000000  0.000000             9.524028   \n",
      "...        ...        ...       ...        ...       ...                  ...   \n",
      "5695  3.028602   4.722897  0.000000   0.000000  1.912452             0.000000   \n",
      "5696  4.212678   0.000000  0.000000   0.000000  3.665124             0.000000   \n",
      "5697  0.000000   0.000000  0.000000   0.000000  0.000000             0.000000   \n",
      "5698  1.726451   3.402318  3.888512   0.000000  0.000000             0.000000   \n",
      "5699  0.966311   0.000000  0.000000   0.000000  0.000000             0.000000   \n",
      "\n",
      "       Myalgia     Chill  Dizziness  Headache  Sore Throat  Nausea   Diarhea  \\\n",
      "0     0.000000  0.000000   0.000000  0.000000     0.000000     0.0  0.000000   \n",
      "1     0.000000  0.000000   5.946329  0.000000     0.000000     0.0  0.000000   \n",
      "2     0.000000  8.545903   0.000000  0.000000     9.144488     0.0  6.870031   \n",
      "3     4.334554  0.000000   0.000000  0.000000     0.000000     0.0  0.000000   \n",
      "4     6.945133  6.546888   7.962847  0.000000     0.000000     0.0  0.000000   \n",
      "...        ...       ...        ...       ...          ...     ...       ...   \n",
      "5695  1.711923  0.000000   0.000000  0.000000     3.876435     0.0  0.000000   \n",
      "5696  0.000000  2.931773   0.000000  0.000000     0.000000     0.0  0.000000   \n",
      "5697  0.000000  0.000000   4.801467  0.000000     0.000000     0.0  0.000000   \n",
      "5698  0.000000  0.000000   0.000000  4.630291     0.000000     0.0  0.000000   \n",
      "5699  0.000000  4.236061   0.000000  0.000000     0.000000     0.0  0.000000   \n",
      "\n",
      "      Congestion  \n",
      "0       0.000000  \n",
      "1       0.000000  \n",
      "2       0.000000  \n",
      "3       3.658963  \n",
      "4       0.000000  \n",
      "...          ...  \n",
      "5695    0.000000  \n",
      "5696    0.000000  \n",
      "5697    0.000000  \n",
      "5698    0.000000  \n",
      "5699    0.000000  \n",
      "\n",
      "[5700 rows x 14 columns]>\n"
     ]
    }
   ],
   "source": [
    "big_sev_list = []\n",
    "big_non_sev_list = []\n",
    "\n",
    "for symptom in symptoms:\n",
    "    ones = [norm(8, 2) for i in range(covid_df[symptom][0])]\n",
    "    zeroes = [0 for i in range(k_sev - covid_df[symptom][0])]\n",
    "    new_col = ones + zeroes\n",
    "    random.shuffle(new_col)\n",
    "    big_sev_list.append(new_col)\n",
    "    \n",
    "for symptom in symptoms:\n",
    "    ones = [norm(3,1) for i in range(covid_df[symptom][1])]\n",
    "    zeroes = [0 for i in range(k_non_sev - covid_df[symptom][1])]\n",
    "    new_col = ones + zeroes\n",
    "    random.shuffle(new_col)\n",
    "    big_non_sev_list.append(new_col)\n",
    "    \n",
    "big_sev_array = np.array(big_sev_list)\n",
    "big_non_sev_array = np.array(big_non_sev_list)\n",
    "\n",
    "big_sev_array = np.transpose(big_sev_array)\n",
    "big_non_sev_array = np.transpose(big_non_sev_array)\n",
    "\n",
    "print(big_sev_array.shape)\n",
    "print(big_non_sev_array.shape)\n",
    "big_data = np.concatenate((big_sev_array, big_non_sev_array), axis=0)\n",
    "print(big_data.shape)\n",
    "covid_df = pd.DataFrame(big_data, columns = symptoms)\n",
    "print(covid_df.head)\n",
    "\n",
    "#save final version\n",
    "#covid_df.to_csv('data/covid/covid_df.csv')"
   ]
  },
  {
   "cell_type": "code",
   "execution_count": 9,
   "id": "529336f3",
   "metadata": {},
   "outputs": [
    {
     "name": "stdout",
     "output_type": "stream",
     "text": [
      "      Fever      Cough   Fatigue    Dyspnea    Sputum  Shortness of Breath  \\\n",
      "0  0.000000   7.566467  8.326692  10.000000  0.000000             0.000000   \n",
      "1  0.000000  10.000000  8.032917   0.000000  0.000000            10.000000   \n",
      "2  7.474325   8.375201  0.000000   8.396149  0.000000             0.000000   \n",
      "3  5.908051   7.615881  0.000000   8.017046  8.176538             0.000000   \n",
      "4  9.904310   0.000000  0.000000   0.000000  0.000000             9.524028   \n",
      "\n",
      "    Myalgia     Chill  Dizziness  Headache  Sore Throat  Nausea   Diarhea  \\\n",
      "0  0.000000  0.000000   0.000000       0.0     0.000000     0.0  0.000000   \n",
      "1  0.000000  0.000000   5.946329       0.0     0.000000     0.0  0.000000   \n",
      "2  0.000000  8.545903   0.000000       0.0     9.144488     0.0  6.870031   \n",
      "3  4.334554  0.000000   0.000000       0.0     0.000000     0.0  0.000000   \n",
      "4  6.945133  6.546888   7.962847       0.0     0.000000     0.0  0.000000   \n",
      "\n",
      "   Congestion  \n",
      "0    0.000000  \n",
      "1    0.000000  \n",
      "2    0.000000  \n",
      "3    3.658963  \n",
      "4    0.000000  \n"
     ]
    }
   ],
   "source": [
    "covid_df = pd.read_csv(\"data/covid/covid_df.csv\")[symptoms]\n",
    "print(covid_df.head())"
   ]
  },
  {
   "cell_type": "markdown",
   "id": "e71163c1",
   "metadata": {},
   "source": [
    "## 2. Graph Building\n",
    "14 nodes"
   ]
  },
  {
   "cell_type": "code",
   "execution_count": 10,
   "id": "fc1a490a",
   "metadata": {},
   "outputs": [
    {
     "name": "stdout",
     "output_type": "stream",
     "text": [
      "                element         r\n",
      "0                 Fever  2.414563\n",
      "1                 Cough  1.729239\n",
      "2               Fatigue  1.047327\n",
      "3                Sputum  0.247917\n",
      "4   Shortness of Breath -0.129866\n",
      "5               Dyspnea -0.137169\n",
      "6               Myalgia -0.318367\n",
      "7                 Chill -0.361105\n",
      "8             Dizziness -0.517530\n",
      "9              Headache -0.580460\n",
      "10          Sore Throat -0.731391\n",
      "11              Diarhea -0.864645\n",
      "12               Nausea -0.867256\n",
      "13           Congestion -0.931256\n",
      "error:  1.0595062756095328e-27\n"
     ]
    }
   ],
   "source": [
    "(covid_rank, covid_rank_error) = rank(covid_df)\n",
    "print(covid_rank)\n",
    "print(\"error: \", covid_rank_error)"
   ]
  },
  {
   "cell_type": "code",
   "execution_count": 11,
   "id": "b25ef411",
   "metadata": {},
   "outputs": [],
   "source": [
    "#save final version\n",
    "covid_rank.to_csv('data/covid/covid_rank.csv')"
   ]
  }
 ],
 "metadata": {
  "kernelspec": {
   "display_name": "Python 3 (ipykernel)",
   "language": "python",
   "name": "python3"
  },
  "language_info": {
   "codemirror_mode": {
    "name": "ipython",
    "version": 3
   },
   "file_extension": ".py",
   "mimetype": "text/x-python",
   "name": "python",
   "nbconvert_exporter": "python",
   "pygments_lexer": "ipython3",
   "version": "3.9.2"
  }
 },
 "nbformat": 4,
 "nbformat_minor": 5
}
