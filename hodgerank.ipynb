{
 "cells": [
  {
   "cell_type": "code",
   "execution_count": 36,
   "id": "6bd13180",
   "metadata": {},
   "outputs": [],
   "source": [
    "import csv\n",
    "import pandas as pd\n",
    "import numpy as np\n"
   ]
  },
  {
   "cell_type": "markdown",
   "id": "4f94f8a0",
   "metadata": {},
   "source": [
    "## 1. Preprocessing\n",
    "### Import csv file"
   ]
  },
  {
   "cell_type": "code",
   "execution_count": 56,
   "id": "d173697e",
   "metadata": {},
   "outputs": [],
   "source": [
    "covid_df = pd.read_csv(\"data/Cleaned-Data.csv\")"
   ]
  },
  {
   "cell_type": "code",
   "execution_count": 57,
   "id": "782677c1",
   "metadata": {},
   "outputs": [
    {
     "name": "stdout",
     "output_type": "stream",
     "text": [
      "   Fever  Tiredness  Dry-Cough  Difficulty-in-Breathing  Sore-Throat  \\\n",
      "0      1          1          1                        1            1   \n",
      "1      1          1          1                        1            1   \n",
      "2      1          1          1                        1            1   \n",
      "3      1          1          1                        1            1   \n",
      "4      1          1          1                        1            1   \n",
      "\n",
      "   None_Sympton  Pains  Nasal-Congestion  Runny-Nose  Diarrhea  ...  \\\n",
      "0             0      1                 1           1         1  ...   \n",
      "1             0      1                 1           1         1  ...   \n",
      "2             0      1                 1           1         1  ...   \n",
      "3             0      1                 1           1         1  ...   \n",
      "4             0      1                 1           1         1  ...   \n",
      "\n",
      "   Gender_Male  Gender_Transgender  Severity_Mild  Severity_Moderate  \\\n",
      "0            1                   0              1                  0   \n",
      "1            1                   0              1                  0   \n",
      "2            1                   0              1                  0   \n",
      "3            1                   0              0                  1   \n",
      "4            1                   0              0                  1   \n",
      "\n",
      "   Severity_None  Severity_Severe  Contact_Dont-Know  Contact_No  Contact_Yes  \\\n",
      "0              0                0                  0           0            1   \n",
      "1              0                0                  0           1            0   \n",
      "2              0                0                  1           0            0   \n",
      "3              0                0                  0           0            1   \n",
      "4              0                0                  0           1            0   \n",
      "\n",
      "   Country  \n",
      "0    China  \n",
      "1    China  \n",
      "2    China  \n",
      "3    China  \n",
      "4    China  \n",
      "\n",
      "[5 rows x 27 columns]\n"
     ]
    }
   ],
   "source": [
    "print(covid_df.head())\n",
    "# run this if you want to run this very quickly\n",
    "# covid_df = covid_df.head(100)"
   ]
  },
  {
   "cell_type": "code",
   "execution_count": 58,
   "id": "88928c44",
   "metadata": {},
   "outputs": [
    {
     "name": "stdout",
     "output_type": "stream",
     "text": [
      "9\n"
     ]
    }
   ],
   "source": [
    "symptoms = ['Fever','Tiredness', 'Dry-Cough', 'Difficulty-in-Breathing',  \n",
    "            'Sore-Throat', 'Pains',  'Nasal-Congestion',  'Runny-Nose',  'Diarrhea' ]\n",
    "print(len(symptoms))"
   ]
  },
  {
   "cell_type": "code",
   "execution_count": 59,
   "id": "9a1323c7",
   "metadata": {},
   "outputs": [
    {
     "data": {
      "text/plain": [
       "0    288000\n",
       "1     28800\n",
       "Name: None_Experiencing, dtype: int64"
      ]
     },
     "execution_count": 59,
     "metadata": {},
     "output_type": "execute_result"
    }
   ],
   "source": [
    "covid_df[\"None_Experiencing\"].value_counts()"
   ]
  },
  {
   "cell_type": "markdown",
   "id": "85e6df1e",
   "metadata": {},
   "source": [
    "- what is none-symptoms?\n",
    "- what is none-experiencing"
   ]
  },
  {
   "cell_type": "markdown",
   "id": "ee92aeac",
   "metadata": {},
   "source": [
    "### Omit irrelevant columns"
   ]
  },
  {
   "cell_type": "code",
   "execution_count": 60,
   "id": "58da3e5e",
   "metadata": {},
   "outputs": [],
   "source": [
    "#covid_df.drop(covid_df.index[covid_df['None_Experiencing'] == 1], inplace=True)"
   ]
  },
  {
   "cell_type": "code",
   "execution_count": 61,
   "id": "bad190ad",
   "metadata": {},
   "outputs": [],
   "source": [
    "covid_df.drop(['None_Experiencing', 'None_Sympton', 'Gender_Male', 'Gender_Transgender', 'Contact_Dont-Know', 'Contact_No','Contact_Yes', 'Age_0-9', 'Age_10-19','Age_20-24' ,'Age_25-59', 'Age_60+','Gender_Female','Country'  ], axis=1, inplace=True)\n"
   ]
  },
  {
   "cell_type": "code",
   "execution_count": 62,
   "id": "c384922a",
   "metadata": {},
   "outputs": [
    {
     "name": "stdout",
     "output_type": "stream",
     "text": [
      "   Fever  Tiredness  Dry-Cough  Difficulty-in-Breathing  Sore-Throat  Pains  \\\n",
      "0    1.0        1.0        1.0                      1.0          1.0    1.0   \n",
      "1    1.0        1.0        1.0                      1.0          1.0    1.0   \n",
      "2    1.0        1.0        1.0                      1.0          1.0    1.0   \n",
      "3    1.0        1.0        1.0                      1.0          1.0    1.0   \n",
      "4    1.0        1.0        1.0                      1.0          1.0    1.0   \n",
      "\n",
      "   Nasal-Congestion  Runny-Nose  Diarrhea  Severity_Mild  Severity_Moderate  \\\n",
      "0               1.0         1.0       1.0            1.0                0.0   \n",
      "1               1.0         1.0       1.0            1.0                0.0   \n",
      "2               1.0         1.0       1.0            1.0                0.0   \n",
      "3               1.0         1.0       1.0            0.0                1.0   \n",
      "4               1.0         1.0       1.0            0.0                1.0   \n",
      "\n",
      "   Severity_None  Severity_Severe  \n",
      "0            0.0              0.0  \n",
      "1            0.0              0.0  \n",
      "2            0.0              0.0  \n",
      "3            0.0              0.0  \n",
      "4            0.0              0.0  \n"
     ]
    }
   ],
   "source": [
    "covid_df = covid_df.astype(float)\n",
    "print(covid_df.head())\n"
   ]
  },
  {
   "cell_type": "code",
   "execution_count": null,
   "id": "2e772ee0",
   "metadata": {},
   "outputs": [],
   "source": []
  },
  {
   "cell_type": "markdown",
   "id": "67a67713",
   "metadata": {},
   "source": [
    "### Naive Multiplier\n",
    "Severity_Mild ->  normal distribution around 2 with SD = 1 <br>\n",
    "Severity_Moderate -> normal dist around 5 with SD = 2<br>\n",
    "Severity_Severe -> normal dist around 8 with SD = 3<br>\n",
    "Severity_None -> normal dist around 5 with SD = 2<br>\n",
    "\n"
   ]
  },
  {
   "cell_type": "markdown",
   "id": "121f97e5",
   "metadata": {},
   "source": [
    "#### Put data onto a normal distribution"
   ]
  },
  {
   "cell_type": "code",
   "execution_count": 63,
   "id": "6c46bbc3",
   "metadata": {},
   "outputs": [],
   "source": [
    "# multiply all values by scalar, with sd, around normal dist\n",
    "def multiplier(row, scalar, sd = None, normal_dist = True):\n",
    "    if normal_dist:\n",
    "        for symptom in symptoms:\n",
    "            row[symptom] = np.abs(row[symptom]*np.random.normal(scalar, sd)) #TODO: cap\n",
    "    else:\n",
    "        for symptom in symptoms:\n",
    "            row[symptom] = row[symptom]*scalar   \n",
    "    return row"
   ]
  },
  {
   "cell_type": "code",
   "execution_count": 64,
   "id": "9a71bec2",
   "metadata": {},
   "outputs": [],
   "source": [
    "covid_df = covid_df.reset_index()  # make sure indexes pair with number of rows\n",
    "for index, row in covid_df.iterrows():\n",
    "    if row['Severity_Mild'] == 1:\n",
    "        covid_df.iloc[index] = multiplier(row, 2, 1)\n",
    "        continue\n",
    "    elif row['Severity_Moderate'] == 1:\n",
    "        covid_df.iloc[index] = multiplier(row, 5, 2)\n",
    "        continue\n",
    "    elif row['Severity_Severe'] == 1:\n",
    "        covid_df.iloc[index] = multiplier(row, 8, 3)\n",
    "        continue\n",
    "    elif row['Severity_None'] == 1:\n",
    "        covid_df.iloc[index] = multiplier(row, 5, 2)\n",
    "        continue\n",
    "    else:\n",
    "        raise ValueError(\"One of the severity values must be 1\")"
   ]
  },
  {
   "cell_type": "code",
   "execution_count": 65,
   "id": "0c3b03db",
   "metadata": {},
   "outputs": [
    {
     "name": "stdout",
     "output_type": "stream",
     "text": [
      "    index      Fever  Tiredness  Dry-Cough  Difficulty-in-Breathing  \\\n",
      "0       0   2.846241   3.018200   1.441047                 0.088845   \n",
      "1       1   3.182810   3.081807   2.618098                 1.222165   \n",
      "2       2   0.249831   1.722238   0.476629                 1.319111   \n",
      "3       3   5.651155   1.330669   8.086235                 7.059070   \n",
      "4       4   8.505459   0.749368   3.348887                 4.809854   \n",
      "5       5   0.878850   3.009650   2.706943                 7.412909   \n",
      "6       6   5.724332  10.446826  12.540621                 5.224780   \n",
      "7       7  10.896401   2.833195   4.592786                 8.473242   \n",
      "8       8   7.943304  12.098439  10.408321                 5.837741   \n",
      "9       9   4.673250   4.209751   4.745019                 5.243909   \n",
      "10     10   5.405487   5.546573   5.141729                 7.488492   \n",
      "11     11   6.108640   3.682513   9.308877                 4.543714   \n",
      "12     12   2.130696   2.428616   0.986358                 1.101453   \n",
      "13     13   1.518328   0.845338   2.810478                 3.494508   \n",
      "14     14   2.125437   2.737154   2.007551                 2.664220   \n",
      "15     15   6.986873   7.119144   2.915061                 7.246314   \n",
      "16     16   4.729893   4.191918   4.584460                 5.474688   \n",
      "17     17   4.837727   3.234868   4.059325                 5.171810   \n",
      "18     18  11.355930  10.551463   5.312214                 9.794964   \n",
      "19     19   3.607279   5.243096   8.752275                10.296203   \n",
      "\n",
      "    Sore-Throat      Pains  Nasal-Congestion  Runny-Nose  Diarrhea  \\\n",
      "0      2.031247   2.285407          3.035005    4.174751  2.831377   \n",
      "1      4.027410   2.158607          1.888199    1.042649  0.622646   \n",
      "2      1.947270   1.437117          2.478940    3.172391  1.521576   \n",
      "3      1.296738   6.434023          4.544968    5.276968  6.847861   \n",
      "4      2.644083   1.321156          1.690082    5.658651  9.125953   \n",
      "5      4.651459   7.186438          5.400767    5.193510  4.567071   \n",
      "6      8.734525   3.206253          4.292422   12.260383  6.566172   \n",
      "7      6.485441   7.937425          2.929704   11.440719  4.776417   \n",
      "8      4.621949  11.070676          9.292956    9.099268  6.372009   \n",
      "9      6.575505   9.529223          4.521742    8.685249  5.786865   \n",
      "10     5.557512   4.501325          6.541557    3.294585  7.850289   \n",
      "11     3.310203   2.971518          5.941631    1.665357  2.812230   \n",
      "12     3.013294   3.076977          1.850399    3.695118  0.000000   \n",
      "13     3.633743   2.656002          0.674301    1.295814  0.000000   \n",
      "14     1.293273   1.747883          0.091690    2.026806  0.000000   \n",
      "15     7.762145   1.227211          4.571433    4.071770  0.000000   \n",
      "16     2.306122   3.097522          4.109324    4.531071  0.000000   \n",
      "17     6.954969   4.853914          6.146689    5.625728  0.000000   \n",
      "18    13.381264  12.492276          5.390336    7.969748  0.000000   \n",
      "19     8.349555   7.124964          7.992295    8.341206  0.000000   \n",
      "\n",
      "    Severity_Mild  Severity_Moderate  Severity_None  Severity_Severe  \n",
      "0             1.0                0.0            0.0              0.0  \n",
      "1             1.0                0.0            0.0              0.0  \n",
      "2             1.0                0.0            0.0              0.0  \n",
      "3             0.0                1.0            0.0              0.0  \n",
      "4             0.0                1.0            0.0              0.0  \n",
      "5             0.0                1.0            0.0              0.0  \n",
      "6             0.0                0.0            0.0              1.0  \n",
      "7             0.0                0.0            0.0              1.0  \n",
      "8             0.0                0.0            0.0              1.0  \n",
      "9             0.0                0.0            1.0              0.0  \n",
      "10            0.0                0.0            1.0              0.0  \n",
      "11            0.0                0.0            1.0              0.0  \n",
      "12            1.0                0.0            0.0              0.0  \n",
      "13            1.0                0.0            0.0              0.0  \n",
      "14            1.0                0.0            0.0              0.0  \n",
      "15            0.0                1.0            0.0              0.0  \n",
      "16            0.0                1.0            0.0              0.0  \n",
      "17            0.0                1.0            0.0              0.0  \n",
      "18            0.0                0.0            0.0              1.0  \n",
      "19            0.0                0.0            0.0              1.0  \n"
     ]
    }
   ],
   "source": [
    "print(covid_df.head(20))\n"
   ]
  },
  {
   "cell_type": "markdown",
   "id": "e71163c1",
   "metadata": {},
   "source": [
    "## 2. Graph Building\n",
    "9 nodes"
   ]
  },
  {
   "cell_type": "code",
   "execution_count": 66,
   "id": "fd848c1a",
   "metadata": {},
   "outputs": [],
   "source": [
    "edges = []\n",
    "for i in range(len(symptoms)):\n",
    "        for j in range(i +1, len(symptoms)):\n",
    "            edges.append((i,j))\n",
    "triangles = []\n",
    "for i in range(len(symptoms)):\n",
    "        for j in range(i +1, len(symptoms)):\n",
    "            for h in range(j + 1, len(symptoms)):\n",
    "                triangles.append((i,j, h))\n",
    "adj_matrix = np.zeros((len(symptoms), len(symptoms)))\n",
    "curl = np.zeros((len(edges), len(triangles)))\n",
    "neg_divergence = np.zeros((len(edges), len(symptoms)))\n",
    "f = np.zeros((len(edges)))\n",
    "W = np.zeros((len(edges), len(edges)))"
   ]
  },
  {
   "cell_type": "code",
   "execution_count": 67,
   "id": "71b005bb",
   "metadata": {},
   "outputs": [
    {
     "name": "stdout",
     "output_type": "stream",
     "text": [
      "[(0, 1, 2), (0, 1, 3), (0, 1, 4), (0, 1, 5), (0, 1, 6), (0, 1, 7), (0, 1, 8), (0, 2, 3), (0, 2, 4), (0, 2, 5), (0, 2, 6), (0, 2, 7), (0, 2, 8), (0, 3, 4), (0, 3, 5), (0, 3, 6), (0, 3, 7), (0, 3, 8), (0, 4, 5), (0, 4, 6), (0, 4, 7), (0, 4, 8), (0, 5, 6), (0, 5, 7), (0, 5, 8), (0, 6, 7), (0, 6, 8), (0, 7, 8), (1, 2, 3), (1, 2, 4), (1, 2, 5), (1, 2, 6), (1, 2, 7), (1, 2, 8), (1, 3, 4), (1, 3, 5), (1, 3, 6), (1, 3, 7), (1, 3, 8), (1, 4, 5), (1, 4, 6), (1, 4, 7), (1, 4, 8), (1, 5, 6), (1, 5, 7), (1, 5, 8), (1, 6, 7), (1, 6, 8), (1, 7, 8), (2, 3, 4), (2, 3, 5), (2, 3, 6), (2, 3, 7), (2, 3, 8), (2, 4, 5), (2, 4, 6), (2, 4, 7), (2, 4, 8), (2, 5, 6), (2, 5, 7), (2, 5, 8), (2, 6, 7), (2, 6, 8), (2, 7, 8), (3, 4, 5), (3, 4, 6), (3, 4, 7), (3, 4, 8), (3, 5, 6), (3, 5, 7), (3, 5, 8), (3, 6, 7), (3, 6, 8), (3, 7, 8), (4, 5, 6), (4, 5, 7), (4, 5, 8), (4, 6, 7), (4, 6, 8), (4, 7, 8), (5, 6, 7), (5, 6, 8), (5, 7, 8), (6, 7, 8)]\n",
      "[(0, 1), (0, 2), (0, 3), (0, 4), (0, 5), (0, 6), (0, 7), (0, 8), (1, 2), (1, 3), (1, 4), (1, 5), (1, 6), (1, 7), (1, 8), (2, 3), (2, 4), (2, 5), (2, 6), (2, 7), (2, 8), (3, 4), (3, 5), (3, 6), (3, 7), (3, 8), (4, 5), (4, 6), (4, 7), (4, 8), (5, 6), (5, 7), (5, 8), (6, 7), (6, 8), (7, 8)]\n"
     ]
    }
   ],
   "source": [
    "print(triangles)\n",
    "print(edges)"
   ]
  },
  {
   "cell_type": "code",
   "execution_count": 68,
   "id": "bf13654b",
   "metadata": {},
   "outputs": [],
   "source": [
    "# f, w\n",
    "for index, row in covid_df.iterrows():\n",
    "    for i, edge in enumerate(edges):\n",
    "        if (row[symptoms[edge[0]]] != 0) and (row[symptoms[edge[1]]] != 0):\n",
    "            W[i, i] += (row[symptoms[edge[0]]] - row[symptoms[edge[1]]])\n",
    "            f[i] += 1\n",
    "for i in range(len(edges)):\n",
    "    W[i, i] = W[i, i]*1/f[i]"
   ]
  },
  {
   "cell_type": "code",
   "execution_count": 69,
   "id": "c8ff6693",
   "metadata": {},
   "outputs": [
    {
     "name": "stdout",
     "output_type": "stream",
     "text": [
      "[ 79200.  59400.  39600.  19800.  36000.  54000.  54000.  36000. 118800.\n",
      "  79200.  39600.  57600.  86400.  86400.  57600. 118800.  59400.  64800.\n",
      "  97200.  97200.  64800.  79200.  57600.  86400.  86400.  57600.  36000.\n",
      "  54000.  54000.  36000.  86400.  57600.  28800. 115200.  57600.  86400.]\n",
      "[[-0.01491773  0.          0.         ...  0.          0.\n",
      "   0.        ]\n",
      " [ 0.         -0.00601042  0.         ...  0.          0.\n",
      "   0.        ]\n",
      " [ 0.          0.         -0.02647151 ...  0.          0.\n",
      "   0.        ]\n",
      " ...\n",
      " [ 0.          0.          0.         ...  0.00768889  0.\n",
      "   0.        ]\n",
      " [ 0.          0.          0.         ...  0.         -0.0003365\n",
      "   0.        ]\n",
      " [ 0.          0.          0.         ...  0.          0.\n",
      "  -0.01398349]]\n"
     ]
    }
   ],
   "source": [
    "print(f)\n",
    "print(W)"
   ]
  },
  {
   "cell_type": "code",
   "execution_count": 70,
   "id": "3cefe5d4",
   "metadata": {},
   "outputs": [
    {
     "name": "stdout",
     "output_type": "stream",
     "text": [
      "[[ 0.         -0.94383165 -1.25711685 -0.94221686 -0.00182082 -0.25983909\n",
      "  -1.17513755 -1.16873872 -0.26155825]\n",
      " [ 0.          0.         -0.3132852   0.00161479  0.94201082  0.68399256\n",
      "  -0.23130591 -0.22490708  0.68227339]\n",
      " [ 0.          0.          0.          0.31489999  1.25529602  0.99727776\n",
      "   0.0819793   0.08837813  0.9955586 ]\n",
      " [ 0.          0.          0.          0.          0.94039603  0.68237777\n",
      "  -0.23292069 -0.22652186  0.68065861]\n",
      " [ 0.          0.          0.          0.          0.         -0.25801826\n",
      "  -1.17331673 -1.1669179  -0.25973743]\n",
      " [ 0.          0.          0.          0.          0.          0.\n",
      "  -0.91529846 -0.90889963 -0.00171916]\n",
      " [ 0.          0.          0.          0.          0.          0.\n",
      "   0.          0.00639883  0.9135793 ]\n",
      " [ 0.          0.          0.          0.          0.          0.\n",
      "   0.          0.          0.90718047]\n",
      " [ 0.          0.          0.          0.          0.          0.\n",
      "   0.          0.          0.        ]]\n"
     ]
    }
   ],
   "source": [
    "# adj_matrix\n",
    "for index, row in covid_df.iterrows():\n",
    "    for i in range(len(symptoms)):\n",
    "        for j in range(i +1, len(symptoms)):\n",
    "            adj_matrix[i, j] += (row[symptoms[i]] - row[symptoms[j]])/len(covid_df) #divide by #ppl with both symptoms\n",
    "print(adj_matrix)"
   ]
  },
  {
   "cell_type": "code",
   "execution_count": 71,
   "id": "c30a6d9b",
   "metadata": {},
   "outputs": [
    {
     "name": "stdout",
     "output_type": "stream",
     "text": [
      "[[-1.  1.  0.  0.  0.  0.  0.  0.  0.]\n",
      " [-1.  0.  1.  0.  0.  0.  0.  0.  0.]\n",
      " [-1.  0.  0.  1.  0.  0.  0.  0.  0.]\n",
      " [-1.  0.  0.  0.  1.  0.  0.  0.  0.]\n",
      " [-1.  0.  0.  0.  0.  1.  0.  0.  0.]\n",
      " [-1.  0.  0.  0.  0.  0.  1.  0.  0.]\n",
      " [-1.  0.  0.  0.  0.  0.  0.  1.  0.]\n",
      " [-1.  0.  0.  0.  0.  0.  0.  0.  1.]\n",
      " [ 0. -1.  1.  0.  0.  0.  0.  0.  0.]\n",
      " [ 0. -1.  0.  1.  0.  0.  0.  0.  0.]\n",
      " [ 0. -1.  0.  0.  1.  0.  0.  0.  0.]\n",
      " [ 0. -1.  0.  0.  0.  1.  0.  0.  0.]\n",
      " [ 0. -1.  0.  0.  0.  0.  1.  0.  0.]\n",
      " [ 0. -1.  0.  0.  0.  0.  0.  1.  0.]\n",
      " [ 0. -1.  0.  0.  0.  0.  0.  0.  1.]\n",
      " [ 0.  0. -1.  1.  0.  0.  0.  0.  0.]\n",
      " [ 0.  0. -1.  0.  1.  0.  0.  0.  0.]\n",
      " [ 0.  0. -1.  0.  0.  1.  0.  0.  0.]\n",
      " [ 0.  0. -1.  0.  0.  0.  1.  0.  0.]\n",
      " [ 0.  0. -1.  0.  0.  0.  0.  1.  0.]\n",
      " [ 0.  0. -1.  0.  0.  0.  0.  0.  1.]\n",
      " [ 0.  0.  0. -1.  1.  0.  0.  0.  0.]\n",
      " [ 0.  0.  0. -1.  0.  1.  0.  0.  0.]\n",
      " [ 0.  0.  0. -1.  0.  0.  1.  0.  0.]\n",
      " [ 0.  0.  0. -1.  0.  0.  0.  1.  0.]\n",
      " [ 0.  0.  0. -1.  0.  0.  0.  0.  1.]\n",
      " [ 0.  0.  0.  0. -1.  1.  0.  0.  0.]\n",
      " [ 0.  0.  0.  0. -1.  0.  1.  0.  0.]\n",
      " [ 0.  0.  0.  0. -1.  0.  0.  1.  0.]\n",
      " [ 0.  0.  0.  0. -1.  0.  0.  0.  1.]\n",
      " [ 0.  0.  0.  0.  0. -1.  1.  0.  0.]\n",
      " [ 0.  0.  0.  0.  0. -1.  0.  1.  0.]\n",
      " [ 0.  0.  0.  0.  0. -1.  0.  0.  1.]\n",
      " [ 0.  0.  0.  0.  0.  0. -1.  1.  0.]\n",
      " [ 0.  0.  0.  0.  0.  0. -1.  0.  1.]\n",
      " [ 0.  0.  0.  0.  0.  0.  0. -1.  1.]]\n"
     ]
    }
   ],
   "source": [
    "# neg_divergence\n",
    "for i in range(len(edges)):\n",
    "    for j in range(len(symptoms)):\n",
    "        if edges[i][0] == j:\n",
    "            neg_divergence[i,j] = -1\n",
    "        elif edges[i][1] == j:\n",
    "            neg_divergence[i,j] = 1\n",
    "print(neg_divergence)"
   ]
  },
  {
   "cell_type": "code",
   "execution_count": 72,
   "id": "f21338e9",
   "metadata": {},
   "outputs": [
    {
     "name": "stdout",
     "output_type": "stream",
     "text": [
      "[[ 1.  1.  1. ...  0.  0.  0.]\n",
      " [-1.  0.  0. ...  0.  0.  0.]\n",
      " [ 0. -1.  0. ...  0.  0.  0.]\n",
      " ...\n",
      " [ 0.  0.  0. ...  0.  0.  1.]\n",
      " [ 0.  0.  0. ...  1.  0. -1.]\n",
      " [ 0.  0.  0. ...  0.  1.  1.]]\n"
     ]
    }
   ],
   "source": [
    "# curl\n",
    "for j, tri in enumerate(triangles):\n",
    "    for i, edge in enumerate(edges):\n",
    "        if edge[0] in tri and edge[1] in tri:\n",
    "            first_edge = tri.index(edge[0])\n",
    "            if (first_edge + 1) % 3 == tri.index(edge[1]):\n",
    "                curl[i, j] = 1\n",
    "            else:\n",
    "                curl[i,j] = -1\n",
    "print(curl)"
   ]
  },
  {
   "cell_type": "markdown",
   "id": "e7003eaf",
   "metadata": {},
   "source": [
    "### Solving for r"
   ]
  },
  {
   "cell_type": "code",
   "execution_count": 73,
   "id": "31e84b63",
   "metadata": {},
   "outputs": [
    {
     "name": "stdout",
     "output_type": "stream",
     "text": [
      "[ -65536. -229376. -540672.  131072.  737280. -294912.       0.   98304.\n",
      "   65536.]\n"
     ]
    }
   ],
   "source": [
    "right_side = np.matmul(np.transpose(neg_divergence), np.matmul(W, f))\n",
    "left_side = np.matmul(np.matmul(np.transpose(neg_divergence), W), neg_divergence)\n",
    "r = np.matmul(np.linalg.inv(left_side), right_side)\n",
    "print(r)"
   ]
  },
  {
   "cell_type": "markdown",
   "id": "82871515",
   "metadata": {},
   "source": [
    "### Solving for c"
   ]
  },
  {
   "cell_type": "code",
   "execution_count": 74,
   "id": "401601ce",
   "metadata": {},
   "outputs": [
    {
     "name": "stdout",
     "output_type": "stream",
     "text": [
      "[ 15728640. -13107200.  -7733248.   6733824.   2359296.   -983040.\n",
      "  -1966080.  26214400.   6815744.  -8847360. -10485760.   3145728.\n",
      "   1572864.  -1572864.   6160384.  -7602176.  12582912.   2228224.\n",
      "   8912896.  -3014656. -12058624.   -393216.  14155776.   4587520.\n",
      "  -5242880.   7667712. -11796480.  12582912.  -4194304.  -4194304.\n",
      "  -4718592.   8486912. -18087936.  11272192.   3276800.  14155776.\n",
      "  -4980736.   1015808.  -7864320.  -5242880.   7340032.   2064384.\n",
      "   3145728.    786432.  -2883584.  -1081344.   1048576.   5931008.\n",
      " -14680064.   8912896. -12910592.   2916352. -12058624.    -65536.\n",
      "   6553600.  -7864320.   7208960.   3276800.   7864320.    -65536.\n",
      "  -1064960.  -5636096.   9961472.   5767168.  -1605632.   6160384.\n",
      " -10485760.  -2162688.  -9437184.    278528.  -1572864.   8912896.\n",
      "   -983040.  -2031616. -24117248.   6553600.   8388608. -17301504.\n",
      "  -4980736.   -499712.   5636096.   3145728.  -4063232.   1966080.]\n"
     ]
    }
   ],
   "source": [
    "right_side = np.matmul(np.transpose(curl), np.matmul(W, f))\n",
    "left_side = np.matmul(np.matmul(np.transpose(curl), W), curl)\n",
    "c = np.matmul(np.linalg.inv(left_side), right_side)\n",
    "print(c)"
   ]
  },
  {
   "cell_type": "code",
   "execution_count": null,
   "id": "8931a210",
   "metadata": {},
   "outputs": [],
   "source": []
  }
 ],
 "metadata": {
  "kernelspec": {
   "display_name": "Python 3",
   "language": "python",
   "name": "python3"
  },
  "language_info": {
   "codemirror_mode": {
    "name": "ipython",
    "version": 3
   },
   "file_extension": ".py",
   "mimetype": "text/x-python",
   "name": "python",
   "nbconvert_exporter": "python",
   "pygments_lexer": "ipython3",
   "version": "3.8.8"
  }
 },
 "nbformat": 4,
 "nbformat_minor": 5
}
