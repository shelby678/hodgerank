{
 "cells": [
  {
   "cell_type": "code",
   "execution_count": 194,
   "id": "6bd13180",
   "metadata": {},
   "outputs": [],
   "source": [
    "import csv\n",
    "import pandas as pd\n",
    "import numpy as np\n",
    "import scipy.linalg as linalg\n"
   ]
  },
  {
   "cell_type": "code",
   "execution_count": 195,
   "id": "69278095",
   "metadata": {},
   "outputs": [],
   "source": [
    "symptoms = ['A', 'B', 'C','D']\n",
    "\n",
    "covid_df = pd.DataFrame(np.array([[3, 2, 2,5], [7, 8, 9, 0], [2, 2, 1,3]]), columns=symptoms)"
   ]
  },
  {
   "cell_type": "code",
   "execution_count": 196,
   "id": "782677c1",
   "metadata": {},
   "outputs": [
    {
     "name": "stdout",
     "output_type": "stream",
     "text": [
      "   A  B  C  D\n",
      "0  3  2  2  5\n",
      "1  7  8  9  0\n",
      "2  2  2  1  3\n"
     ]
    }
   ],
   "source": [
    "print(covid_df.head())\n",
    "# run this if you want to run this very quickly\n",
    "# covid_df = covid_df.head(100)"
   ]
  },
  {
   "cell_type": "code",
   "execution_count": 197,
   "id": "88928c44",
   "metadata": {},
   "outputs": [
    {
     "name": "stdout",
     "output_type": "stream",
     "text": [
      "4\n"
     ]
    }
   ],
   "source": [
    "symptoms = ['A', 'B', 'C','D']\n",
    "print(len(symptoms))"
   ]
  },
  {
   "cell_type": "code",
   "execution_count": 198,
   "id": "c384922a",
   "metadata": {},
   "outputs": [
    {
     "name": "stdout",
     "output_type": "stream",
     "text": [
      "     A    B    C    D\n",
      "0  3.0  2.0  2.0  5.0\n",
      "1  7.0  8.0  9.0  0.0\n",
      "2  2.0  2.0  1.0  3.0\n"
     ]
    }
   ],
   "source": [
    "covid_df = covid_df.astype(float)\n",
    "print(covid_df.head())\n"
   ]
  },
  {
   "cell_type": "code",
   "execution_count": null,
   "id": "2e772ee0",
   "metadata": {},
   "outputs": [],
   "source": []
  },
  {
   "cell_type": "markdown",
   "id": "e71163c1",
   "metadata": {},
   "source": [
    "## 2. Graph Building\n",
    "9 nodes"
   ]
  },
  {
   "cell_type": "code",
   "execution_count": 199,
   "id": "fd848c1a",
   "metadata": {},
   "outputs": [],
   "source": [
    "edges = []\n",
    "for i in range(len(symptoms)):\n",
    "        for j in range(i +1, len(symptoms)):\n",
    "            edges.append((i,j))\n",
    "triangles = []\n",
    "for i in range(len(symptoms)):\n",
    "        for j in range(i +1, len(symptoms)):\n",
    "            for h in range(j + 1, len(symptoms)):\n",
    "                triangles.append((i,j, h))\n",
    "adj_matrix = np.zeros((len(symptoms), len(symptoms)))\n",
    "curl = np.zeros((len(edges), len(triangles)))\n",
    "neg_divergence = np.zeros((len(edges), len(symptoms)))\n",
    "f = np.zeros((len(edges)))\n",
    "W = np.zeros((len(edges), len(edges)))"
   ]
  },
  {
   "cell_type": "code",
   "execution_count": 200,
   "id": "71b005bb",
   "metadata": {},
   "outputs": [
    {
     "name": "stdout",
     "output_type": "stream",
     "text": [
      "[(0, 1, 2), (0, 1, 3), (0, 2, 3), (1, 2, 3)]\n",
      "[(0, 1), (0, 2), (0, 3), (1, 2), (1, 3), (2, 3)]\n"
     ]
    }
   ],
   "source": [
    "print(triangles)\n",
    "print(edges)"
   ]
  },
  {
   "cell_type": "code",
   "execution_count": 201,
   "id": "bf13654b",
   "metadata": {},
   "outputs": [],
   "source": [
    "# f, w\n",
    "for index, row in covid_df.iterrows():\n",
    "    for i, edge in enumerate(edges):\n",
    "        if (row[symptoms[edge[0]]] != 0) and (row[symptoms[edge[1]]] != 0):\n",
    "            f[i] += -((row[symptoms[edge[0]]] - row[symptoms[edge[1]]]))\n",
    "            W[i, i] += 1\n",
    "for i in range(len(edges)):\n",
    "    f[i] = f[i]*1/W[i,i]"
   ]
  },
  {
   "cell_type": "code",
   "execution_count": 202,
   "id": "c8ff6693",
   "metadata": {},
   "outputs": [
    {
     "name": "stdout",
     "output_type": "stream",
     "text": [
      "[0.  0.  1.5 0.  2.  2.5]\n",
      "[[3. 0. 0. 0. 0. 0.]\n",
      " [0. 3. 0. 0. 0. 0.]\n",
      " [0. 0. 2. 0. 0. 0.]\n",
      " [0. 0. 0. 3. 0. 0.]\n",
      " [0. 0. 0. 0. 2. 0.]\n",
      " [0. 0. 0. 0. 0. 2.]]\n"
     ]
    }
   ],
   "source": [
    "print(f)\n",
    "print(W)"
   ]
  },
  {
   "cell_type": "code",
   "execution_count": 203,
   "id": "3cefe5d4",
   "metadata": {},
   "outputs": [
    {
     "name": "stdout",
     "output_type": "stream",
     "text": [
      "[[0.         0.         0.         1.33333333]\n",
      " [0.         0.         0.         1.33333333]\n",
      " [0.         0.         0.         1.33333333]\n",
      " [0.         0.         0.         0.        ]]\n"
     ]
    }
   ],
   "source": [
    "# adj_matrix\n",
    "for index, row in covid_df.iterrows():\n",
    "    for i in range(len(symptoms)):\n",
    "        for j in range(i +1, len(symptoms)):\n",
    "            adj_matrix[i, j] += (row[symptoms[i]] - row[symptoms[j]])/len(covid_df) #divide by #ppl with both symptoms\n",
    "print(adj_matrix)"
   ]
  },
  {
   "cell_type": "code",
   "execution_count": 204,
   "id": "c30a6d9b",
   "metadata": {},
   "outputs": [
    {
     "name": "stdout",
     "output_type": "stream",
     "text": [
      "[[-1.  1.  0.  0.]\n",
      " [-1.  0.  1.  0.]\n",
      " [-1.  0.  0.  1.]\n",
      " [ 0. -1.  1.  0.]\n",
      " [ 0. -1.  0.  1.]\n",
      " [ 0.  0. -1.  1.]]\n"
     ]
    }
   ],
   "source": [
    "# neg_divergence\n",
    "for i in range(len(edges)):\n",
    "    for j in range(len(symptoms)):\n",
    "        if edges[i][0] == j:\n",
    "            neg_divergence[i,j] = -1\n",
    "        elif edges[i][1] == j:\n",
    "            neg_divergence[i,j] = 1\n",
    "print(neg_divergence)"
   ]
  },
  {
   "cell_type": "code",
   "execution_count": 205,
   "id": "644aa3b4",
   "metadata": {},
   "outputs": [
    {
     "name": "stdout",
     "output_type": "stream",
     "text": [
      "[[ 2.  1.  1. -1. -1.  0.]\n",
      " [ 1.  2.  1.  1.  0. -1.]\n",
      " [ 1.  1.  2.  0.  1.  1.]\n",
      " [-1.  1.  0.  2.  1. -1.]\n",
      " [-1.  0.  1.  1.  2.  1.]\n",
      " [ 0. -1.  1. -1.  1.  2.]]\n"
     ]
    }
   ],
   "source": [
    "print(np.matmul(neg_divergence, np.transpose(neg_divergence)))"
   ]
  },
  {
   "cell_type": "code",
   "execution_count": 206,
   "id": "f21338e9",
   "metadata": {},
   "outputs": [
    {
     "name": "stdout",
     "output_type": "stream",
     "text": [
      "[[ 1.  1.  0.  0.]\n",
      " [-1.  0.  1.  0.]\n",
      " [ 0. -1. -1.  0.]\n",
      " [ 1.  0.  0.  1.]\n",
      " [ 0.  1.  0. -1.]\n",
      " [ 0.  0.  1.  1.]]\n"
     ]
    }
   ],
   "source": [
    "# curl\n",
    "for j, tri in enumerate(triangles):\n",
    "    for i, edge in enumerate(edges):\n",
    "        if edge[0] in tri and edge[1] in tri:\n",
    "            first_edge = tri.index(edge[0])\n",
    "            if (first_edge + 1) % 3 == tri.index(edge[1]):\n",
    "                curl[i, j] = 1\n",
    "            else:\n",
    "                curl[i,j] = -1\n",
    "print(curl)"
   ]
  },
  {
   "cell_type": "markdown",
   "id": "e7003eaf",
   "metadata": {},
   "source": [
    "### Solving for r"
   ]
  },
  {
   "cell_type": "code",
   "execution_count": 207,
   "id": "31e84b63",
   "metadata": {},
   "outputs": [
    {
     "name": "stdout",
     "output_type": "stream",
     "text": [
      "[-0.40909091 -0.5        -0.59090909  1.5       ]\n"
     ]
    }
   ],
   "source": [
    "right_side = np.matmul(np.transpose(neg_divergence), np.matmul(W, f))\n",
    "left_side = np.matmul(np.matmul(np.transpose(neg_divergence), W), neg_divergence)\n",
    "r = np.matmul(linalg.pinv(left_side), right_side)\n",
    "print(r)"
   ]
  },
  {
   "cell_type": "code",
   "execution_count": 212,
   "id": "e7edb93c",
   "metadata": {},
   "outputs": [
    {
     "name": "stdout",
     "output_type": "stream",
     "text": [
      "[-0.375 -0.5   -0.625  1.5  ]\n"
     ]
    }
   ],
   "source": [
    "right_side = np.matmul(np.transpose(neg_divergence),  f)\n",
    "left_side = np.matmul(np.transpose(neg_divergence), neg_divergence)\n",
    "r = np.matmul(linalg.pinv(left_side), right_side)\n",
    "print(r)"
   ]
  },
  {
   "cell_type": "code",
   "execution_count": 214,
   "id": "8f020430",
   "metadata": {},
   "outputs": [],
   "source": [
    "r = [4, 4, 4, 4]"
   ]
  },
  {
   "cell_type": "code",
   "execution_count": 215,
   "id": "94372546",
   "metadata": {},
   "outputs": [
    {
     "name": "stdout",
     "output_type": "stream",
     "text": [
      "0.0\n",
      "0.0\n",
      "4.5\n",
      "0.0\n",
      "8.0\n",
      "12.5\n",
      "25.0\n"
     ]
    }
   ],
   "source": [
    "sum = 0\n",
    "#(r[edges[i][0]] - r[edges[i][1]])\n",
    "for i in range(len(edges)):\n",
    "    to_add = W[i, i]*(f[i] + (r[edges[i][0]] - r[edges[i][1]]))*(f[i] + (r[edges[i][0]] - r[edges[i][1]]))\n",
    "    \n",
    "    sum += to_add\n",
    "    print(to_add)\n",
    "print(sum)"
   ]
  },
  {
   "cell_type": "code",
   "execution_count": 165,
   "id": "0058ef28",
   "metadata": {},
   "outputs": [
    {
     "name": "stdout",
     "output_type": "stream",
     "text": [
      "97.54545454545453\n"
     ]
    }
   ],
   "source": [
    "sum = 0\n",
    "#(r[edges[i][0]] - r[edges[i][1]])\n",
    "for i in range(len(edges)):\n",
    "    sum += W[i, i]*(f[i] - (r[edges[i][0]] - r[edges[i][1]]))*(f[i] - (r[edges[i][0]] - r[edges[i][1]]))\n",
    "print(sum)"
   ]
  },
  {
   "cell_type": "markdown",
   "id": "82871515",
   "metadata": {},
   "source": [
    "### Solving for c"
   ]
  },
  {
   "cell_type": "code",
   "execution_count": 74,
   "id": "401601ce",
   "metadata": {},
   "outputs": [
    {
     "name": "stdout",
     "output_type": "stream",
     "text": [
      "[ 15728640. -13107200.  -7733248.   6733824.   2359296.   -983040.\n",
      "  -1966080.  26214400.   6815744.  -8847360. -10485760.   3145728.\n",
      "   1572864.  -1572864.   6160384.  -7602176.  12582912.   2228224.\n",
      "   8912896.  -3014656. -12058624.   -393216.  14155776.   4587520.\n",
      "  -5242880.   7667712. -11796480.  12582912.  -4194304.  -4194304.\n",
      "  -4718592.   8486912. -18087936.  11272192.   3276800.  14155776.\n",
      "  -4980736.   1015808.  -7864320.  -5242880.   7340032.   2064384.\n",
      "   3145728.    786432.  -2883584.  -1081344.   1048576.   5931008.\n",
      " -14680064.   8912896. -12910592.   2916352. -12058624.    -65536.\n",
      "   6553600.  -7864320.   7208960.   3276800.   7864320.    -65536.\n",
      "  -1064960.  -5636096.   9961472.   5767168.  -1605632.   6160384.\n",
      " -10485760.  -2162688.  -9437184.    278528.  -1572864.   8912896.\n",
      "   -983040.  -2031616. -24117248.   6553600.   8388608. -17301504.\n",
      "  -4980736.   -499712.   5636096.   3145728.  -4063232.   1966080.]\n"
     ]
    }
   ],
   "source": [
    "right_side = np.matmul(np.transpose(curl), np.matmul(W, f))\n",
    "left_side = np.matmul(np.matmul(np.transpose(curl), W), curl)\n",
    "c = np.matmul(np.linalg.inv(left_side), right_side)\n",
    "print(c)"
   ]
  },
  {
   "cell_type": "code",
   "execution_count": null,
   "id": "8931a210",
   "metadata": {},
   "outputs": [],
   "source": []
  }
 ],
 "metadata": {
  "kernelspec": {
   "display_name": "Python 3",
   "language": "python",
   "name": "python3"
  },
  "language_info": {
   "codemirror_mode": {
    "name": "ipython",
    "version": 3
   },
   "file_extension": ".py",
   "mimetype": "text/x-python",
   "name": "python",
   "nbconvert_exporter": "python",
   "pygments_lexer": "ipython3",
   "version": "3.8.8"
  }
 },
 "nbformat": 4,
 "nbformat_minor": 5
}
