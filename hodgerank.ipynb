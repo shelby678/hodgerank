{
 "cells": [
  {
   "cell_type": "markdown",
   "id": "07edeba7",
   "metadata": {},
   "source": [
    "Note: this notebook has been modified specifically for use on the oxford data set!"
   ]
  },
  {
   "cell_type": "code",
   "execution_count": 25,
   "id": "6bd13180",
   "metadata": {},
   "outputs": [],
   "source": [
    "import csv\n",
    "import pandas as pd\n",
    "import numpy as np\n",
    "import random\n",
    "import csv"
   ]
  },
  {
   "cell_type": "markdown",
   "id": "4f94f8a0",
   "metadata": {},
   "source": [
    "## 1. Preprocessing\n",
    "### Create data"
   ]
  },
  {
   "cell_type": "code",
   "execution_count": 7,
   "id": "d173697e",
   "metadata": {},
   "outputs": [
    {
     "name": "stdout",
     "output_type": "stream",
     "text": [
      "   Fever  Cough  Fatigue  Dyspnea  Sputum  shortness  Myalgia  Chill  \\\n",
      "0   1216    978      830      608     517        491      358    358   \n",
      "1   3520   2841     1911      246    1211        553      566    471   \n",
      "\n",
      "   Dizziness  Headache  sore  Nausea  Diarhea  Congestion  \n",
      "0        222       155   107      81       78          39  \n",
      "1        523       584   419     246      251         221  \n"
     ]
    }
   ],
   "source": [
    "k_sev=1376\n",
    "k_non_sev=4324\n",
    "sev_p=[0.884,0.711,0.603,0.442,0.376,0.357,0.26,0.26,0.161,0.113,0.078,\n",
    "       0.059,0.057,0.028]\n",
    "non_sev_p=[0.814,0.657,0.442,0.057,0.28,0.128,0.131,0.109,0.121,0.135,0.097,\n",
    "           0.057,0.058,0.051]\n",
    "sev_n=[round(k_sev*i) for i in sev_p]\n",
    "non_sev_n=[round(k_non_sev*i) for i in non_sev_p]\n",
    "\n",
    "data = [sev_n, non_sev_n]\n",
    "symptoms = [\"Fever\", \"Cough\", \"Fatigue\", \"Dyspnea\", \"Sputum\", \"shortness\", \"Myalgia\", \"Chill\", \"Dizziness\", \"Headache\", \"sore\", \"Nausea\", \"Diarhea\", \"Congestion\"]\n",
    "covid_df = pd.DataFrame(data, columns = symptoms)\n",
    "\n",
    "print(covid_df)"
   ]
  },
  {
   "cell_type": "markdown",
   "id": "ecdac78e",
   "metadata": {},
   "source": [
    "Assume severe patients have a rating of around 2 "
   ]
  },
  {
   "cell_type": "code",
   "execution_count": 8,
   "id": "fc4f0f13",
   "metadata": {},
   "outputs": [],
   "source": [
    "# multiply all values by scalar, with sd, around normal dist\n",
    "def norm(center, sd):\n",
    "    rating = np.abs(np.random.normal(center, sd)) \n",
    "    if rating > 10: rating = 10\n",
    "    return rating"
   ]
  },
  {
   "cell_type": "code",
   "execution_count": 9,
   "id": "9fd2ddfa",
   "metadata": {},
   "outputs": [
    {
     "name": "stdout",
     "output_type": "stream",
     "text": [
      "(1376, 14)\n",
      "(4324, 14)\n",
      "(5700, 14)\n",
      "<bound method NDFrame.head of           Fever     Cough   Fatigue   Dyspnea     Sputum  shortness   Myalgia  \\\n",
      "0      9.594474  8.188026  5.355588  10.00000   0.000000   0.000000  9.627666   \n",
      "1      6.466608  0.000000  0.000000   0.00000   0.000000   0.000000  0.000000   \n",
      "2      5.871845  0.000000  0.000000   9.46079   0.000000   0.000000  7.327658   \n",
      "3     10.000000  6.107289  7.805434   0.00000  10.000000   0.000000  0.000000   \n",
      "4      0.000000  8.792409  0.000000   0.00000  10.000000   0.000000  0.000000   \n",
      "...         ...       ...       ...       ...        ...        ...       ...   \n",
      "5695   3.231399  0.000000  0.000000   0.00000   0.000000   0.000000  0.000000   \n",
      "5696   2.641801  0.000000  0.000000   0.00000   3.173997   0.000000  0.000000   \n",
      "5697   2.869739  0.000000  0.000000   0.00000   0.000000   0.000000  0.000000   \n",
      "5698   2.110753  2.878624  0.000000   0.00000   3.737779   4.325959  1.805099   \n",
      "5699   2.624982  3.654678  0.000000   0.00000   0.000000   0.000000  0.000000   \n",
      "\n",
      "         Chill  Dizziness   Headache      sore  Nausea  Diarhea  Congestion  \n",
      "0     0.000000   0.000000   0.000000  0.000000     0.0      0.0         0.0  \n",
      "1     0.000000   5.530324   0.000000  0.000000     0.0      0.0         0.0  \n",
      "2     0.000000   0.000000   6.203176  6.703363     0.0      0.0         0.0  \n",
      "3     0.000000   0.000000  10.000000  0.000000     0.0      0.0         0.0  \n",
      "4     0.000000   0.000000   8.329002  0.000000    10.0      0.0         0.0  \n",
      "...        ...        ...        ...       ...     ...      ...         ...  \n",
      "5695  0.000000   0.000000   0.000000  0.000000     0.0      0.0         0.0  \n",
      "5696  0.000000   0.934127   0.000000  0.000000     0.0      0.0         0.0  \n",
      "5697  0.000000   2.558953   0.000000  0.000000     0.0      0.0         0.0  \n",
      "5698  3.111655   0.000000   2.297203  0.000000     0.0      0.0         0.0  \n",
      "5699  0.000000   0.000000   0.000000  0.000000     0.0      0.0         0.0  \n",
      "\n",
      "[5700 rows x 14 columns]>\n"
     ]
    }
   ],
   "source": [
    "big_sev_list = []\n",
    "big_non_sev_list = []\n",
    "\n",
    "for symptom in symptoms:\n",
    "    ones = [norm(8, 2) for i in range(covid_df[symptom][0])]\n",
    "    zeroes = [0 for i in range(k_sev - covid_df[symptom][0])]\n",
    "    new_col = ones + zeroes\n",
    "    random.shuffle(new_col)\n",
    "    big_sev_list.append(new_col)\n",
    "    \n",
    "for symptom in symptoms:\n",
    "    ones = [norm(3,1) for i in range(covid_df[symptom][1])]\n",
    "    zeroes = [0 for i in range(k_non_sev - covid_df[symptom][1])]\n",
    "    new_col = ones + zeroes\n",
    "    random.shuffle(new_col)\n",
    "    big_non_sev_list.append(new_col)\n",
    "    \n",
    "big_sev_array = np.array(big_sev_list)\n",
    "big_non_sev_array = np.array(big_non_sev_list)\n",
    "\n",
    "big_sev_array = np.transpose(big_sev_array)\n",
    "big_non_sev_array = np.transpose(big_non_sev_array)\n",
    "\n",
    "print(big_sev_array.shape)\n",
    "print(big_non_sev_array.shape)\n",
    "big_data = np.concatenate((big_sev_array, big_non_sev_array), axis=0)\n",
    "print(big_data.shape)\n",
    "covid_df = pd.DataFrame(big_data, columns = symptoms)\n",
    "print(covid_df.head)\n",
    "\n",
    "#save final version"
   ]
  },
  {
   "cell_type": "code",
   "execution_count": 27,
   "id": "529336f3",
   "metadata": {},
   "outputs": [],
   "source": [
    "covid_df.to_csv('data/generated-data.csv')"
   ]
  },
  {
   "cell_type": "markdown",
   "id": "e71163c1",
   "metadata": {},
   "source": [
    "## 2. Graph Building\n",
    "14 nodes"
   ]
  },
  {
   "cell_type": "code",
   "execution_count": 10,
   "id": "fd848c1a",
   "metadata": {},
   "outputs": [],
   "source": [
    "edges = []\n",
    "for i in range(len(symptoms)):\n",
    "        for j in range(i +1, len(symptoms)):\n",
    "            edges.append((i,j))\n",
    "triangles = []\n",
    "for i in range(len(symptoms)):\n",
    "        for j in range(i +1, len(symptoms)):\n",
    "            for h in range(j + 1, len(symptoms)):\n",
    "                triangles.append((i,j, h))\n",
    "                \n",
    "adj_matrix = np.zeros((len(symptoms), len(symptoms)))\n",
    "curl = np.zeros((len(edges), len(triangles)))\n",
    "neg_divergence = np.zeros((len(edges), len(symptoms)))\n",
    "f = np.zeros((len(edges)))\n",
    "W = np.zeros((len(edges), len(edges)))"
   ]
  },
  {
   "cell_type": "code",
   "execution_count": 19,
   "id": "bf13654b",
   "metadata": {},
   "outputs": [],
   "source": [
    "# f, w\n",
    "for index, row in covid_df.iterrows():\n",
    "    for i, edge in enumerate(edges):\n",
    "        W[i, i] += 1\n",
    "        f[i] += (row[symptoms[edge[1]]] - row[symptoms[edge[0]]])\n",
    "for i in range(len(edges)):\n",
    "    f[i] = f[i]*1/W[i, i]"
   ]
  },
  {
   "cell_type": "code",
   "execution_count": 20,
   "id": "c8ff6693",
   "metadata": {},
   "outputs": [
    {
     "name": "stdout",
     "output_type": "stream",
     "text": [
      "[-0.33208238 -0.68028908 -1.27404536 -1.08177495 -1.27610753 -1.36725259\n",
      " -1.38519242 -1.47120097 -1.50108826 -1.57348806 -1.63699613 -1.6386804\n",
      " -1.67084764 -0.3482067  -0.94196297 -0.74969256 -0.94402515 -1.03517021\n",
      " -1.05311003 -1.13911858 -1.16900588 -1.24140567 -1.30491375 -1.30659802\n",
      " -1.33876525 -0.59375627 -0.40148586 -0.59581845 -0.68696351 -0.70490333\n",
      " -0.79091188 -0.82079917 -0.89319897 -0.95670705 -0.95839132 -0.99055855\n",
      "  0.19227041 -0.00206217 -0.09320724 -0.11114706 -0.19715561 -0.2270429\n",
      " -0.2994427  -0.36295077 -0.36463505 -0.39680228 -0.19433258 -0.28547764\n",
      " -0.30341747 -0.38942602 -0.41931331 -0.49171311 -0.55522118 -0.55690545\n",
      " -0.58907269 -0.09114506 -0.10908488 -0.19509343 -0.22498073 -0.29738053\n",
      " -0.3608886  -0.36257287 -0.39474011 -0.01793982 -0.10394837 -0.13383567\n",
      " -0.20623547 -0.26974354 -0.27142781 -0.30359504 -0.08600855 -0.11589584\n",
      " -0.18829564 -0.25180372 -0.25348799 -0.28565522 -0.02988729 -0.10228709\n",
      " -0.16579517 -0.16747944 -0.19964667 -0.0723998  -0.13590787 -0.13759214\n",
      " -0.16975938 -0.06350807 -0.06519234 -0.09735958 -0.00168427 -0.0338515\n",
      " -0.03216723]\n",
      "[[11400.     0.     0. ...     0.     0.     0.]\n",
      " [    0. 11400.     0. ...     0.     0.     0.]\n",
      " [    0.     0. 11400. ...     0.     0.     0.]\n",
      " ...\n",
      " [    0.     0.     0. ... 11400.     0.     0.]\n",
      " [    0.     0.     0. ...     0. 11400.     0.]\n",
      " [    0.     0.     0. ...     0.     0. 11400.]]\n"
     ]
    }
   ],
   "source": [
    "print(f)\n",
    "\n",
    "print(W)"
   ]
  },
  {
   "cell_type": "code",
   "execution_count": 21,
   "id": "3cefe5d4",
   "metadata": {},
   "outputs": [
    {
     "name": "stdout",
     "output_type": "stream",
     "text": [
      "[[ 0.          0.66428131  1.36081691  2.54853783  2.16392953  2.5526629\n",
      "   2.73498501  2.77087095  2.94291823  3.00270331  3.14752831  3.27456675\n",
      "   3.27793588  3.34228164]\n",
      " [ 0.          0.          0.6965356   1.88425652  1.49964823  1.88838159\n",
      "   2.0707037   2.10658964  2.27863692  2.338422    2.48324701  2.61028544\n",
      "   2.61365457  2.67800033]\n",
      " [ 0.          0.          0.          1.18772092  0.80311262  1.19184599\n",
      "   1.3741681   1.41005404  1.58210132  1.6418864   1.7867114   1.91374984\n",
      "   1.91711897  1.98146473]\n",
      " [ 0.          0.          0.          0.         -0.38460829  0.00412507\n",
      "   0.18644718  0.22233312  0.39438041  0.45416548  0.59899049  0.72602892\n",
      "   0.72939806  0.79374381]\n",
      " [ 0.          0.          0.          0.          0.          0.38873336\n",
      "   0.57105547  0.60694142  0.7789887   0.83877378  0.98359878  1.11063722\n",
      "   1.11400635  1.1783521 ]\n",
      " [ 0.          0.          0.          0.          0.          0.\n",
      "   0.18232211  0.21820805  0.39025534  0.45004041  0.59486542  0.72190385\n",
      "   0.72527298  0.78961874]\n",
      " [ 0.          0.          0.          0.          0.          0.\n",
      "   0.          0.03588594  0.20793323  0.2677183   0.41254331  0.53958174\n",
      "   0.54295088  0.60729663]\n",
      " [ 0.          0.          0.          0.          0.          0.\n",
      "   0.          0.          0.17204728  0.23183236  0.37665737  0.5036958\n",
      "   0.50706493  0.57141069]\n",
      " [ 0.          0.          0.          0.          0.          0.\n",
      "   0.          0.          0.          0.05978508  0.20461008  0.33164852\n",
      "   0.33501765  0.39936341]\n",
      " [ 0.          0.          0.          0.          0.          0.\n",
      "   0.          0.          0.          0.          0.14482501  0.27186344\n",
      "   0.27523257  0.33957833]\n",
      " [ 0.          0.          0.          0.          0.          0.\n",
      "   0.          0.          0.          0.          0.          0.12703843\n",
      "   0.13040757  0.19475332]\n",
      " [ 0.          0.          0.          0.          0.          0.\n",
      "   0.          0.          0.          0.          0.          0.\n",
      "   0.00336913  0.06771489]\n",
      " [ 0.          0.          0.          0.          0.          0.\n",
      "   0.          0.          0.          0.          0.          0.\n",
      "   0.          0.06434576]\n",
      " [ 0.          0.          0.          0.          0.          0.\n",
      "   0.          0.          0.          0.          0.          0.\n",
      "   0.          0.        ]]\n"
     ]
    }
   ],
   "source": [
    "# adj_matrix\n",
    "for index, row in covid_df.iterrows():\n",
    "    for i in range(len(symptoms)):\n",
    "        for j in range(i +1, len(symptoms)):\n",
    "            adj_matrix[i, j] += (row[symptoms[i]] - row[symptoms[j]])/len(covid_df) #divide by #ppl with both symptoms\n",
    "print(adj_matrix)"
   ]
  },
  {
   "cell_type": "code",
   "execution_count": 22,
   "id": "c30a6d9b",
   "metadata": {},
   "outputs": [
    {
     "name": "stdout",
     "output_type": "stream",
     "text": [
      "[[-1.  1.  0. ...  0.  0.  0.]\n",
      " [-1.  0.  1. ...  0.  0.  0.]\n",
      " [-1.  0.  0. ...  0.  0.  0.]\n",
      " ...\n",
      " [ 0.  0.  0. ... -1.  1.  0.]\n",
      " [ 0.  0.  0. ... -1.  0.  1.]\n",
      " [ 0.  0.  0. ...  0. -1.  1.]]\n"
     ]
    }
   ],
   "source": [
    "# neg_divergence\n",
    "for i in range(len(edges)):\n",
    "    for j in range(len(symptoms)):\n",
    "        if edges[i][0] == j:\n",
    "            neg_divergence[i,j] = -1\n",
    "        elif edges[i][1] == j:\n",
    "            neg_divergence[i,j] = 1\n",
    "print(neg_divergence)"
   ]
  },
  {
   "cell_type": "code",
   "execution_count": 23,
   "id": "f21338e9",
   "metadata": {},
   "outputs": [
    {
     "name": "stdout",
     "output_type": "stream",
     "text": [
      "[[ 1.  1.  1. ...  0.  0.  0.]\n",
      " [-1.  0.  0. ...  0.  0.  0.]\n",
      " [ 0. -1.  0. ...  0.  0.  0.]\n",
      " ...\n",
      " [ 0.  0.  0. ...  0.  0.  1.]\n",
      " [ 0.  0.  0. ...  1.  0. -1.]\n",
      " [ 0.  0.  0. ...  0.  1.  1.]]\n"
     ]
    }
   ],
   "source": [
    "# curl\n",
    "for j, tri in enumerate(triangles):\n",
    "    for i, edge in enumerate(edges):\n",
    "        if edge[0] in tri and edge[1] in tri:\n",
    "            first_edge = tri.index(edge[0])\n",
    "            if (first_edge + 1) % 3 == tri.index(edge[1]):\n",
    "                curl[i, j] = 1\n",
    "            else:\n",
    "                curl[i,j] = -1\n",
    "print(curl)"
   ]
  },
  {
   "cell_type": "markdown",
   "id": "e7003eaf",
   "metadata": {},
   "source": [
    "### Solving for r"
   ]
  },
  {
   "cell_type": "code",
   "execution_count": 24,
   "id": "31e84b63",
   "metadata": {},
   "outputs": [
    {
     "name": "stdout",
     "output_type": "stream",
     "text": [
      "[ 1.53125  1.28125  0.875    0.25     0.5      0.15625  0.125    0.21875\n",
      "  0.03125  0.      -0.09375 -0.03125 -0.15625 -0.15625]\n"
     ]
    }
   ],
   "source": [
    "right_side = np.matmul(np.transpose(neg_divergence), np.matmul(W, f))\n",
    "left_side = np.matmul(np.matmul(np.transpose(neg_divergence), W), neg_divergence)\n",
    "r = np.matmul(np.linalg.inv(left_side), right_side)\n",
    "print(r)"
   ]
  },
  {
   "cell_type": "code",
   "execution_count": 43,
   "id": "dca9ed30",
   "metadata": {},
   "outputs": [
    {
     "name": "stdout",
     "output_type": "stream",
     "text": [
      "      symptoms        r\n",
      "0        Fever  1.53125\n",
      "1        Cough  1.28125\n",
      "2      Fatigue  0.87500\n",
      "3      Dyspnea  0.25000\n",
      "4       Sputum  0.50000\n",
      "5    shortness  0.15625\n",
      "6      Myalgia  0.12500\n",
      "7        Chill  0.21875\n",
      "8    Dizziness  0.03125\n",
      "9     Headache  0.00000\n",
      "10        sore -0.09375\n",
      "11      Nausea -0.03125\n",
      "12     Diarhea -0.15625\n",
      "13  Congestion -0.15625\n",
      "      symptoms        r\n",
      "0        Fever  1.53125\n",
      "1        Cough  1.28125\n",
      "2      Fatigue  0.87500\n",
      "3       Sputum  0.50000\n",
      "4      Dyspnea  0.25000\n",
      "5        Chill  0.21875\n",
      "6    shortness  0.15625\n",
      "7      Myalgia  0.12500\n",
      "8    Dizziness  0.03125\n",
      "9     Headache  0.00000\n",
      "10      Nausea -0.03125\n",
      "11        sore -0.09375\n",
      "12     Diarhea -0.15625\n",
      "13  Congestion -0.15625\n"
     ]
    }
   ],
   "source": [
    "rank_df = pd.DataFrame({\n",
    "    'symptoms': symptoms,\n",
    "    'r': r\n",
    "})\n",
    "print(rank_df)\n",
    "\n",
    "rank_df = rank_df.sort_values(by =['r'],  ascending = False)\n",
    "rank_df = rank_df.reset_index(drop = True)\n",
    "print(rank_df)\n",
    "\n",
    "rank_df.to_csv('data/hodge_ranking.csv')"
   ]
  },
  {
   "cell_type": "markdown",
   "id": "82871515",
   "metadata": {},
   "source": [
    "### Solving for c"
   ]
  },
  {
   "cell_type": "code",
   "execution_count": 74,
   "id": "401601ce",
   "metadata": {},
   "outputs": [
    {
     "name": "stdout",
     "output_type": "stream",
     "text": [
      "[ 15728640. -13107200.  -7733248.   6733824.   2359296.   -983040.\n",
      "  -1966080.  26214400.   6815744.  -8847360. -10485760.   3145728.\n",
      "   1572864.  -1572864.   6160384.  -7602176.  12582912.   2228224.\n",
      "   8912896.  -3014656. -12058624.   -393216.  14155776.   4587520.\n",
      "  -5242880.   7667712. -11796480.  12582912.  -4194304.  -4194304.\n",
      "  -4718592.   8486912. -18087936.  11272192.   3276800.  14155776.\n",
      "  -4980736.   1015808.  -7864320.  -5242880.   7340032.   2064384.\n",
      "   3145728.    786432.  -2883584.  -1081344.   1048576.   5931008.\n",
      " -14680064.   8912896. -12910592.   2916352. -12058624.    -65536.\n",
      "   6553600.  -7864320.   7208960.   3276800.   7864320.    -65536.\n",
      "  -1064960.  -5636096.   9961472.   5767168.  -1605632.   6160384.\n",
      " -10485760.  -2162688.  -9437184.    278528.  -1572864.   8912896.\n",
      "   -983040.  -2031616. -24117248.   6553600.   8388608. -17301504.\n",
      "  -4980736.   -499712.   5636096.   3145728.  -4063232.   1966080.]\n"
     ]
    }
   ],
   "source": [
    "right_side = np.matmul(np.transpose(curl), np.matmul(W, f))\n",
    "left_side = np.matmul(np.matmul(np.transpose(curl), W), curl)\n",
    "c = np.matmul(np.linalg.inv(left_side), right_side)\n",
    "print(c)"
   ]
  },
  {
   "cell_type": "code",
   "execution_count": null,
   "id": "8931a210",
   "metadata": {},
   "outputs": [],
   "source": []
  }
 ],
 "metadata": {
  "kernelspec": {
   "display_name": "Python 3",
   "language": "python",
   "name": "python3"
  },
  "language_info": {
   "codemirror_mode": {
    "name": "ipython",
    "version": 3
   },
   "file_extension": ".py",
   "mimetype": "text/x-python",
   "name": "python",
   "nbconvert_exporter": "python",
   "pygments_lexer": "ipython3",
   "version": "3.8.8"
  }
 },
 "nbformat": 4,
 "nbformat_minor": 5
}
