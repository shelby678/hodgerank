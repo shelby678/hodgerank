{
 "cells": [
  {
   "cell_type": "markdown",
   "id": "d489749c",
   "metadata": {},
   "source": [
    "action items:\n",
    "- get r^2 error\n",
    "    - consider rescaling\n",
    "- save edge flows\n",
    "- do analysis on k\n",
    "- look into doing an uneven splitting"
   ]
  },
  {
   "cell_type": "markdown",
   "id": "d4ba885d",
   "metadata": {},
   "source": [
    "## 0. Processing Data\n",
    "- Loading data and dropping unecessary columns\n",
    "\n",
    "## 1. Naive Ranking\n",
    "- ranks based on average point difference\n",
    "\n",
    "## 2. Regular HR Rank\n",
    "- Runs on all 30 nodes once\n",
    "\n",
    "## 3. Initial Grouping Rank\n",
    "- Runs on 30/3 = 10 nodes at a time\n",
    "\n",
    "## 4. Improved Grouping Rank\n",
    "- Runs on 30/3 + 2 = 12 nodes at a time"
   ]
  },
  {
   "cell_type": "code",
   "execution_count": 1,
   "id": "6bd13180",
   "metadata": {},
   "outputs": [],
   "source": [
    "import csv\n",
    "import pandas as pd\n",
    "import numpy as np\n",
    "import math\n",
    "from scipy import stats\n",
    "from hodgerank_tools import *"
   ]
  },
  {
   "cell_type": "markdown",
   "id": "dc7bb4b6",
   "metadata": {},
   "source": [
    "## 0. Processing Data"
   ]
  },
  {
   "cell_type": "code",
   "execution_count": 2,
   "id": "d173697e",
   "metadata": {},
   "outputs": [],
   "source": [
    "big_game_df = pd.read_csv(\"data/nba/games.csv\")\n",
    "team_df = pd.read_csv(\"data/nba/teams.csv\")\n",
    "og_game_df = big_game_df[['GAME_ID','SEASON', 'HOME_TEAM_ID', 'VISITOR_TEAM_ID', 'PTS_home', 'PTS_away']].copy()\n",
    "og_game_df = og_game_df[og_game_df['SEASON'] == 2021]\n",
    "og_game_df.dropna( inplace = True)\n",
    "\n",
    "teams = set(og_game_df['HOME_TEAM_ID'].tolist())\n",
    "teams.update(set(og_game_df['VISITOR_TEAM_ID'].tolist()))\n",
    "teams = list(teams)\n",
    "\n",
    "team_names = []\n",
    "for team in teams:\n",
    "    team_names.append(str(team_df[team_df['TEAM_ID'] == team].iloc[0]['NICKNAME']))"
   ]
  },
  {
   "cell_type": "code",
   "execution_count": 3,
   "id": "a8bb378c",
   "metadata": {},
   "outputs": [
    {
     "name": "stdout",
     "output_type": "stream",
     "text": [
      "   Hawks  Celtics  Cavaliers  Pelicans  Bulls  Mavericks  Nuggets  Warriors  \\\n",
      "0    NaN      NaN        NaN       NaN    NaN        NaN      NaN       NaN   \n",
      "1    NaN      NaN       91.0       NaN  101.0        NaN      NaN       NaN   \n",
      "2    NaN      NaN        NaN       NaN    NaN        NaN      NaN       NaN   \n",
      "3    NaN      NaN        NaN       NaN    NaN        NaN      NaN     122.0   \n",
      "4    NaN      NaN        NaN       NaN    NaN        NaN    115.0       NaN   \n",
      "\n",
      "   Rockets  Clippers  ...  Trail Blazers  Kings  Spurs  Thunder  Raptors  \\\n",
      "0      NaN       NaN  ...            NaN    NaN    NaN      NaN      NaN   \n",
      "1      NaN       NaN  ...            NaN    NaN    NaN      NaN      NaN   \n",
      "2      NaN       NaN  ...            NaN    NaN  108.0      NaN      NaN   \n",
      "3      NaN       NaN  ...            NaN    NaN    NaN      NaN      NaN   \n",
      "4      NaN       NaN  ...            NaN    NaN    NaN      NaN    127.0   \n",
      "\n",
      "   Jazz  Grizzlies  Wizards  Pistons  Hornets  \n",
      "0   NaN        NaN      NaN      NaN      NaN  \n",
      "1   NaN        NaN      NaN      NaN      NaN  \n",
      "2   NaN        NaN      NaN      NaN      NaN  \n",
      "3   NaN        NaN      NaN      NaN      NaN  \n",
      "4   NaN        NaN      NaN      NaN      NaN  \n",
      "\n",
      "[5 rows x 30 columns]\n"
     ]
    }
   ],
   "source": [
    "data = []\n",
    "for i, game in og_game_df.iterrows():\n",
    "    to_add = [np.nan]*len(teams)\n",
    "    to_add[teams.index(game['VISITOR_TEAM_ID'])] = int(game['PTS_away'])\n",
    "    to_add[teams.index(game['HOME_TEAM_ID'])] =  int(game['PTS_home'])\n",
    "    data.append(to_add)\n",
    "\n",
    "game_df = pd.DataFrame(data = data, columns = team_names)\n",
    "print(game_df.head())"
   ]
  },
  {
   "cell_type": "markdown",
   "id": "9bc6ceae",
   "metadata": {},
   "source": [
    "## 1. Naive Ranks"
   ]
  },
  {
   "cell_type": "code",
   "execution_count": 4,
   "id": "dc9f61f5",
   "metadata": {},
   "outputs": [
    {
     "name": "stdout",
     "output_type": "stream",
     "text": [
      "          element           r\n",
      "0    Timberwolves  114.602740\n",
      "1           Bucks  114.150685\n",
      "2            Suns  113.788732\n",
      "3       Grizzlies  113.648649\n",
      "4            Jazz  113.605634\n",
      "5         Hornets  113.402778\n",
      "6           Bulls  112.605634\n",
      "7           Spurs  112.287671\n",
      "8           Hawks  112.000000\n",
      "9        Warriors  111.821918\n",
      "10           Nets  111.464789\n",
      "11        Nuggets  110.917808\n",
      "12         Lakers  110.444444\n",
      "13          Kings  110.397260\n",
      "14         Pacers  110.055556\n",
      "15           Heat  109.533333\n",
      "16        Celtics  109.375000\n",
      "17        Raptors  109.138889\n",
      "18        Rockets  108.704225\n",
      "19          76ers  108.695652\n",
      "20        Wizards  108.371429\n",
      "21      Mavericks  107.436620\n",
      "22       Pelicans  107.394366\n",
      "23       Clippers  106.753425\n",
      "24         Knicks  106.507042\n",
      "25  Trail Blazers  106.342857\n",
      "26      Cavaliers  106.277778\n",
      "27        Pistons  103.661972\n",
      "28          Magic  103.625000\n",
      "29        Thunder  102.500000\n",
      "error:  48872.85631469036\n"
     ]
    }
   ],
   "source": [
    "(naive_r0, naive_r0_error) = naive_rank_0(game_df)\n",
    "print(naive_r0)\n",
    "print(\"error: \", naive_r0_error)"
   ]
  },
  {
   "cell_type": "code",
   "execution_count": 5,
   "id": "1a0a8e10",
   "metadata": {},
   "outputs": [
    {
     "name": "stdout",
     "output_type": "stream",
     "text": [
      "          element         r\n",
      "0            Suns  8.281690\n",
      "1        Warriors  6.794521\n",
      "2            Jazz  6.014085\n",
      "3       Grizzlies  5.270270\n",
      "4         Celtics  5.125000\n",
      "5            Heat  4.546667\n",
      "6       Mavericks  4.253521\n",
      "7           Bucks  3.465753\n",
      "8    Timberwolves  3.178082\n",
      "9           Bulls  2.718310\n",
      "10      Cavaliers  2.402778\n",
      "11        Nuggets  2.315068\n",
      "12          76ers  1.884058\n",
      "13        Raptors  1.625000\n",
      "14          Hawks  0.785714\n",
      "15          Spurs  0.136986\n",
      "16           Nets -0.056338\n",
      "17         Knicks -0.309859\n",
      "18       Clippers -1.383562\n",
      "19        Hornets -1.472222\n",
      "20         Pacers -2.541667\n",
      "21       Pelicans -2.690141\n",
      "22         Lakers -3.152778\n",
      "23        Wizards -3.157143\n",
      "24          Kings -4.342466\n",
      "25  Trail Blazers -7.257143\n",
      "26          Magic -7.388889\n",
      "27        Thunder -7.857143\n",
      "28        Pistons -8.830986\n",
      "29        Rockets -9.239437\n",
      "error:  37837.91328543654\n"
     ]
    }
   ],
   "source": [
    "(naive_r, naive_r_error) = naive_rank(game_df)\n",
    "print(naive_r)\n",
    "print(\"error: \", naive_r_error)"
   ]
  },
  {
   "cell_type": "markdown",
   "id": "2219fcaf",
   "metadata": {},
   "source": [
    "## 2. HodgeRank"
   ]
  },
  {
   "cell_type": "code",
   "execution_count": 6,
   "id": "ae54878a",
   "metadata": {},
   "outputs": [
    {
     "name": "stdout",
     "output_type": "stream",
     "text": [
      "          element         r\n",
      "0            Suns  7.556319\n",
      "1        Warriors  6.492398\n",
      "2            Jazz  5.609594\n",
      "3       Grizzlies  4.829419\n",
      "4         Celtics  4.436565\n",
      "5            Heat  4.335416\n",
      "6       Mavericks  4.225644\n",
      "7           Bucks  3.164290\n",
      "8    Timberwolves  2.894025\n",
      "9       Cavaliers  2.364359\n",
      "10          Bulls  2.351655\n",
      "11        Nuggets  2.102093\n",
      "12          76ers  1.767214\n",
      "13        Raptors  1.702416\n",
      "14          Hawks  1.282467\n",
      "15           Nets  0.101050\n",
      "16          Spurs  0.045777\n",
      "17         Knicks -0.306826\n",
      "18       Clippers -1.228548\n",
      "19        Hornets -1.299388\n",
      "20       Pelicans -2.183597\n",
      "21         Pacers -2.251863\n",
      "22         Lakers -3.192266\n",
      "23        Wizards -3.263490\n",
      "24          Kings -4.236429\n",
      "25  Trail Blazers -6.199932\n",
      "26          Magic -6.842637\n",
      "27        Thunder -7.306982\n",
      "28        Pistons -8.199562\n",
      "29        Rockets -8.749182\n",
      "error:  37727.69548748602\n"
     ]
    }
   ],
   "source": [
    "(r_regular, error_regular) = rank(game_df)\n",
    "print(r_regular)\n",
    "print(\"error: \", error_regular)"
   ]
  },
  {
   "cell_type": "markdown",
   "id": "397651eb",
   "metadata": {},
   "source": [
    "## 3. Grouping method\n",
    "Runs on 30/3 = 10 nodes at a time"
   ]
  },
  {
   "cell_type": "code",
   "execution_count": 7,
   "id": "836429b7",
   "metadata": {},
   "outputs": [
    {
     "name": "stdout",
     "output_type": "stream",
     "text": [
      "          element         r\n",
      "0            Suns  3.633397\n",
      "1        Warriors  2.932553\n",
      "2            Jazz  1.863423\n",
      "3            Heat  1.362069\n",
      "4       Mavericks  1.341824\n",
      "5         Celtics   0.97751\n",
      "6    Timberwolves  0.826573\n",
      "7           Bucks -2.960224\n",
      "8       Grizzlies -4.180203\n",
      "9           Bulls -5.796922\n",
      "10      Cavaliers  2.689654\n",
      "11          76ers  2.506727\n",
      "12        Raptors  2.068132\n",
      "13           Nets  1.782542\n",
      "14        Nuggets  1.619619\n",
      "15        Hornets  1.173192\n",
      "16         Knicks -0.754015\n",
      "17          Hawks -2.177948\n",
      "18       Clippers -2.330151\n",
      "19          Spurs -6.577751\n",
      "20       Pelicans  4.890045\n",
      "21          Kings  3.450702\n",
      "22         Lakers  3.178861\n",
      "23  Trail Blazers  0.362617\n",
      "24         Pacers -0.279938\n",
      "25        Rockets -0.898655\n",
      "26        Thunder  -1.04771\n",
      "27        Wizards -2.308111\n",
      "28          Magic -2.381868\n",
      "29        Pistons -4.965944\n",
      "error:  7929.2563512115785\n"
     ]
    }
   ],
   "source": [
    "k = 3\n",
    "(r_groups_1, error_groups_1) = simple_group_rank(game_df, k)\n",
    "print(r_groups_1)\n",
    "print(\"error: \", error_groups_1)"
   ]
  },
  {
   "cell_type": "code",
   "execution_count": 8,
   "id": "615f3a7c",
   "metadata": {},
   "outputs": [
    {
     "name": "stdout",
     "output_type": "stream",
     "text": [
      "KendalltauResult(correlation=0.39310344827586213, pvalue=0.001965544378759685)\n",
      "KendalltauResult(correlation=0.5555555555555555, pvalue=0.02860945767195767)\n"
     ]
    }
   ],
   "source": [
    "print(stats.kendalltau(r_groups_1['element'], r_regular['element']))\n",
    "print(stats.kendalltau(list(r_groups_1['element'])[:10], list(r_regular['element'])[:10]))"
   ]
  },
  {
   "cell_type": "markdown",
   "id": "20b4a55d",
   "metadata": {},
   "source": [
    "## 4. Improved grouping method\n",
    "Runs on 30/3 + 2 = 12 nodes at a time"
   ]
  },
  {
   "cell_type": "code",
   "execution_count": 9,
   "id": "e8e07e5a",
   "metadata": {},
   "outputs": [
    {
     "name": "stdout",
     "output_type": "stream",
     "text": [
      "          element         r\n",
      "0            Suns   4.16113\n",
      "1        Warriors  3.083983\n",
      "2            Jazz  2.043965\n",
      "3       Grizzlies  1.469666\n",
      "4         Celtics  1.050483\n",
      "5            Heat  0.865651\n",
      "6       Mavericks  0.844736\n",
      "7           Bucks -0.230932\n",
      "8    Timberwolves -0.570963\n",
      "9           Bulls -1.189181\n",
      "10      Cavaliers  1.799867\n",
      "11        Nuggets  1.664072\n",
      "12          76ers  1.476747\n",
      "13        Raptors  1.210336\n",
      "14          Hawks  0.866823\n",
      "15           Nets -0.369443\n",
      "16          Spurs -0.490471\n",
      "17         Knicks -0.823813\n",
      "18        Hornets -1.753454\n",
      "19       Clippers -1.880912\n",
      "20         Pacers  1.823121\n",
      "21       Pelicans  1.715692\n",
      "22         Lakers  0.751654\n",
      "23        Wizards  0.678636\n",
      "24          Kings -0.407239\n",
      "25  Trail Blazers -2.455151\n",
      "26          Magic  -2.71868\n",
      "27        Thunder -3.434886\n",
      "28        Pistons -4.196151\n",
      "29        Rockets -4.882323\n",
      "error:  9912.05272296774\n"
     ]
    }
   ],
   "source": [
    "(r_groups_2, error_groups_2) = group_rank(game_df, k)\n",
    "print(r_groups_2)\n",
    "print(\"error: \", error_groups_2)"
   ]
  },
  {
   "cell_type": "code",
   "execution_count": 10,
   "id": "ad696c6c",
   "metadata": {},
   "outputs": [
    {
     "name": "stdout",
     "output_type": "stream",
     "text": [
      "KendalltauResult(correlation=0.9586206896551724, pvalue=1.1518295418806186e-24)\n",
      "KendalltauResult(correlation=0.9999999999999999, pvalue=5.511463844797178e-07)\n"
     ]
    }
   ],
   "source": [
    "#Kendall's Tau\n",
    "print(stats.kendalltau(r_groups_2['element'], r_regular['element']))\n",
    "\n",
    "#Kendall's Tau of first n teams\n",
    "n = 10\n",
    "print(stats.kendalltau(list(r_groups_2['element'])[:n], list(r_regular['element'])[:n]))"
   ]
  }
 ],
 "metadata": {
  "kernelspec": {
   "display_name": "Python 3 (ipykernel)",
   "language": "python",
   "name": "python3"
  },
  "language_info": {
   "codemirror_mode": {
    "name": "ipython",
    "version": 3
   },
   "file_extension": ".py",
   "mimetype": "text/x-python",
   "name": "python",
   "nbconvert_exporter": "python",
   "pygments_lexer": "ipython3",
   "version": "3.9.2"
  }
 },
 "nbformat": 4,
 "nbformat_minor": 5
}
