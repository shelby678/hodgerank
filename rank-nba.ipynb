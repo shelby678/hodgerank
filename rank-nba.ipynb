{
 "cells": [
  {
   "cell_type": "markdown",
   "id": "d489749c",
   "metadata": {},
   "source": [
    "action items:\n",
    "- get r^2 error\n",
    "    - consider rescaling\n",
    "- save edge flows\n",
    "- do analysis on k\n",
    "- look into doing an uneven splitting"
   ]
  },
  {
   "cell_type": "markdown",
   "id": "d4ba885d",
   "metadata": {},
   "source": [
    "## 0. Processing Data\n",
    "- Loading data and dropping unecessary columns\n",
    "\n",
    "## 1. Naive Ranking\n",
    "- ranks based on average point difference\n",
    "\n",
    "## 2. Regular HR Rank\n",
    "- Runs on all 30 nodes once\n",
    "\n",
    "## 3. Initial Grouping Rank\n",
    "- Runs on 30/3 = 10 nodes at a time\n",
    "\n",
    "## 4. Improved Grouping Rank\n",
    "- Runs on 30/3 + 2 = 12 nodes at a time"
   ]
  },
  {
   "cell_type": "code",
   "execution_count": 1,
   "id": "6bd13180",
   "metadata": {},
   "outputs": [],
   "source": [
    "import csv\n",
    "import pandas as pd\n",
    "import numpy as np\n",
    "import math\n",
    "from scipy import stats\n",
    "from hodgerank_tools import *"
   ]
  },
  {
   "cell_type": "markdown",
   "id": "dc7bb4b6",
   "metadata": {},
   "source": [
    "## 0. Processing Data"
   ]
  },
  {
   "cell_type": "code",
   "execution_count": 2,
   "id": "d173697e",
   "metadata": {},
   "outputs": [],
   "source": [
    "big_game_df = pd.read_csv(\"data/nba/games.csv\")\n",
    "team_df = pd.read_csv(\"data/nba/teams.csv\")\n",
    "og_game_df = big_game_df[['GAME_ID','SEASON', 'HOME_TEAM_ID', 'VISITOR_TEAM_ID', 'PTS_home', 'PTS_away']].copy()\n",
    "og_game_df = og_game_df[og_game_df['SEASON'] == 2021]\n",
    "og_game_df.dropna( inplace = True)\n",
    "\n",
    "teams = set(og_game_df['HOME_TEAM_ID'].tolist())\n",
    "teams.update(set(og_game_df['VISITOR_TEAM_ID'].tolist()))\n",
    "teams = list(teams)\n",
    "\n",
    "team_names = []\n",
    "for team in teams:\n",
    "    team_names.append(str(team_df[team_df['TEAM_ID'] == team].iloc[0]['NICKNAME']))"
   ]
  },
  {
   "cell_type": "code",
   "execution_count": 3,
   "id": "a8bb378c",
   "metadata": {},
   "outputs": [
    {
     "name": "stdout",
     "output_type": "stream",
     "text": [
      "       GAME_ID  SEASON  HOME_TEAM_ID  VISITOR_TEAM_ID  PTS_home  PTS_away\n",
      "0     22101005    2021    1610612748       1610612750     104.0     113.0\n",
      "1     22101006    2021    1610612741       1610612739     101.0      91.0\n",
      "2     22101007    2021    1610612759       1610612754     108.0     119.0\n",
      "3     22101008    2021    1610612744       1610612749     122.0     109.0\n",
      "4     22101009    2021    1610612743       1610612761     115.0     127.0\n",
      "...        ...     ...           ...              ...       ...       ...\n",
      "1071  12100007    2021    1610612759       1610612762     111.0      85.0\n",
      "1072  12100008    2021    1610612757       1610612744     107.0     121.0\n",
      "1073  12100009    2021    1610612758       1610612756     117.0     106.0\n",
      "1074  12100010    2021    1610612746       1610612743     103.0     102.0\n",
      "1075  12100001    2021    1610612747       1610612751      97.0     123.0\n",
      "\n",
      "[1076 rows x 6 columns]\n",
      "   Hawks  Celtics  Cavaliers  Pelicans  Bulls  Mavericks  Nuggets  Warriors  \\\n",
      "0    NaN     -8.0       -2.0      -3.0   24.0      -17.0     27.0      14.0   \n",
      "1    8.0      NaN      -14.0     -22.0   12.0        3.0     -6.0       4.0   \n",
      "2    2.0     14.0        NaN       1.0   37.0      -18.0    -12.0      29.0   \n",
      "3    3.0     22.0       -1.0       NaN   52.0       39.0     17.0      36.0   \n",
      "4  -24.0    -12.0      -37.0     -52.0    NaN        4.0    -18.0      68.0   \n",
      "\n",
      "   Rockets  Clippers  ...  Trail Blazers  Kings  Spurs  Thunder  Raptors  \\\n",
      "0      6.0       7.0  ...            5.0  -23.0   -3.0    -12.0    -10.0   \n",
      "1    -28.0      12.0  ...          -24.0  -53.0   10.0     -6.0      2.0   \n",
      "2    -24.0     -13.0  ...          -16.0  -15.0  -18.0    -12.0    -54.0   \n",
      "3    -16.0     -56.0  ...          -14.0  -13.0   25.0     10.0    -26.0   \n",
      "4    -10.0     -10.0  ...           -9.0   -7.0   -2.0     -6.0     -2.0   \n",
      "\n",
      "   Jazz  Grizzlies  Wizards  Pistons  Hornets  \n",
      "0  30.0      -36.0      1.0    -15.0    -29.0  \n",
      "1   7.0      -13.0    -17.0    -28.0    -22.0  \n",
      "2 -19.0       15.0     -1.0     -7.0     28.0  \n",
      "3  29.0       22.0    -20.0    -26.0     22.0  \n",
      "4  -8.0        6.0     -9.0    -73.0    -26.0  \n",
      "\n",
      "[5 rows x 30 columns]\n"
     ]
    }
   ],
   "source": [
    "data = np.empty((len(teams), len(teams)))*np.nan\n",
    "for i, game in og_game_df.iterrows():\n",
    "    visiting_i = teams.index(game['VISITOR_TEAM_ID'])\n",
    "    home_i = teams.index(game['HOME_TEAM_ID'])\n",
    "    data[visiting_i, home_i] = np.nansum([data[visiting_i][home_i], int(game['PTS_home']) - int(game['PTS_away'])])\n",
    "    data[home_i, visiting_i] = np.nansum([data[home_i][visiting_i],  int(game['PTS_away']) - int(game['PTS_home'])])\n",
    "game_df = pd.DataFrame(data = data, columns = team_names)\n",
    "print( og_game_df)\n",
    "print(game_df.head())"
   ]
  },
  {
   "cell_type": "markdown",
   "id": "9bc6ceae",
   "metadata": {},
   "source": [
    "## 1. Naive Ranks"
   ]
  },
  {
   "cell_type": "code",
   "execution_count": 4,
   "id": "dc9f61f5",
   "metadata": {},
   "outputs": [
    {
     "name": "stdout",
     "output_type": "stream",
     "text": [
      "             node          r\n",
      "0            Suns  20.275862\n",
      "1        Warriors  17.714286\n",
      "2            Jazz  14.724138\n",
      "3       Grizzlies  13.448276\n",
      "4         Celtics  12.724138\n",
      "5            Heat  11.758621\n",
      "6       Mavericks  10.413793\n",
      "7           Bucks   8.724138\n",
      "8    Timberwolves   8.000000\n",
      "9           Bulls   6.655172\n",
      "10      Cavaliers   5.965517\n",
      "11        Nuggets   5.827586\n",
      "12          76ers   4.482759\n",
      "13        Raptors   4.178571\n",
      "14          Hawks   1.896552\n",
      "15          Spurs   0.344828\n",
      "16           Nets  -0.137931\n",
      "17         Knicks  -0.758621\n",
      "18       Clippers  -3.482759\n",
      "19        Hornets  -3.655172\n",
      "20         Pacers  -6.310345\n",
      "21       Pelicans  -6.586207\n",
      "22        Wizards  -7.892857\n",
      "23         Lakers  -8.107143\n",
      "24          Kings -10.931034\n",
      "25  Trail Blazers -17.517241\n",
      "26          Magic -19.000000\n",
      "27        Thunder -19.642857\n",
      "28        Pistons -21.620690\n",
      "29        Rockets -22.620690\n",
      "error:  1232.7949859765397\n"
     ]
    }
   ],
   "source": [
    "(naive_r0, naive_r0_error) = naive_rank_0(game_df)\n",
    "print(naive_r0)\n",
    "print(\"error: \", naive_r0_error)"
   ]
  },
  {
   "cell_type": "code",
   "execution_count": 5,
   "id": "1a0a8e10",
   "metadata": {},
   "outputs": [
    {
     "name": "stdout",
     "output_type": "stream",
     "text": [
      "             node          r\n",
      "0            Suns  20.228288\n",
      "1        Warriors  17.975641\n",
      "2            Jazz  14.740695\n",
      "3       Grizzlies  13.388337\n",
      "4         Celtics  12.725806\n",
      "5            Heat  11.743176\n",
      "6       Mavericks  10.441687\n",
      "7           Bucks   8.606700\n",
      "8    Timberwolves   7.924318\n",
      "9           Bulls   6.700993\n",
      "10      Cavaliers   5.961538\n",
      "11        Nuggets   5.858561\n",
      "12        Raptors   4.450000\n",
      "13          76ers   4.449132\n",
      "14          Hawks   1.856079\n",
      "15          Spurs   0.260546\n",
      "16           Nets  -0.151365\n",
      "17         Knicks  -0.729529\n",
      "18       Clippers  -3.540943\n",
      "19        Hornets  -3.741935\n",
      "20         Pacers  -6.341191\n",
      "21       Pelicans  -6.692308\n",
      "22         Lakers  -8.332051\n",
      "23        Wizards  -8.566667\n",
      "24          Kings -10.983871\n",
      "25  Trail Blazers -17.500000\n",
      "26          Magic -18.303846\n",
      "27        Thunder -18.965385\n",
      "28        Pistons -21.739454\n",
      "29        Rockets -22.746898\n",
      "error:  1173.5181000448663\n"
     ]
    }
   ],
   "source": [
    "(naive_r, naive_r_error) = naive_rank(game_df)\n",
    "print(naive_r)\n",
    "print(\"error: \", naive_r_error)"
   ]
  },
  {
   "cell_type": "markdown",
   "id": "2219fcaf",
   "metadata": {},
   "source": [
    "## 2. HodgeRank"
   ]
  },
  {
   "cell_type": "code",
   "execution_count": 6,
   "id": "ae54878a",
   "metadata": {},
   "outputs": [
    {
     "name": "stdout",
     "output_type": "stream",
     "text": [
      "             node          r\n",
      "0            Suns  19.585811\n",
      "1        Warriors  17.413335\n",
      "2            Jazz  14.282454\n",
      "3       Grizzlies  12.975500\n",
      "4         Celtics  12.335212\n",
      "5            Heat  11.385572\n",
      "6       Mavericks  10.127778\n",
      "7           Bucks   8.354396\n",
      "8    Timberwolves   7.694924\n",
      "9           Bulls   6.512670\n",
      "10      Cavaliers   5.798042\n",
      "11        Nuggets   5.698521\n",
      "12          76ers   4.336411\n",
      "13        Raptors   4.324488\n",
      "14          Hawks   1.830416\n",
      "15          Spurs   0.288449\n",
      "16           Nets  -0.109632\n",
      "17         Knicks  -0.668385\n",
      "18       Clippers  -3.385412\n",
      "19        Hornets  -3.579656\n",
      "20         Pacers  -6.091647\n",
      "21       Pelicans  -6.430975\n",
      "22         Lakers  -8.014621\n",
      "23        Wizards  -8.209189\n",
      "24          Kings -10.578457\n",
      "25  Trail Blazers -16.875819\n",
      "26          Magic -17.721033\n",
      "27        Thunder -18.359647\n",
      "28        Pistons -20.972942\n",
      "29        Rockets -21.946563\n",
      "error:  1036.9539000883763\n"
     ]
    }
   ],
   "source": [
    "(r_regular, error_regular) = rank(game_df)\n",
    "print(r_regular)\n",
    "print(\"error: \", error_regular)"
   ]
  },
  {
   "cell_type": "code",
   "execution_count": 7,
   "id": "5c51312d",
   "metadata": {},
   "outputs": [
    {
     "name": "stdout",
     "output_type": "stream",
     "text": [
      "KendalltauResult(correlation=0.8114942528735632, pvalue=1.2020446998209334e-13)\n",
      "KendalltauResult(correlation=0.9999999999999999, pvalue=5.511463844797178e-07)\n"
     ]
    }
   ],
   "source": [
    "print(stats.kendalltau(naive_r['node'], r_regular['node']))\n",
    "print(stats.kendalltau(list(naive_r['node'])[:10], list(r_regular['node'])[:10]))"
   ]
  },
  {
   "cell_type": "markdown",
   "id": "397651eb",
   "metadata": {},
   "source": [
    "## 3. Grouping method\n",
    "Runs on 30/3 = 10 nodes at a time"
   ]
  },
  {
   "cell_type": "code",
   "execution_count": 8,
   "id": "836429b7",
   "metadata": {},
   "outputs": [
    {
     "name": "stdout",
     "output_type": "stream",
     "text": [
      "             node         r\n",
      "0            Suns  7.573689\n",
      "1        Warriors  4.940741\n",
      "2            Jazz  2.139997\n",
      "3       Grizzlies   1.87118\n",
      "4         Celtics   0.12566\n",
      "5            Heat -1.132404\n",
      "6       Mavericks -2.265021\n",
      "7           Bucks -3.358211\n",
      "8    Timberwolves -4.616275\n",
      "9           Bulls -5.279357\n",
      "10      Cavaliers  4.280101\n",
      "11        Nuggets  4.047126\n",
      "12        Raptors  2.851852\n",
      "13          76ers  2.645692\n",
      "14          Hawks  0.961104\n",
      "15          Spurs -0.210939\n",
      "16           Nets -1.974379\n",
      "17         Knicks -2.139254\n",
      "18       Clippers -4.985132\n",
      "19        Hornets -5.476172\n",
      "20         Pacers  7.875161\n",
      "21       Pelicans  6.802697\n",
      "22        Wizards  5.870468\n",
      "23         Lakers  5.746408\n",
      "24          Kings  2.628784\n",
      "25  Trail Blazers -3.429187\n",
      "26          Magic  -4.31029\n",
      "27        Thunder  -4.85103\n",
      "28        Pistons -7.429187\n",
      "29        Rockets -8.903824\n",
      "error:  199.2041572225318\n"
     ]
    }
   ],
   "source": [
    "k = 3\n",
    "(r_groups_1, error_groups_1) = simple_group_rank(game_df, k)\n",
    "print(r_groups_1)\n",
    "print(\"error: \", error_groups_1)"
   ]
  },
  {
   "cell_type": "code",
   "execution_count": 9,
   "id": "615f3a7c",
   "metadata": {},
   "outputs": [
    {
     "name": "stdout",
     "output_type": "stream",
     "text": [
      "KendalltauResult(correlation=0.67816091954023, pvalue=7.734459562397896e-09)\n",
      "KendalltauResult(correlation=0.9999999999999999, pvalue=5.511463844797178e-07)\n"
     ]
    }
   ],
   "source": [
    "print(stats.kendalltau(r_groups_1['node'], r_regular['node']))\n",
    "print(stats.kendalltau(list(r_groups_1['node'])[:10], list(r_regular['node'])[:10]))"
   ]
  },
  {
   "cell_type": "markdown",
   "id": "20b4a55d",
   "metadata": {},
   "source": [
    "## 4. Improved grouping method\n",
    "Runs on 30/3 + 2 = 12 nodes at a time"
   ]
  },
  {
   "cell_type": "code",
   "execution_count": 10,
   "id": "e8e07e5a",
   "metadata": {},
   "outputs": [
    {
     "name": "stdout",
     "output_type": "stream",
     "text": [
      "             node          r\n",
      "0            Suns  18.498172\n",
      "1        Warriors  16.848874\n",
      "2            Jazz  13.406184\n",
      "3       Grizzlies  12.676214\n",
      "4         Celtics  11.542682\n",
      "5            Heat   10.48927\n",
      "6       Mavericks   9.394314\n",
      "7           Bucks   8.050101\n",
      "8    Timberwolves   7.177697\n",
      "9           Bulls   6.183632\n",
      "10      Cavaliers   5.444573\n",
      "11        Nuggets   5.204217\n",
      "12        Raptors   4.467142\n",
      "13          76ers   3.957927\n",
      "14          Hawks   1.963861\n",
      "15          Spurs   0.631517\n",
      "16           Nets  -0.347711\n",
      "17         Knicks  -0.700827\n",
      "18       Clippers  -3.329907\n",
      "19        Hornets  -3.579165\n",
      "20         Pacers  -5.494859\n",
      "21       Pelicans  -6.096656\n",
      "22         Lakers  -7.854916\n",
      "23        Wizards   -8.45119\n",
      "24          Kings -10.036776\n",
      "25          Magic -15.703104\n",
      "26  Trail Blazers -15.854141\n",
      "27        Thunder -16.261387\n",
      "28        Pistons -19.797255\n",
      "29        Rockets -20.896057\n",
      "error:  1002.1182894341291\n"
     ]
    }
   ],
   "source": [
    "(r_groups_2, error_groups_2) = group_rank(game_df, k)\n",
    "print(r_groups_2)\n",
    "print(\"error: \", error_groups_2)"
   ]
  },
  {
   "cell_type": "code",
   "execution_count": 11,
   "id": "ad696c6c",
   "metadata": {},
   "outputs": [
    {
     "name": "stdout",
     "output_type": "stream",
     "text": [
      "KendalltauResult(correlation=0.7057471264367816, pvalue=1.1932043519690424e-09)\n",
      "KendalltauResult(correlation=0.9999999999999999, pvalue=5.511463844797178e-07)\n"
     ]
    }
   ],
   "source": [
    "#Kendall's Tau\n",
    "print(stats.kendalltau(r_groups_2['node'], r_regular['node']))\n",
    "\n",
    "#Kendall's Tau of first n teams\n",
    "n = 10\n",
    "print(stats.kendalltau(list(r_groups_2['node'])[:n], list(r_regular['node'])[:n]))"
   ]
  },
  {
   "cell_type": "code",
   "execution_count": null,
   "id": "1e0da98a",
   "metadata": {},
   "outputs": [],
   "source": []
  }
 ],
 "metadata": {
  "kernelspec": {
   "display_name": "Python 3 (ipykernel)",
   "language": "python",
   "name": "python3"
  },
  "language_info": {
   "codemirror_mode": {
    "name": "ipython",
    "version": 3
   },
   "file_extension": ".py",
   "mimetype": "text/x-python",
   "name": "python",
   "nbconvert_exporter": "python",
   "pygments_lexer": "ipython3",
   "version": "3.9.2"
  }
 },
 "nbformat": 4,
 "nbformat_minor": 5
}
