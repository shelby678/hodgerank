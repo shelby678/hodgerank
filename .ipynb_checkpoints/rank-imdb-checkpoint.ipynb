{
 "cells": [
  {
   "cell_type": "code",
   "execution_count": 1,
   "id": "50ddc3b1",
   "metadata": {},
   "outputs": [],
   "source": [
    "import csv\n",
    "import pandas as pd\n",
    "import numpy as np\n",
    "import math\n",
    "from scipy import stats\n",
    "from hodgerank_tools import *"
   ]
  },
  {
   "cell_type": "code",
   "execution_count": 2,
   "id": "d823d1ad",
   "metadata": {},
   "outputs": [],
   "source": [
    "dataset = np.load (\"data/imdb/Dataset.npy\")"
   ]
  },
  {
   "cell_type": "code",
   "execution_count": 3,
   "id": "bd5558e3",
   "metadata": {},
   "outputs": [
    {
     "name": "stdout",
     "output_type": "stream",
     "text": [
      "4669820\n",
      "4669820\n"
     ]
    }
   ],
   "source": [
    "print(len(dataset))\n",
    "userID=[]\n",
    "movieID=[]\n",
    "data=[]\n",
    "for i in range(len(dataset)):\n",
    "    v=dataset[i].split(',')\n",
    "    userID.append(v[0])\n",
    "    movieID.append(v[1])\n",
    "    data.append(v)\n",
    "print(len(data))"
   ]
  },
  {
   "cell_type": "code",
   "execution_count": 4,
   "id": "5b8c91ee",
   "metadata": {},
   "outputs": [
    {
     "name": "stdout",
     "output_type": "stream",
     "text": [
      "4669820\n",
      "<class 'list'>\n",
      "351109\n"
     ]
    }
   ],
   "source": [
    "users = set()\n",
    "movies = set()\n",
    "print(len(userID))\n",
    "print(type(userID))\n",
    "users.update(userID)\n",
    "movies.update(movieID)\n",
    "print(len(movies))"
   ]
  },
  {
   "cell_type": "code",
   "execution_count": 5,
   "id": "6889fef3",
   "metadata": {},
   "outputs": [],
   "source": [
    "dict_data = dict()\n",
    "for user in users:\n",
    "    dict_data[user] = dict()"
   ]
  },
  {
   "cell_type": "code",
   "execution_count": 6,
   "id": "8d7ba49e",
   "metadata": {},
   "outputs": [],
   "source": [
    "for rating in data:\n",
    "    dict_data[rating[0]][rating[1]] = float(rating[2])"
   ]
  },
  {
   "cell_type": "code",
   "execution_count": null,
   "id": "e5ada7e6",
   "metadata": {},
   "outputs": [],
   "source": []
  },
  {
   "cell_type": "code",
   "execution_count": 7,
   "id": "9eb0cc16",
   "metadata": {},
   "outputs": [
    {
     "name": "stdout",
     "output_type": "stream",
     "text": [
      "424759\n"
     ]
    }
   ],
   "source": [
    "imdb_data = []\n",
    "movie_popularity = dict()\n",
    "for movie in movies:\n",
    "    movie_popularity[movie] = 0\n",
    "for user, votes in dict_data.items():\n",
    "    if len(votes)>=2:\n",
    "        imdb_data.append(votes)\n",
    "        for movie, rating in votes.items():\n",
    "            movie_popularity[movie] += 1\n",
    "            \n",
    "print(len(imdb_data))"
   ]
  },
  {
   "cell_type": "code",
   "execution_count": 20,
   "id": "94051c30",
   "metadata": {},
   "outputs": [
    {
     "name": "stdout",
     "output_type": "stream",
     "text": [
      "7450\n"
     ]
    }
   ],
   "source": [
    "popular_movies = []\n",
    "tier = 80\n",
    "for movie, pop in movie_popularity.items():\n",
    "    if pop >tier:\n",
    "        popular_movies.append(movie)\n",
    "print(len(popular_movies))"
   ]
  },
  {
   "cell_type": "code",
   "execution_count": null,
   "id": "229e759b",
   "metadata": {},
   "outputs": [],
   "source": [
    "fresh_imdb_data = []\n",
    "\n",
    "for votes in imdb_data.enumerate():\n",
    "    if len(votes)>=2:\n",
    "        imdb_data.append(votes)\n",
    "        for movie, rating in votes.items():\n",
    "            movie_popularity[movie] += 1\n",
    "            \n",
    "print(len(imdb_data))"
   ]
  },
  {
   "cell_type": "code",
   "execution_count": 26,
   "id": "19b81b53",
   "metadata": {},
   "outputs": [
    {
     "name": "stdout",
     "output_type": "stream",
     "text": [
      "{'tt0240468': 6.0, 'tt0290334': 10.0}\n"
     ]
    }
   ],
   "source": [
    "print(imdb_data[0])"
   ]
  },
  {
   "cell_type": "code",
   "execution_count": 32,
   "id": "329ad63f",
   "metadata": {},
   "outputs": [
    {
     "name": "stdout",
     "output_type": "stream",
     "text": [
      "             node     r\n",
      "0       tt0271694  10.0\n",
      "1       tt0598114  10.0\n",
      "2       tt1604706  10.0\n",
      "3       tt1604593  10.0\n",
      "4       tt1604116  10.0\n",
      "...           ...   ...\n",
      "319516  tt2077489   1.0\n",
      "319517  tt0417659   1.0\n",
      "319518  tt2077192   1.0\n",
      "319519  tt2076826   1.0\n",
      "319520  tt3314628   1.0\n",
      "\n",
      "[319521 rows x 2 columns]\n"
     ]
    }
   ],
   "source": [
    "(naive_r0) = naive_rank_0(imdb_data)\n",
    "print(naive_r0)\n",
    "#print(\"error: \", naive_r0_error)"
   ]
  },
  {
   "cell_type": "code",
   "execution_count": 34,
   "id": "59ea7d82",
   "metadata": {},
   "outputs": [],
   "source": [
    "naive_r0.to_csv('data/imdb/naive_r0.csv')"
   ]
  },
  {
   "cell_type": "code",
   "execution_count": null,
   "id": "29d34c53",
   "metadata": {},
   "outputs": [],
   "source": [
    "(naive_r) = naive_rank(imdb_data)\n",
    "print(naive_r)\n",
    "#print(\"error: \", naive_r_error)"
   ]
  },
  {
   "cell_type": "code",
   "execution_count": null,
   "id": "aef19e3e",
   "metadata": {},
   "outputs": [],
   "source": [
    "naive_r.to_csv('data/imdb/naive_r.csv')"
   ]
  },
  {
   "cell_type": "code",
   "execution_count": null,
   "id": "5a8f1ded",
   "metadata": {},
   "outputs": [],
   "source": [
    "(r_regular, error_regular) = rank(imdb_data)\n",
    "print(r_regular)\n",
    "print(\"error: \", error_regular)"
   ]
  },
  {
   "cell_type": "code",
   "execution_count": null,
   "id": "73a120cf",
   "metadata": {},
   "outputs": [],
   "source": [
    "k = 3\n",
    "(r_groups_1, error_groups_1) = simple_group_rank(imdb_data, k)\n",
    "print(r_groups_1)\n",
    "print(\"error: \", error_groups_1)"
   ]
  },
  {
   "cell_type": "code",
   "execution_count": null,
   "id": "b02bd489",
   "metadata": {},
   "outputs": [],
   "source": []
  }
 ],
 "metadata": {
  "kernelspec": {
   "display_name": "Python 3 (ipykernel)",
   "language": "python",
   "name": "python3"
  },
  "language_info": {
   "codemirror_mode": {
    "name": "ipython",
    "version": 3
   },
   "file_extension": ".py",
   "mimetype": "text/x-python",
   "name": "python",
   "nbconvert_exporter": "python",
   "pygments_lexer": "ipython3",
   "version": "3.9.2"
  }
 },
 "nbformat": 4,
 "nbformat_minor": 5
}
