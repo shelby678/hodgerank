{
 "cells": [
  {
   "cell_type": "code",
   "execution_count": 1,
   "id": "6bd13180",
   "metadata": {},
   "outputs": [],
   "source": [
    "import csv\n",
    "import pandas as pd\n",
    "import numpy as np\n",
    "import scipy.linalg as linalg\n",
    "from hodgerank_tools import *"
   ]
  },
  {
   "cell_type": "code",
   "execution_count": 2,
   "id": "69278095",
   "metadata": {},
   "outputs": [],
   "source": [
    "symptoms = ['A', 'B', 'C','D']\n",
    "#covid_data = np.array([symptoms, [3, 2, 2,5], [7, 8, 9, np.nan], [2, 2, 1,3]])\n",
    "covid_df = pd.DataFrame(np.array([[3, 2, 2,5], [7, 8, 9, np.nan], [2, 2, 1,3]]), columns=symptoms)"
   ]
  },
  {
   "cell_type": "code",
   "execution_count": 3,
   "id": "88928c44",
   "metadata": {},
   "outputs": [
    {
     "name": "stdout",
     "output_type": "stream",
     "text": [
      "[{'A': 3.0, 'B': 2.0, 'C': 2.0, 'D': 5.0}, {'A': 7.0, 'B': 8.0, 'C': 9.0}, {'A': 2.0, 'B': 2.0, 'C': 1.0, 'D': 3.0}]\n"
     ]
    }
   ],
   "source": [
    "symptoms = ['A', 'B', 'C','D']\n",
    "my_data = df_to_dict_list(covid_df)\n",
    "print(my_data)"
   ]
  },
  {
   "cell_type": "code",
   "execution_count": 4,
   "id": "09d7638d",
   "metadata": {},
   "outputs": [
    {
     "name": "stdout",
     "output_type": "stream",
     "text": [
      "['A', 'B', 'C', 'D']\n"
     ]
    }
   ],
   "source": [
    "my_nodes = get_nodes(my_data)\n",
    "print(my_nodes)"
   ]
  },
  {
   "cell_type": "code",
   "execution_count": 5,
   "id": "7aac607c",
   "metadata": {},
   "outputs": [
    {
     "data": {
      "text/plain": [
       "(array([0. , 0. , 1.5, 0. , 2. , 2.5]),\n",
       " array([[3., 0., 0., 0., 0., 0.],\n",
       "        [0., 3., 0., 0., 0., 0.],\n",
       "        [0., 0., 2., 0., 0., 0.],\n",
       "        [0., 0., 0., 3., 0., 0.],\n",
       "        [0., 0., 0., 0., 2., 0.],\n",
       "        [0., 0., 0., 0., 0., 2.]]))"
      ]
     },
     "execution_count": 5,
     "metadata": {},
     "output_type": "execute_result"
    }
   ],
   "source": [
    "get_f_W(my_data, my_nodes)"
   ]
  },
  {
   "cell_type": "code",
   "execution_count": 6,
   "id": "bd343788",
   "metadata": {},
   "outputs": [
    {
     "name": "stdout",
     "output_type": "stream",
     "text": [
      "(  node         r\n",
      "0    D  1.500000\n",
      "1    A -0.409091\n",
      "2    B -0.500000\n",
      "3    C -0.590909, 0.38429752066115663)\n"
     ]
    }
   ],
   "source": [
    "print(rank(my_data))"
   ]
  },
  {
   "cell_type": "code",
   "execution_count": 7,
   "id": "c94aba89",
   "metadata": {},
   "outputs": [
    {
     "name": "stdout",
     "output_type": "stream",
     "text": [
      "  node    r\n",
      "0    A  4.0\n",
      "1    B  4.0\n",
      "2    C  4.0\n",
      "3    D  4.0\n"
     ]
    }
   ],
   "source": [
    "print(naive_rank_0(my_data))"
   ]
  },
  {
   "cell_type": "code",
   "execution_count": 8,
   "id": "70e01eae",
   "metadata": {},
   "outputs": [
    {
     "data": {
      "text/html": [
       "<div>\n",
       "<style scoped>\n",
       "    .dataframe tbody tr th:only-of-type {\n",
       "        vertical-align: middle;\n",
       "    }\n",
       "\n",
       "    .dataframe tbody tr th {\n",
       "        vertical-align: top;\n",
       "    }\n",
       "\n",
       "    .dataframe thead th {\n",
       "        text-align: right;\n",
       "    }\n",
       "</style>\n",
       "<table border=\"1\" class=\"dataframe\">\n",
       "  <thead>\n",
       "    <tr style=\"text-align: right;\">\n",
       "      <th></th>\n",
       "      <th>node</th>\n",
       "      <th>r</th>\n",
       "    </tr>\n",
       "  </thead>\n",
       "  <tbody>\n",
       "    <tr>\n",
       "      <th>0</th>\n",
       "      <td>D</td>\n",
       "      <td>1.000000</td>\n",
       "    </tr>\n",
       "    <tr>\n",
       "      <th>1</th>\n",
       "      <td>A</td>\n",
       "      <td>0.000000</td>\n",
       "    </tr>\n",
       "    <tr>\n",
       "      <th>2</th>\n",
       "      <td>C</td>\n",
       "      <td>-0.416667</td>\n",
       "    </tr>\n",
       "    <tr>\n",
       "      <th>3</th>\n",
       "      <td>B</td>\n",
       "      <td>-0.666667</td>\n",
       "    </tr>\n",
       "  </tbody>\n",
       "</table>\n",
       "</div>"
      ],
      "text/plain": [
       "  node         r\n",
       "0    D  1.000000\n",
       "1    A  0.000000\n",
       "2    C -0.416667\n",
       "3    B -0.666667"
      ]
     },
     "execution_count": 8,
     "metadata": {},
     "output_type": "execute_result"
    }
   ],
   "source": [
    "# Ranks by the mean pairwise difference of each node\n",
    "def naive_rank(data):\n",
    "    #initialize nodes, sum_scores, total_votes\n",
    "    nodes = get_nodes(data)\n",
    "    (f, W) = get_f_W(data, nodes)\n",
    "    sum_scores = dict()\n",
    "    naive_r = dict()\n",
    "    for node in nodes:\n",
    "        sum_scores[node] = 0\n",
    "    total_votes = sum_scores.copy()\n",
    "    edges = get_edges(nodes)\n",
    "    for node in nodes:\n",
    "        # populate total_votes, sum_scores\n",
    "        for i, edge  in enumerate(edges):\n",
    "            if edge[0] == node:\n",
    "                sum_scores[node] -= f[i]\n",
    "            if edge[1] == node:\n",
    "                sum_scores[node] += f[i]\n",
    "            else:\n",
    "                continue\n",
    "            total_votes[node] += W[i, i]\n",
    "        # calculate final score\n",
    "        if total_votes[node] == 0:\n",
    "            naive_r[node] = 0\n",
    "        else:\n",
    "            naive_r[node] = sum_scores[node]/total_votes[node]\n",
    "    # format into a df\n",
    "    rank_df = pd.DataFrame.from_dict(naive_r, orient = 'index', columns = ['r'])\n",
    "    rank_df = rank_df.reset_index()\n",
    "    rank_df = rank_df.rename(columns = {'index':'node'})\n",
    "    rank_df = rank_df.sort_values(by =['r'],  ascending = False)\n",
    "    rank_df = rank_df.reset_index(drop = True)\n",
    "    #(f, W) = get_f_W(data, nodes)\n",
    "    return (rank_df) #get_error(f, W, naive_r, nodes)\n",
    "naive_rank(my_data)"
   ]
  },
  {
   "cell_type": "code",
   "execution_count": 9,
   "id": "9e4e1a2e",
   "metadata": {},
   "outputs": [
    {
     "name": "stdout",
     "output_type": "stream",
     "text": [
      "[['D', 'A'], ['C'], ['B']]\n"
     ]
    }
   ],
   "source": [
    "print(group_similar_scoring(my_data, 3))"
   ]
  },
  {
   "cell_type": "code",
   "execution_count": null,
   "id": "ee794a11",
   "metadata": {},
   "outputs": [],
   "source": []
  },
  {
   "cell_type": "code",
   "execution_count": null,
   "id": "3a078f82",
   "metadata": {},
   "outputs": [],
   "source": []
  }
 ],
 "metadata": {
  "kernelspec": {
   "display_name": "Python 3 (ipykernel)",
   "language": "python",
   "name": "python3"
  },
  "language_info": {
   "codemirror_mode": {
    "name": "ipython",
    "version": 3
   },
   "file_extension": ".py",
   "mimetype": "text/x-python",
   "name": "python",
   "nbconvert_exporter": "python",
   "pygments_lexer": "ipython3",
   "version": "3.9.2"
  }
 },
 "nbformat": 4,
 "nbformat_minor": 5
}
