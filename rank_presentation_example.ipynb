{
 "cells": [
  {
   "cell_type": "code",
   "execution_count": 1,
   "id": "6bd13180",
   "metadata": {},
   "outputs": [],
   "source": [
    "import csv\n",
    "import pandas as pd\n",
    "import numpy as np\n",
    "import scipy.linalg as linalg\n",
    "from hodgerank_tools import *"
   ]
  },
  {
   "cell_type": "code",
   "execution_count": 2,
   "id": "69278095",
   "metadata": {},
   "outputs": [],
   "source": [
    "symptoms = ['A', 'B', 'C','D']\n",
    "#covid_data = np.array([symptoms, [3, 2, 2,5], [7, 8, 9, np.nan], [2, 2, 1,3]])\n",
    "covid_df = pd.DataFrame(np.array([[3, 2, 2,5], [7, 8, 9, np.nan], [2, 2, 1,3]]), columns=symptoms)"
   ]
  },
  {
   "cell_type": "code",
   "execution_count": 3,
   "id": "88928c44",
   "metadata": {},
   "outputs": [
    {
     "name": "stdout",
     "output_type": "stream",
     "text": [
      "[{'A': 3.0, 'B': 2.0, 'C': 2.0, 'D': 5.0}, {'A': 7.0, 'B': 8.0, 'C': 9.0}, {'A': 2.0, 'B': 2.0, 'C': 1.0, 'D': 3.0}]\n"
     ]
    }
   ],
   "source": [
    "symptoms = ['A', 'B', 'C','D']\n",
    "my_data = df_to_dict_list(covid_df)\n",
    "print(my_data)"
   ]
  },
  {
   "cell_type": "code",
   "execution_count": 4,
   "id": "09d7638d",
   "metadata": {},
   "outputs": [
    {
     "name": "stdout",
     "output_type": "stream",
     "text": [
      "['A', 'B', 'C', 'D']\n"
     ]
    }
   ],
   "source": [
    "my_nodes = get_nodes(my_data)\n",
    "print(my_nodes)"
   ]
  },
  {
   "cell_type": "code",
   "execution_count": 5,
   "id": "7aac607c",
   "metadata": {},
   "outputs": [
    {
     "data": {
      "text/plain": [
       "(array([0. , 0. , 1.5, 0. , 2. , 2.5]),\n",
       " array([[3., 0., 0., 0., 0., 0.],\n",
       "        [0., 3., 0., 0., 0., 0.],\n",
       "        [0., 0., 2., 0., 0., 0.],\n",
       "        [0., 0., 0., 3., 0., 0.],\n",
       "        [0., 0., 0., 0., 2., 0.],\n",
       "        [0., 0., 0., 0., 0., 2.]]))"
      ]
     },
     "execution_count": 5,
     "metadata": {},
     "output_type": "execute_result"
    }
   ],
   "source": [
    "get_f_W(my_data, my_nodes)"
   ]
  },
  {
   "cell_type": "code",
   "execution_count": 6,
   "id": "bd343788",
   "metadata": {},
   "outputs": [
    {
     "data": {
      "text/plain": [
       "(  node         r\n",
       " 0    D  1.500000\n",
       " 1    A -0.409091\n",
       " 2    B -0.500000\n",
       " 3    C -0.590909,\n",
       " 0.38429752066115663)"
      ]
     },
     "execution_count": 6,
     "metadata": {},
     "output_type": "execute_result"
    }
   ],
   "source": [
    "print(rank(my_data))"
   ]
  },
  {
   "cell_type": "code",
   "execution_count": 7,
   "id": "b5ea6ad7",
   "metadata": {},
   "outputs": [
    {
     "name": "stdout",
     "output_type": "stream",
     "text": [
      "{'A': 4.0, 'B': 4.0, 'C': 4.0, 'D': 4.0}\n",
      "  node    r\n",
      "0    A  4.0\n",
      "1    B  4.0\n",
      "2    C  4.0\n",
      "3    D  4.0\n"
     ]
    }
   ],
   "source": [
    "print(naive_rank_0(my_data))"
   ]
  },
  {
   "cell_type": "code",
   "execution_count": null,
   "id": "4c3913af",
   "metadata": {},
   "outputs": [],
   "source": []
  },
  {
   "cell_type": "code",
   "execution_count": null,
   "id": "2ad37438",
   "metadata": {},
   "outputs": [],
   "source": []
  },
  {
   "cell_type": "code",
   "execution_count": null,
   "id": "b20d822a",
   "metadata": {},
   "outputs": [],
   "source": []
  },
  {
   "cell_type": "code",
   "execution_count": null,
   "id": "efe12497",
   "metadata": {},
   "outputs": [],
   "source": []
  },
  {
   "cell_type": "code",
   "execution_count": null,
   "id": "c9b354ad",
   "metadata": {},
   "outputs": [],
   "source": []
  }
 ],
 "metadata": {
  "kernelspec": {
   "display_name": "Python 3 (ipykernel)",
   "language": "python",
   "name": "python3"
  },
  "language_info": {
   "codemirror_mode": {
    "name": "ipython",
    "version": 3
   },
   "file_extension": ".py",
   "mimetype": "text/x-python",
   "name": "python",
   "nbconvert_exporter": "python",
   "pygments_lexer": "ipython3",
   "version": "3.9.2"
  }
 },
 "nbformat": 4,
 "nbformat_minor": 5
}
