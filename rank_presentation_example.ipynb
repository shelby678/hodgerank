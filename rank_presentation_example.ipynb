{
 "cells": [
  {
   "cell_type": "code",
   "execution_count": 1,
   "id": "6bd13180",
   "metadata": {},
   "outputs": [],
   "source": [
    "import csv\n",
    "import pandas as pd\n",
    "import numpy as np\n",
    "import scipy.linalg as linalg\n",
    "from hodgerank_tools import *"
   ]
  },
  {
   "cell_type": "code",
   "execution_count": 16,
   "id": "69278095",
   "metadata": {},
   "outputs": [],
   "source": [
    "symptoms = ['A', 'B', 'C','D', 'E', 'F', 'G', 'H', 'I', 'J']\n",
    "#covid_data = np.array([symptoms, [3, 2, 2,5], [7, 8, 9, np.nan], [2, 2, 1,3]])\n",
    "covid_df = pd.DataFrame(np.array([[3, 2, 2,5, 2, 2,5, 2, 2,5], \n",
    "                                  [7, 8, 9, np.nan, 2, 2,5, 2, 2,5], \n",
    "                                  [2, 2, 1,3, 2, 2,5, 2, 2,5]]), columns=symptoms)"
   ]
  },
  {
   "cell_type": "code",
   "execution_count": 17,
   "id": "88928c44",
   "metadata": {
    "scrolled": true
   },
   "outputs": [
    {
     "name": "stdout",
     "output_type": "stream",
     "text": [
      "[{'A': 3.0, 'B': 2.0, 'C': 2.0, 'D': 5.0, 'E': 2.0, 'F': 2.0, 'G': 5.0, 'H': 2.0, 'I': 2.0, 'J': 5.0}, {'A': 7.0, 'B': 8.0, 'C': 9.0, 'E': 2.0, 'F': 2.0, 'G': 5.0, 'H': 2.0, 'I': 2.0, 'J': 5.0}, {'A': 2.0, 'B': 2.0, 'C': 1.0, 'D': 3.0, 'E': 2.0, 'F': 2.0, 'G': 5.0, 'H': 2.0, 'I': 2.0, 'J': 5.0}]\n"
     ]
    }
   ],
   "source": [
    "symptoms = ['A', 'B', 'C','D']\n",
    "my_data = df_to_dict_list(covid_df)\n",
    "print(my_data)"
   ]
  },
  {
   "cell_type": "code",
   "execution_count": 18,
   "id": "09d7638d",
   "metadata": {},
   "outputs": [
    {
     "name": "stdout",
     "output_type": "stream",
     "text": [
      "['A', 'B', 'C', 'D', 'E', 'F', 'G', 'H', 'I', 'J']\n"
     ]
    }
   ],
   "source": [
    "my_nodes = get_nodes(my_data)\n",
    "print(my_nodes)"
   ]
  },
  {
   "cell_type": "code",
   "execution_count": 19,
   "id": "7aac607c",
   "metadata": {},
   "outputs": [
    {
     "data": {
      "text/plain": [
       "(array([ 0. ,  0. ,  1.5, -2. , -2. ,  1. , -2. , -2. ,  1. ,  0. ,  2. ,\n",
       "        -2. , -2. ,  1. , -2. , -2. ,  1. ,  2.5, -2. , -2. ,  1. , -2. ,\n",
       "        -2. ,  1. , -2. , -2. ,  1. , -2. , -2. ,  1. ,  0. ,  3. ,  0. ,\n",
       "         0. ,  3. ,  3. ,  0. ,  0. ,  3. , -3. , -3. ,  0. ,  0. ,  3. ,\n",
       "         3. ]),\n",
       " array([[3., 0., 0., ..., 0., 0., 0.],\n",
       "        [0., 3., 0., ..., 0., 0., 0.],\n",
       "        [0., 0., 2., ..., 0., 0., 0.],\n",
       "        ...,\n",
       "        [0., 0., 0., ..., 3., 0., 0.],\n",
       "        [0., 0., 0., ..., 0., 3., 0.],\n",
       "        [0., 0., 0., ..., 0., 0., 3.]]))"
      ]
     },
     "execution_count": 19,
     "metadata": {},
     "output_type": "execute_result"
    }
   ],
   "source": [
    "get_f_W(my_data, my_nodes)"
   ]
  },
  {
   "cell_type": "code",
   "execution_count": 20,
   "id": "bd343788",
   "metadata": {},
   "outputs": [
    {
     "name": "stdout",
     "output_type": "stream",
     "text": [
      "(  node         r\n",
      "0    G  1.579310\n",
      "1    J  1.579310\n",
      "2    D  1.200000\n",
      "3    A  0.475862\n",
      "4    B  0.441379\n",
      "5    C  0.406897\n",
      "6    H -1.420690\n",
      "7    E -1.420690\n",
      "8    I -1.420690\n",
      "9    F -1.420690, 7.731866825208086)\n"
     ]
    }
   ],
   "source": [
    "print(rank(my_data))"
   ]
  },
  {
   "cell_type": "code",
   "execution_count": 21,
   "id": "4b8dcecb",
   "metadata": {},
   "outputs": [
    {
     "name": "stdout",
     "output_type": "stream",
     "text": [
      "  node    r\n",
      "0    G  5.0\n",
      "1    J  5.0\n",
      "2    A  4.0\n",
      "3    B  4.0\n",
      "4    C  4.0\n",
      "5    D  4.0\n",
      "6    E  2.0\n",
      "7    F  2.0\n",
      "8    H  2.0\n",
      "9    I  2.0\n"
     ]
    }
   ],
   "source": [
    "print(naive_rank_0(my_data))"
   ]
  },
  {
   "cell_type": "code",
   "execution_count": 22,
   "id": "067164e7",
   "metadata": {},
   "outputs": [
    {
     "data": {
      "text/html": [
       "<div>\n",
       "<style scoped>\n",
       "    .dataframe tbody tr th:only-of-type {\n",
       "        vertical-align: middle;\n",
       "    }\n",
       "\n",
       "    .dataframe tbody tr th {\n",
       "        vertical-align: top;\n",
       "    }\n",
       "\n",
       "    .dataframe thead th {\n",
       "        text-align: right;\n",
       "    }\n",
       "</style>\n",
       "<table border=\"1\" class=\"dataframe\">\n",
       "  <thead>\n",
       "    <tr style=\"text-align: right;\">\n",
       "      <th></th>\n",
       "      <th>node</th>\n",
       "      <th>r</th>\n",
       "    </tr>\n",
       "  </thead>\n",
       "  <tbody>\n",
       "    <tr>\n",
       "      <th>0</th>\n",
       "      <td>D</td>\n",
       "      <td>2.000000</td>\n",
       "    </tr>\n",
       "    <tr>\n",
       "      <th>1</th>\n",
       "      <td>B</td>\n",
       "      <td>1.333333</td>\n",
       "    </tr>\n",
       "    <tr>\n",
       "      <th>2</th>\n",
       "      <td>G</td>\n",
       "      <td>0.941176</td>\n",
       "    </tr>\n",
       "    <tr>\n",
       "      <th>3</th>\n",
       "      <td>J</td>\n",
       "      <td>0.615385</td>\n",
       "    </tr>\n",
       "    <tr>\n",
       "      <th>4</th>\n",
       "      <td>C</td>\n",
       "      <td>0.583333</td>\n",
       "    </tr>\n",
       "    <tr>\n",
       "      <th>5</th>\n",
       "      <td>A</td>\n",
       "      <td>0.000000</td>\n",
       "    </tr>\n",
       "    <tr>\n",
       "      <th>6</th>\n",
       "      <td>I</td>\n",
       "      <td>-0.608696</td>\n",
       "    </tr>\n",
       "    <tr>\n",
       "      <th>7</th>\n",
       "      <td>H</td>\n",
       "      <td>-0.700000</td>\n",
       "    </tr>\n",
       "    <tr>\n",
       "      <th>8</th>\n",
       "      <td>F</td>\n",
       "      <td>-1.000000</td>\n",
       "    </tr>\n",
       "    <tr>\n",
       "      <th>9</th>\n",
       "      <td>E</td>\n",
       "      <td>-1.272727</td>\n",
       "    </tr>\n",
       "  </tbody>\n",
       "</table>\n",
       "</div>"
      ],
      "text/plain": [
       "  node         r\n",
       "0    D  2.000000\n",
       "1    B  1.333333\n",
       "2    G  0.941176\n",
       "3    J  0.615385\n",
       "4    C  0.583333\n",
       "5    A  0.000000\n",
       "6    I -0.608696\n",
       "7    H -0.700000\n",
       "8    F -1.000000\n",
       "9    E -1.272727"
      ]
     },
     "execution_count": 22,
     "metadata": {},
     "output_type": "execute_result"
    }
   ],
   "source": [
    "# Ranks by the mean pairwise difference of each node\n",
    "def naive_rank(data):\n",
    "    #initialize nodes, sum_scores, total_votes\n",
    "    nodes = get_nodes(data)\n",
    "    (f, W) = get_f_W(data, nodes)\n",
    "    sum_scores = dict()\n",
    "    naive_r = dict()\n",
    "    for node in nodes:\n",
    "        sum_scores[node] = 0\n",
    "    total_votes = sum_scores.copy()\n",
    "    edges = get_edges(nodes)\n",
    "    for node in nodes:\n",
    "        # populate total_votes, sum_scores\n",
    "        for i, edge  in enumerate(edges):\n",
    "            if edge[0] == node:\n",
    "                sum_scores[node] -= f[i]\n",
    "            if edge[1] == node:\n",
    "                sum_scores[node] += f[i]\n",
    "            else:\n",
    "                continue\n",
    "            total_votes[node] += W[i, i]\n",
    "        # calculate final score\n",
    "        if total_votes[node] == 0:\n",
    "            naive_r[node] = 0\n",
    "        else:\n",
    "            naive_r[node] = sum_scores[node]/total_votes[node]\n",
    "    # format into a df\n",
    "    rank_df = pd.DataFrame.from_dict(naive_r, orient = 'index', columns = ['r'])\n",
    "    rank_df = rank_df.reset_index()\n",
    "    rank_df = rank_df.rename(columns = {'index':'node'})\n",
    "    rank_df = rank_df.sort_values(by =['r'],  ascending = False)\n",
    "    rank_df = rank_df.reset_index(drop = True)\n",
    "    #(f, W) = get_f_W(data, nodes)\n",
    "    return (rank_df) #get_error(f, W, naive_r, nodes)\n",
    "naive_rank(my_data)"
   ]
  },
  {
   "cell_type": "code",
   "execution_count": 23,
   "id": "47d85eae",
   "metadata": {},
   "outputs": [
    {
     "name": "stdout",
     "output_type": "stream",
     "text": [
      "[['D', 'B', 'G', 'J'], ['C', 'A', 'I'], ['H', 'F', 'E']]\n"
     ]
    }
   ],
   "source": [
    "print(group_similar_scoring(my_data, 3))"
   ]
  },
  {
   "cell_type": "code",
   "execution_count": 28,
   "id": "06949e22",
   "metadata": {},
   "outputs": [
    {
     "name": "stdout",
     "output_type": "stream",
     "text": [
      "(  node         r\n",
      "0    G  0.454545\n",
      "1    J  0.454545\n",
      "2    D      -0.0\n",
      "3    B -0.909091\n",
      "4    A  0.666667\n",
      "5    C  0.666667\n",
      "6    I -1.333333\n",
      "7    E       0.0\n",
      "8    F       0.0\n",
      "9    H       0.0, 2.049586776859504)\n"
     ]
    }
   ],
   "source": [
    "print(simple_group_rank(my_data, 3))"
   ]
  },
  {
   "cell_type": "code",
   "execution_count": null,
   "id": "b0126bd4",
   "metadata": {},
   "outputs": [],
   "source": []
  }
 ],
 "metadata": {
  "kernelspec": {
   "display_name": "Python 3 (ipykernel)",
   "language": "python",
   "name": "python3"
  },
  "language_info": {
   "codemirror_mode": {
    "name": "ipython",
    "version": 3
   },
   "file_extension": ".py",
   "mimetype": "text/x-python",
   "name": "python",
   "nbconvert_exporter": "python",
   "pygments_lexer": "ipython3",
   "version": "3.9.2"
  }
 },
 "nbformat": 4,
 "nbformat_minor": 5
}
