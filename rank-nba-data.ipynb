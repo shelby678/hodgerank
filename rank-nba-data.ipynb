{
 "cells": [
  {
   "cell_type": "markdown",
   "id": "d489749c",
   "metadata": {},
   "source": [
    "action items:\n",
    "- get r^2 error\n",
    "    - consider rescaling\n",
    "- save edge flows\n",
    "- do analysis on k\n",
    "- look into doing an uneven splitting"
   ]
  },
  {
   "cell_type": "markdown",
   "id": "d4ba885d",
   "metadata": {},
   "source": [
    "## 0. Preprocessing Data\n",
    "- Loading data and dropping unecessary columns\n",
    "\n",
    "## 1. Naive Ranking\n",
    "- ranks based on average point difference\n",
    "\n",
    "## 2. Regular HR Rank\n",
    "- Runs on all 30 nodes once\n",
    "\n",
    "## 3. Initial Grouping Rank\n",
    "- Runs on 30/3 = 10 nodes at a time\n",
    "\n",
    "## 4. Improved Grouping Rank\n",
    "- Runs on 30/3 + 2 = 12 nodes at a time"
   ]
  },
  {
   "cell_type": "markdown",
   "id": "46980869",
   "metadata": {},
   "source": [
    "Data downloaded from https://www.kaggle.com/datasets/nathanlauga/nba-games?select=games.csv, originally from Sports Data LLC (https://www.sports-reference.com/)"
   ]
  },
  {
   "cell_type": "code",
   "execution_count": 77,
   "id": "6bd13180",
   "metadata": {},
   "outputs": [],
   "source": [
    "import csv\n",
    "import pandas as pd\n",
    "import numpy as np\n",
    "import math\n",
    "from scipy import stats"
   ]
  },
  {
   "cell_type": "markdown",
   "id": "dc7bb4b6",
   "metadata": {},
   "source": [
    "## 0. Processing Data"
   ]
  },
  {
   "cell_type": "code",
   "execution_count": 78,
   "id": "d173697e",
   "metadata": {},
   "outputs": [
    {
     "name": "stdout",
     "output_type": "stream",
     "text": [
      "Index(['GAME_DATE_EST', 'GAME_ID', 'GAME_STATUS_TEXT', 'HOME_TEAM_ID',\n",
      "       'VISITOR_TEAM_ID', 'SEASON', 'TEAM_ID_home', 'PTS_home', 'FG_PCT_home',\n",
      "       'FT_PCT_home', 'FG3_PCT_home', 'AST_home', 'REB_home', 'TEAM_ID_away',\n",
      "       'PTS_away', 'FG_PCT_away', 'FT_PCT_away', 'FG3_PCT_away', 'AST_away',\n",
      "       'REB_away', 'HOME_TEAM_WINS'],\n",
      "      dtype='object')\n"
     ]
    }
   ],
   "source": [
    "big_game_df = pd.read_csv(\"data/nba/games.csv\")\n",
    "team_df = pd.read_csv(\"data/nba/teams.csv\")\n",
    "print(big_game_df.columns)"
   ]
  },
  {
   "cell_type": "code",
   "execution_count": 79,
   "id": "1cef0059",
   "metadata": {},
   "outputs": [],
   "source": [
    "game_df = big_game_df[['GAME_ID','SEASON', 'HOME_TEAM_ID', 'VISITOR_TEAM_ID', 'PTS_home', 'PTS_away']].copy()"
   ]
  },
  {
   "cell_type": "code",
   "execution_count": 80,
   "id": "a8bb378c",
   "metadata": {},
   "outputs": [
    {
     "name": "stdout",
     "output_type": "stream",
     "text": [
      "(1076, 6)\n"
     ]
    }
   ],
   "source": [
    "# only for 2021 season\n",
    "game_df = game_df[game_df['SEASON'] == 2021]\n",
    "game_df.dropna( inplace = True)\n",
    "print(game_df.shape)"
   ]
  },
  {
   "cell_type": "markdown",
   "id": "c189522f",
   "metadata": {},
   "source": [
    "### Teams"
   ]
  },
  {
   "cell_type": "code",
   "execution_count": 81,
   "id": "6767b1ac",
   "metadata": {},
   "outputs": [],
   "source": [
    "teams = set(game_df['HOME_TEAM_ID'].tolist())\n",
    "teams.update(set(game_df['VISITOR_TEAM_ID'].tolist()))\n",
    "teams = list(teams)\n",
    "\n",
    "team_names = []\n",
    "for team in teams:\n",
    "    team_names.append(str(team_df[team_df['TEAM_ID'] == team].iloc[0]['NICKNAME']))"
   ]
  },
  {
   "cell_type": "markdown",
   "id": "9bc6ceae",
   "metadata": {},
   "source": [
    "## 1. Naive Ranking"
   ]
  },
  {
   "cell_type": "code",
   "execution_count": 82,
   "id": "aca25a8f",
   "metadata": {},
   "outputs": [],
   "source": [
    "# each team scored based on the point difference of every game they've played\n",
    "# uses global variables team, game_df\n",
    "def naive_rank(game_df = game_df, teams = teams, team_names = team_names):\n",
    "    scores = {team_ID: 0 for team_ID in teams}\n",
    "    games_played = {team_ID: 0 for team_ID in teams}\n",
    "    for index, game in game_df.iterrows():\n",
    "        diff = int(game['PTS_away']) - int(game['PTS_home'])\n",
    "        scores[game['HOME_TEAM_ID']] += -diff\n",
    "        scores[game['VISITOR_TEAM_ID']] += diff\n",
    "        games_played[game['HOME_TEAM_ID']] += 1\n",
    "        games_played[game['VISITOR_TEAM_ID']] += 1\n",
    "    naive_r = []\n",
    "    for team, score in scores.items():\n",
    "        naive_r.append(score/ games_played[team])\n",
    "    naive_rank_df = pd.DataFrame({\n",
    "        'team': team_names,\n",
    "        'team_ID': teams,\n",
    "        'r': naive_r\n",
    "    })\n",
    "    naive_rank_df = naive_rank_df.sort_values(by =['r'],  ascending = False)\n",
    "    naive_rank_df = naive_rank_df.reset_index(drop = True)\n",
    "    return naive_rank_df"
   ]
  },
  {
   "cell_type": "code",
   "execution_count": 83,
   "id": "a17edf87",
   "metadata": {},
   "outputs": [
    {
     "name": "stdout",
     "output_type": "stream",
     "text": [
      "             team         r\n",
      "0            Suns  8.281690\n",
      "1        Warriors  6.794521\n",
      "2            Jazz  6.014085\n",
      "3       Grizzlies  5.270270\n",
      "4         Celtics  5.125000\n",
      "5            Heat  4.546667\n",
      "6       Mavericks  4.253521\n",
      "7           Bucks  3.465753\n",
      "8    Timberwolves  3.178082\n",
      "9           Bulls  2.718310\n",
      "10      Cavaliers  2.402778\n",
      "11        Nuggets  2.315068\n",
      "12          76ers  1.884058\n",
      "13        Raptors  1.625000\n",
      "14          Hawks  0.785714\n",
      "15          Spurs  0.136986\n",
      "16           Nets -0.056338\n",
      "17         Knicks -0.309859\n",
      "18       Clippers -1.383562\n",
      "19        Hornets -1.472222\n",
      "20         Pacers -2.541667\n",
      "21       Pelicans -2.690141\n",
      "22         Lakers -3.152778\n",
      "23        Wizards -3.157143\n",
      "24          Kings -4.342466\n",
      "25  Trail Blazers -7.257143\n",
      "26          Magic -7.388889\n",
      "27        Thunder -7.857143\n",
      "28        Pistons -8.830986\n",
      "29        Rockets -9.239437\n"
     ]
    }
   ],
   "source": [
    "print(naive_rank()[['team', 'r']])"
   ]
  },
  {
   "cell_type": "markdown",
   "id": "2219fcaf",
   "metadata": {},
   "source": [
    "## 2. HodgeRank"
   ]
  },
  {
   "cell_type": "code",
   "execution_count": 84,
   "id": "50ca247d",
   "metadata": {},
   "outputs": [],
   "source": [
    "def get_edges(num_nodes):\n",
    "    edges = []\n",
    "    for i in range(num_nodes):\n",
    "        for j in range(i + 1, num_nodes):\n",
    "            edges.append((i,j))\n",
    "    neg_divergence = np.zeros((len(edges), num_nodes))\n",
    "    return edges"
   ]
  },
  {
   "cell_type": "code",
   "execution_count": 85,
   "id": "79d0cde9",
   "metadata": {},
   "outputs": [],
   "source": [
    "# f is a vector representing pairwise differences between the nodes\n",
    "# w is a diagonal matrix containing the weights of each edge\n",
    "\n",
    "def get_f_W(game_df, teams):\n",
    "    #init edges, triangles, adj_matrix, curl, neg_divergence, f, and W\n",
    "    num_nodes = len(teams)\n",
    "    edges = get_edges(num_nodes)\n",
    "    \n",
    "    f = np.zeros((len(edges)))\n",
    "    W = np.zeros((len(edges), len(edges)))\n",
    "    for index, game in game_df.iterrows():\n",
    "        home_index = teams.index(game['HOME_TEAM_ID'])\n",
    "        opp_index = teams.index(game['VISITOR_TEAM_ID'])\n",
    "        diff = int(game['PTS_away']) - int(game['PTS_home'])\n",
    "        if home_index < opp_index:\n",
    "            edge = (home_index, opp_index)\n",
    "        else:\n",
    "            diff = -diff\n",
    "            edge = (opp_index, home_index)\n",
    "        i = edges.index(edge)\n",
    "        W[i, i] += 1\n",
    "        f[i] += diff\n",
    "    for i in range(len(edges)):\n",
    "        if W[i, i] != 0:\n",
    "            f[i] = f[i]*1/W[i,i]\n",
    "        else:\n",
    "            f[i] = 0\n",
    "    return (f, W)"
   ]
  },
  {
   "cell_type": "code",
   "execution_count": 86,
   "id": "74f6e736",
   "metadata": {},
   "outputs": [],
   "source": [
    "def get_error(f, W, edges, r):\n",
    "    sum = 0\n",
    "    for i in range(len(edges)):\n",
    "        to_add = 1*(f[i] + (r[edges[i][0]] - r[edges[i][1]]))**2\n",
    "        sum += to_add\n",
    "        #print(\"error at \", i,\": \", to_add)\n",
    "    return sum"
   ]
  },
  {
   "cell_type": "code",
   "execution_count": 87,
   "id": "07744aa5",
   "metadata": {},
   "outputs": [],
   "source": [
    "def get_neg_divergence(edges, num_nodes):\n",
    "    neg_divergence = np.zeros((len(edges), num_nodes))            \n",
    "    # neg_divergence\n",
    "    for i in range(len(edges)):\n",
    "        for j in range(num_nodes):\n",
    "            if edges[i][0] == j:\n",
    "                neg_divergence[i,j] = -1\n",
    "            elif edges[i][1] == j:\n",
    "                neg_divergence[i,j] = 1\n",
    "    return neg_divergence"
   ]
  },
  {
   "cell_type": "code",
   "execution_count": 88,
   "id": "7e65073e",
   "metadata": {},
   "outputs": [],
   "source": [
    "def rank(game_df):\n",
    "    teams = set(game_df['HOME_TEAM_ID'].tolist())\n",
    "    teams.update(set(game_df['VISITOR_TEAM_ID'].tolist()))\n",
    "    teams = list(teams)\n",
    "\n",
    "    team_names = []\n",
    "    for team in teams:\n",
    "        team_names.append(str(team_df[team_df['TEAM_ID'] == team].iloc[0]['NICKNAME']))\n",
    "    \n",
    "    #init edges, triangles, adj_matrix, curl, neg_divergence, f, and W\n",
    "    num_nodes = len(teams)\n",
    "    \n",
    "    edges = get_edges(num_nodes)\n",
    "    neg_divergence = get_neg_divergence(edges, num_nodes)\n",
    "    (f, W) = get_f_W(game_df, teams)\n",
    "        \n",
    "    right_side = np.matmul(np.transpose(neg_divergence), np.matmul(W, f))\n",
    "    left_side = np.matmul(np.matmul(np.transpose(neg_divergence), W), neg_divergence)\n",
    "\n",
    "    r = np.matmul(np.linalg.pinv(left_side), right_side)\n",
    "    \n",
    "    rank_df = pd.DataFrame({\n",
    "    'team': team_names,\n",
    "    'r': r\n",
    "    })\n",
    "\n",
    "    rank_df = rank_df.sort_values(by =['r'],  ascending = False)\n",
    "    rank_df = rank_df.reset_index(drop = True)\n",
    "    \n",
    "    return(rank_df, get_error(f, W, edges, r))\n",
    "\n",
    "    #rank_df.to_csv('data/hodge_ranking.csv')"
   ]
  },
  {
   "cell_type": "code",
   "execution_count": 89,
   "id": "ae54878a",
   "metadata": {},
   "outputs": [
    {
     "name": "stdout",
     "output_type": "stream",
     "text": [
      "             team         r\n",
      "0            Suns  7.556319\n",
      "1        Warriors  6.492398\n",
      "2            Jazz  5.609594\n",
      "3       Grizzlies  4.829419\n",
      "4         Celtics  4.436565\n",
      "5            Heat  4.335416\n",
      "6       Mavericks  4.225644\n",
      "7           Bucks  3.164290\n",
      "8    Timberwolves  2.894025\n",
      "9       Cavaliers  2.364359\n",
      "10          Bulls  2.351655\n",
      "11        Nuggets  2.102093\n",
      "12          76ers  1.767214\n",
      "13        Raptors  1.702416\n",
      "14          Hawks  1.282467\n",
      "15           Nets  0.101050\n",
      "16          Spurs  0.045777\n",
      "17         Knicks -0.306826\n",
      "18       Clippers -1.228548\n",
      "19        Hornets -1.299388\n",
      "20       Pelicans -2.183597\n",
      "21         Pacers -2.251863\n",
      "22         Lakers -3.192266\n",
      "23        Wizards -3.263490\n",
      "24          Kings -4.236429\n",
      "25  Trail Blazers -6.199932\n",
      "26          Magic -6.842637\n",
      "27        Thunder -7.306982\n",
      "28        Pistons -8.199562\n",
      "29        Rockets -8.749182\n",
      "error:  37727.69548748602\n"
     ]
    }
   ],
   "source": [
    "(r_regular, error_regular) = rank(game_df)\n",
    "print(r_regular)\n",
    "print(\"error: \", error_regular)"
   ]
  },
  {
   "cell_type": "markdown",
   "id": "04f24ab6",
   "metadata": {},
   "source": [
    "## 3. Initial grouping method\n",
    "grouping teams together based on naive rank"
   ]
  },
  {
   "cell_type": "code",
   "execution_count": 90,
   "id": "b252a051",
   "metadata": {},
   "outputs": [],
   "source": [
    "num_nodes = len(teams)\n",
    "k = 3 #TODO: modify this value\n",
    "\"\"\"\n",
    "a (very convulated) way to almost evenly distribute all nodes into \n",
    "groupings such that each group has at least \n",
    "group_size number of nodes\n",
    "\"\"\"\n",
    "def get_group_lengths(k = 3):\n",
    "    group_size = math.floor(num_nodes/k)\n",
    "    group_lengths = [group_size]*k\n",
    "    for n in range(num_nodes - group_size * len(group_lengths)):\n",
    "        group_lengths[n % len(group_lengths)] += 1\n",
    "    return(group_lengths)\n",
    "\n",
    "group_lengths = get_group_lengths()\n",
    "#print(group_lengths)"
   ]
  },
  {
   "cell_type": "code",
   "execution_count": 91,
   "id": "a7f1b276",
   "metadata": {},
   "outputs": [
    {
     "name": "stdout",
     "output_type": "stream",
     "text": [
      "[[1610612756, 1610612744, 1610612762, 1610612763, 1610612738, 1610612748, 1610612742, 1610612749, 1610612750, 1610612741], [1610612739, 1610612743, 1610612755, 1610612761, 1610612737, 1610612759, 1610612751, 1610612752, 1610612746, 1610612766], [1610612754, 1610612740, 1610612747, 1610612764, 1610612758, 1610612757, 1610612753, 1610612760, 1610612765, 1610612745]]\n"
     ]
    }
   ],
   "source": [
    "def group_similar_scoring(k = k):\n",
    "    naive_r = naive_rank()\n",
    "\n",
    "    # sort by score\n",
    "    scores_df = naive_r[['r', 'team_ID']]\n",
    "    scores_df = scores_df.sort_values(by =['r'],  ascending = False)\n",
    "    scores_df = scores_df.reset_index(drop = True)\n",
    "    ranked_teams = list(scores_df['team_ID'])\n",
    "    #print(scores_df)\n",
    "\n",
    "    # fill list with groups of teams, sorted by score\n",
    "    groupings = []\n",
    "    for group_length in get_group_lengths(k):\n",
    "        groupings.append(ranked_teams[0:group_length])\n",
    "        ranked_teams = ranked_teams[group_length:]\n",
    "    return(groupings)\n",
    "\n",
    "groupings = group_similar_scoring()\n",
    "print(groupings)"
   ]
  },
  {
   "cell_type": "code",
   "execution_count": 92,
   "id": "90cbbfe6",
   "metadata": {},
   "outputs": [
    {
     "name": "stdout",
     "output_type": "stream",
     "text": [
      "             team         r\n",
      "0            Suns  3.633397\n",
      "1        Warriors  2.932553\n",
      "2            Jazz  1.863423\n",
      "3            Heat  1.362069\n",
      "4       Mavericks  1.341824\n",
      "5         Celtics  0.977510\n",
      "6    Timberwolves  0.826573\n",
      "7           Bucks -2.960224\n",
      "8       Grizzlies -4.180203\n",
      "9           Bulls -5.796922\n",
      "10      Cavaliers  2.689654\n",
      "11          76ers  2.506727\n",
      "12        Raptors  2.068132\n",
      "13           Nets  1.782542\n",
      "14        Nuggets  1.619619\n",
      "15        Hornets  1.173192\n",
      "16         Knicks -0.754015\n",
      "17          Hawks -2.177948\n",
      "18       Clippers -2.330151\n",
      "19          Spurs -6.577751\n",
      "20       Pelicans  4.890045\n",
      "21          Kings  3.450702\n",
      "22         Lakers  3.178861\n",
      "23  Trail Blazers  0.362617\n",
      "24         Pacers -0.279938\n",
      "25        Rockets -0.898655\n",
      "26        Thunder -1.047710\n",
      "27        Wizards -2.308111\n",
      "28          Magic -2.381868\n",
      "29        Pistons -4.965944\n"
     ]
    }
   ],
   "source": [
    "r_groups = pd.DataFrame(columns = ['team', 'r'])\n",
    "error_groups1 = 0\n",
    "# create ranking for each grouping\n",
    "for grouping in groupings:\n",
    "    small_game_df = game_df[game_df['HOME_TEAM_ID'].isin(grouping)]\n",
    "    small_game_df = small_game_df[small_game_df['VISITOR_TEAM_ID'].isin(grouping)]\n",
    "    (group_rank, group_error) = rank(small_game_df)\n",
    "    r_groups = r_groups.append(group_rank)\n",
    "    error_groups1 += group_error\n",
    "\n",
    "r_groups = r_groups.reset_index(drop = True)\n",
    "print(r_groups)\n",
    "#print(\"error: \", error_groups1)\n",
    "    "
   ]
  },
  {
   "cell_type": "code",
   "execution_count": 93,
   "id": "615f3a7c",
   "metadata": {},
   "outputs": [
    {
     "name": "stdout",
     "output_type": "stream",
     "text": [
      "KendalltauResult(correlation=0.39310344827586213, pvalue=0.001965544378759685)\n",
      "KendalltauResult(correlation=0.5555555555555555, pvalue=0.02860945767195767)\n"
     ]
    }
   ],
   "source": [
    "print(stats.kendalltau(r_groups['team'], r_regular['team']))\n",
    "print(stats.kendalltau(list(r_groups['team'])[:10], list(r_regular['team'])[:10]))"
   ]
  },
  {
   "cell_type": "markdown",
   "id": "20b4a55d",
   "metadata": {},
   "source": [
    "## 4. Improved grouping method\n",
    "including the other groups as nodes"
   ]
  },
  {
   "cell_type": "code",
   "execution_count": 94,
   "id": "ca53ceb1",
   "metadata": {},
   "outputs": [],
   "source": [
    "group_lengths = get_group_lengths(group_size)\n",
    "groupings = group_similar_scoring()"
   ]
  },
  {
   "cell_type": "code",
   "execution_count": 95,
   "id": "e8e07e5a",
   "metadata": {},
   "outputs": [
    {
     "name": "stdout",
     "output_type": "stream",
     "text": [
      "             team         r\n",
      "0            Suns  4.161130\n",
      "1        Warriors  3.083983\n",
      "2            Jazz  2.043965\n",
      "3       Grizzlies  1.469666\n",
      "4         Celtics  1.050483\n",
      "5            Heat  0.865651\n",
      "6       Mavericks  0.844736\n",
      "7           Bucks -0.230932\n",
      "8    Timberwolves -0.570963\n",
      "9           Bulls -1.189181\n",
      "10      Cavaliers  1.799867\n",
      "11        Nuggets  1.664072\n",
      "12          76ers  1.476747\n",
      "13        Raptors  1.210336\n",
      "14          Hawks  0.866823\n",
      "15           Nets -0.369443\n",
      "16          Spurs -0.490471\n",
      "17         Knicks -0.823813\n",
      "18        Hornets -1.753454\n",
      "19       Clippers -1.880912\n",
      "20         Pacers  1.823121\n",
      "21       Pelicans  1.715692\n",
      "22         Lakers  0.751654\n",
      "23        Wizards  0.678636\n",
      "24          Kings -0.407239\n",
      "25  Trail Blazers -2.455151\n",
      "26          Magic -2.718680\n",
      "27        Thunder -3.434886\n",
      "28        Pistons -4.196151\n",
      "29        Rockets -4.882323\n"
     ]
    }
   ],
   "source": [
    "r_groups_2 = pd.DataFrame(columns = ['team', 'r'])\n",
    "fake_teams = set()\n",
    "error_groups2 = 0\n",
    "\n",
    "# create ranking for each grouping\n",
    "for grouping in groupings:\n",
    "    # create new df such that the nodes of another group is condensed into one node, where the weight on it's edges \n",
    "    # is equivalent to the sum of the weights of stuff going out of it. \n",
    "    # the \n",
    "    new_grouping = grouping.copy()\n",
    "    small_game_df = game_df.copy()\n",
    "\n",
    "    for i, other_grouping in enumerate(groupings):\n",
    "        if other_grouping == grouping: \n",
    "            continue\n",
    "        df_to_remove = game_df[game_df['HOME_TEAM_ID'].isin(other_grouping)]\n",
    "        df_to_remove = df_to_remove[df_to_remove['VISITOR_TEAM_ID'].isin(other_grouping)]\n",
    "        cond = small_game_df['GAME_ID'].isin(df_to_remove['GAME_ID'])\n",
    "        small_game_df.drop(small_game_df[cond].index, inplace = True)\n",
    "        new_team_name = 'OTHER_TEAM' + str(i)\n",
    "        fake_teams.add(new_team_name)\n",
    "        new_grouping.append(new_team_name)\n",
    "        team_df = team_df.append({'TEAM_ID':new_team_name, 'NICKNAME':new_team_name}, ignore_index = True)\n",
    "\n",
    "        small_game_df.loc[small_game_df['HOME_TEAM_ID'].isin(other_grouping), 'HOME_TEAM_ID'] = new_team_name\n",
    "        small_game_df.loc[small_game_df['VISITOR_TEAM_ID'].isin(other_grouping), 'VISITOR_TEAM_ID'] = new_team_name            \n",
    "    #print(small_game_df.head())\n",
    "    (group_r, group_error) = rank(small_game_df)\n",
    "    r_groups_2 = r_groups_2.append(group_r)\n",
    "    error_groups2 += group_error\n",
    "    \n",
    "r_groups_2 = r_groups_2[~r_groups_2['team'].isin(fake_teams)]\n",
    "r_groups_2 = r_groups_2.reset_index(drop = True)\n",
    "print(r_groups_2)\n",
    "#print(\"error: \", error_groups2)\n",
    "    "
   ]
  },
  {
   "cell_type": "code",
   "execution_count": 96,
   "id": "ad696c6c",
   "metadata": {},
   "outputs": [
    {
     "name": "stdout",
     "output_type": "stream",
     "text": [
      "KendalltauResult(correlation=0.9586206896551724, pvalue=1.1518295418806186e-24)\n",
      "KendalltauResult(correlation=0.9999999999999999, pvalue=5.511463844797178e-07)\n"
     ]
    }
   ],
   "source": [
    "#Kendall's Tau\n",
    "print(stats.kendalltau(r_groups_2['team'], r_regular['team']))\n",
    "\n",
    "#Kendall's Tau of first n teams\n",
    "n = 10\n",
    "print(stats.kendalltau(list(r_groups_2['team'])[:n], list(r_regular['team'])[:n]))"
   ]
  },
  {
   "cell_type": "code",
   "execution_count": 50,
   "id": "1d4c1825",
   "metadata": {},
   "outputs": [],
   "source": [
    "#print(error_regular, error_groups1, error_groups2)"
   ]
  }
 ],
 "metadata": {
  "kernelspec": {
   "display_name": "Python 3.7.9 64-bit",
   "language": "python",
   "name": "python379jvsc74a57bd0e534e48711db4d1e1c48977d0d14ff85b1f16d41bcc4fdfd88268a329b3c9d66"
  },
  "language_info": {
   "codemirror_mode": {
    "name": "ipython",
    "version": 3
   },
   "file_extension": ".py",
   "mimetype": "text/x-python",
   "name": "python",
   "nbconvert_exporter": "python",
   "pygments_lexer": "ipython3",
   "version": "3.7.9"
  }
 },
 "nbformat": 4,
 "nbformat_minor": 5
}
