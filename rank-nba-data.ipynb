{
 "cells": [
  {
   "cell_type": "markdown",
   "id": "46980869",
   "metadata": {},
   "source": [
    "Data downloaded from https://www.kaggle.com/datasets/nathanlauga/nba-games?select=games.csv, originally from Sports Data LLC (https://www.sports-reference.com/)"
   ]
  },
  {
   "cell_type": "code",
   "execution_count": 1,
   "id": "6bd13180",
   "metadata": {},
   "outputs": [],
   "source": [
    "import csv\n",
    "import pandas as pd\n",
    "import numpy as np"
   ]
  },
  {
   "cell_type": "markdown",
   "id": "dc7bb4b6",
   "metadata": {},
   "source": [
    "## Processing Data"
   ]
  },
  {
   "cell_type": "code",
   "execution_count": 2,
   "id": "d173697e",
   "metadata": {},
   "outputs": [],
   "source": [
    "big_game_df = pd.read_csv(\"data/nba/games.csv\")\n",
    "team_df = pd.read_csv(\"data/nba/teams.csv\")"
   ]
  },
  {
   "cell_type": "code",
   "execution_count": 3,
   "id": "1cef0059",
   "metadata": {},
   "outputs": [],
   "source": [
    "game_df = big_game_df[['SEASON', 'HOME_TEAM_ID', 'VISITOR_TEAM_ID', 'PTS_home', 'PTS_away']].copy()"
   ]
  },
  {
   "cell_type": "code",
   "execution_count": 4,
   "id": "a8bb378c",
   "metadata": {},
   "outputs": [
    {
     "name": "stdout",
     "output_type": "stream",
     "text": [
      "(1076, 5)\n"
     ]
    }
   ],
   "source": [
    "# only for 2021 season\n",
    "game_df = game_df[game_df['SEASON'] == 2021]\n",
    "game_df.dropna( inplace = True)\n",
    "print(game_df.shape)"
   ]
  },
  {
   "cell_type": "markdown",
   "id": "0dde3b62",
   "metadata": {},
   "source": [
    "### team_names"
   ]
  },
  {
   "cell_type": "code",
   "execution_count": 5,
   "id": "d78daf9f",
   "metadata": {},
   "outputs": [],
   "source": [
    "teams = set(game_df['HOME_TEAM_ID'].tolist())\n",
    "teams.update(set(game_df['VISITOR_TEAM_ID'].tolist()))\n",
    "teams = list(teams)"
   ]
  },
  {
   "cell_type": "code",
   "execution_count": 6,
   "id": "d23caa74",
   "metadata": {},
   "outputs": [
    {
     "name": "stdout",
     "output_type": "stream",
     "text": [
      "['Hawks', 'Celtics', 'Cavaliers', 'Pelicans', 'Bulls', 'Mavericks', 'Nuggets', 'Warriors', 'Rockets', 'Clippers', 'Lakers', 'Heat', 'Bucks', 'Timberwolves', 'Nets', 'Knicks', 'Magic', 'Pacers', '76ers', 'Suns', 'Trail Blazers', 'Kings', 'Spurs', 'Thunder', 'Raptors', 'Jazz', 'Grizzlies', 'Wizards', 'Pistons', 'Hornets']\n"
     ]
    }
   ],
   "source": [
    "team_names = []\n",
    "for team in teams:\n",
    "    team_names.append(str(team_df[team_df['TEAM_ID'] == team].iloc[0]['NICKNAME']))\n",
    "print(team_names)"
   ]
  },
  {
   "cell_type": "markdown",
   "id": "9bc6ceae",
   "metadata": {},
   "source": [
    "## Naive Ranking"
   ]
  },
  {
   "cell_type": "code",
   "execution_count": 7,
   "id": "aca25a8f",
   "metadata": {},
   "outputs": [],
   "source": [
    "# each team scored based on the point difference of every game they've played\n",
    "scores = {team_ID: 0 for team_ID in teams}\n",
    "games_played = {team_ID: 0 for team_ID in teams}\n",
    "for index, game in game_df.iterrows():\n",
    "    diff = int(game['PTS_away']) - int(game['PTS_home'])\n",
    "    scores[game['HOME_TEAM_ID']] += -diff\n",
    "    scores[game['VISITOR_TEAM_ID']] += diff\n",
    "    games_played[game['HOME_TEAM_ID']] += 1\n",
    "    games_played[game['VISITOR_TEAM_ID']] += 1"
   ]
  },
  {
   "cell_type": "code",
   "execution_count": 8,
   "id": "2dcd247e",
   "metadata": {},
   "outputs": [],
   "source": [
    "naive_r = []\n",
    "for team, score in scores.items():\n",
    "    naive_r.append(score/ games_played[team])"
   ]
  },
  {
   "cell_type": "code",
   "execution_count": 9,
   "id": "a17edf87",
   "metadata": {},
   "outputs": [
    {
     "name": "stdout",
     "output_type": "stream",
     "text": [
      "             team         r\n",
      "0            Suns  8.281690\n",
      "1        Warriors  6.794521\n",
      "2            Jazz  6.014085\n",
      "3       Grizzlies  5.270270\n",
      "4         Celtics  5.125000\n",
      "5            Heat  4.546667\n",
      "6       Mavericks  4.253521\n",
      "7           Bucks  3.465753\n",
      "8    Timberwolves  3.178082\n",
      "9           Bulls  2.718310\n",
      "10      Cavaliers  2.402778\n",
      "11        Nuggets  2.315068\n",
      "12          76ers  1.884058\n",
      "13        Raptors  1.625000\n",
      "14          Hawks  0.785714\n",
      "15          Spurs  0.136986\n",
      "16           Nets -0.056338\n",
      "17         Knicks -0.309859\n",
      "18       Clippers -1.383562\n",
      "19        Hornets -1.472222\n",
      "20         Pacers -2.541667\n",
      "21       Pelicans -2.690141\n",
      "22         Lakers -3.152778\n",
      "23        Wizards -3.157143\n",
      "24          Kings -4.342466\n",
      "25  Trail Blazers -7.257143\n",
      "26          Magic -7.388889\n",
      "27        Thunder -7.857143\n",
      "28        Pistons -8.830986\n",
      "29        Rockets -9.239437\n"
     ]
    }
   ],
   "source": [
    "naive_rank_df = pd.DataFrame({\n",
    "    'team': team_names,\n",
    "    'r': naive_r\n",
    "})\n",
    "naive_rank_df = naive_rank_df.sort_values(by =['r'],  ascending = False)\n",
    "naive_rank_df = naive_rank_df.reset_index(drop = True)\n",
    "print(naive_rank_df)"
   ]
  },
  {
   "cell_type": "markdown",
   "id": "2219fcaf",
   "metadata": {},
   "source": [
    "## Building the graph, matrices, and vectors"
   ]
  },
  {
   "cell_type": "code",
   "execution_count": 10,
   "id": "7e65073e",
   "metadata": {},
   "outputs": [],
   "source": [
    "#init edges, triangles, adj_matrix, curl, neg_divergence, f, and W\n",
    "edges = []\n",
    "num_nodes = len(teams)\n",
    "for i in range(num_nodes):\n",
    "        for j in range(i + 1, num_nodes):\n",
    "            edges.append((i,j))\n",
    "neg_divergence = np.zeros((len(edges), num_nodes))\n",
    "\n",
    "f = np.zeros((len(edges)))\n",
    "W = np.zeros((len(edges), len(edges)))"
   ]
  },
  {
   "cell_type": "code",
   "execution_count": 11,
   "id": "95e178b2",
   "metadata": {},
   "outputs": [
    {
     "name": "stdout",
     "output_type": "stream",
     "text": [
      "435\n"
     ]
    }
   ],
   "source": [
    "print(len(edges))"
   ]
  },
  {
   "cell_type": "code",
   "execution_count": 12,
   "id": "251fc2f0",
   "metadata": {},
   "outputs": [
    {
     "name": "stdout",
     "output_type": "stream",
     "text": [
      "[ -2.          -0.5         -3.           6.          -8.5\n",
      "  13.5         14.           6.           3.5          4.\n",
      "   3.8         -6.         -11.5          8.5         10.66666667\n",
      " -11.25       -12.           9.33333333  -2.5          5.\n",
      " -11.5         -1.5        -12.          -3.33333333  15.\n",
      " -18.           0.33333333  -7.5         -9.66666667  -4.66666667\n",
      " -11.           6.           3.          -6.           4.\n",
      " -14.           6.          -3.5         -8.66666667  -6.33333333\n",
      "   5.         -11.25        -6.         -10.2         -0.33333333\n",
      "  -8.           3.         -12.         -53.           5.\n",
      "  -6.           0.5          7.         -13.          -5.66666667\n",
      "  -7.          -5.5          0.5          7.4        -18.\n",
      " -12.          14.5        -12.         -13.          12.\n",
      "  -8.33333333 -12.33333333  -6.           2.66666667  -9.5\n",
      " -13.          -5.66666667   8.           7.          -8.\n",
      "  -7.5         -9.          -6.         -18.          -9.5\n",
      "   7.5         -0.25        -2.33333333   7.          26.\n",
      "   9.75         4.25        18.          -5.33333333 -18.66666667\n",
      " -28.          15.           9.5          2.4         11.5\n",
      "  -2.5         -6.           6.5         15.           3.33333333\n",
      " -14.          -4.33333333  12.5          3.33333333 -13.\n",
      "   5.8          7.33333333 -10.         -13.          22.\n",
      "   2.          -9.          34.          -5.         -10.\n",
      " -11.5         14.           5.         -12.          -0.33333333\n",
      "  -3.          -7.75         3.75        10.           3.\n",
      "  -4.5         -7.          -1.          -3.          -0.66666667\n",
      "  -8.           2.          -4.5        -18.25       -13.\n",
      "   2.33333333   1.5        -15.66666667  -3.          -1.\n",
      "   3.5         -2.          -3.           3.          26.5\n",
      "  -7.          -7.          -9.           7.66666667 -17.5\n",
      "  -5.5         -6.66666667  -6.          -6.          -2.25\n",
      " -10.25         6.         -30.         -46.           0.4\n",
      "  -9.66666667  -0.5        -37.         -13.         -12.5\n",
      "   8.         -13.         -15.5         -2.5         -3.\n",
      "  14.           8.5        -18.5         -9.75        -3.\n",
      "   5.           5.5         11.25         5.          -6.\n",
      "  -5.5          8.          -9.66666667  -4.25        -4.\n",
      "  -7.           3.           3.25       -11.          -3.5\n",
      " -31.           1.          -5.5         -7.66666667 -19.6\n",
      " -13.           0.5        -13.66666667   2.           5.66666667\n",
      "   0.66666667   0.          -9.5         -9.          15.\n",
      "   3.          11.33333333  14.5         18.         -10.\n",
      "  10.           3.          12.          20.          13.66666667\n",
      "  13.5          3.          19.75        -9.5         17.\n",
      "  16.25        10.          -4.5         -0.5         10.5\n",
      "  -7.25         2.          24.          -2.4          6.\n",
      "  15.5         -5.5          0.          -1.           2.66666667\n",
      "  -7.75         3.25         5.66666667  -2.           8.\n",
      "  21.          14.75        -3.5        -11.         -19.5\n",
      "   1.5         11.          12.33333333   7.66666667  -0.5\n",
      " -11.5         -0.5         18.          17.25        -5.25\n",
      "  -3.2          5.75        -3.33333333   0.          -5.5\n",
      "   5.75       -13.          -4.5          0.          -7.\n",
      "  10.5         -7.66666667 -14.5        -12.33333333  -9.\n",
      "  -3.66666667  -1.          -9.           2.          -8.33333333\n",
      " -13.           1.          -4.5         -5.5        -10.\n",
      "  -0.33333333  -9.5          5.          -7.          -6.75\n",
      " -18.75       -13.          -3.           7.          -7.\n",
      "  -6.          -0.5        -18.           5.66666667   8.\n",
      "  -1.          -3.5        -13.33333333  -3.5          0.\n",
      "   3.          13.          -5.5         15.           6.5\n",
      " -16.          -5.66666667 -25.         -26.25        12.\n",
      "   9.          -8.25         8.         -12.           6.\n",
      "  -3.5         -9.33333333  -7.5         -4.8          8.\n",
      "   6.          -6.5         -8.5         -1.5          5.5\n",
      "  23.          14.           0.         -14.66666667   2.5\n",
      "  -4.33333333  -1.2          2.75        11.           9.\n",
      " -18.         -13.5          9.5          9.           9.\n",
      "   8.          -4.33333333 -10.33333333   9.          -3.\n",
      "   9.33333333  15.          -4.          12.          13.33333333\n",
      "   0.          -2.5          4.          24.           6.66666667\n",
      "  -1.33333333   3.          -5.          14.           4.\n",
      "  -3.         -12.           0.5          1.33333333 -11.5\n",
      "  -2.           0.           1.33333333  11.           5.\n",
      "  -1.5         -5.         -12.5        -12.5          1.25\n",
      "  28.5         16.           0.33333333  -5.           1.33333333\n",
      " -12.           3.          -6.75       -16.66666667   0.5\n",
      "  -3.33333333 -12.         -17.5        -19.         -32.5\n",
      "   1.5         31.          10.          -7.          25.\n",
      "  -4.75        -7.         -18.           1.5          3.\n",
      "  -8.75        21.          10.5         23.66666667 -13.5\n",
      " -10.         -14.5         -8.33333333  20.          -6.\n",
      "  11.33333333 -10.5         -8.          11.           9.\n",
      "  13.33333333  35.           3.         -11.          19.5\n",
      "   1.          -3.          -3.           8.           1.66666667\n",
      "   5.5         -9.5          0.         -10.           4.\n",
      " -30.          -9.          -5.           4.33333333  16.66666667]\n"
     ]
    }
   ],
   "source": [
    "# f, w\n",
    "# f is a vector representing pairwise differences between the nodes\n",
    "# w is a diagonal matrix containing the weights of each edge\n",
    "\n",
    "W = np.zeros((len(edges), len(edges)))\n",
    "w = np.zeros(len(edges))\n",
    "f = np.zeros((len(edges)))\n",
    "for index, game in game_df.iterrows():\n",
    "    home_index = teams.index(game['HOME_TEAM_ID'])\n",
    "    opp_index = teams.index(game['VISITOR_TEAM_ID'])\n",
    "    diff = int(game['PTS_away']) - int(game['PTS_home'])\n",
    "    if home_index < opp_index:\n",
    "        edge = (home_index, opp_index)\n",
    "    else:\n",
    "        diff = -diff\n",
    "        edge = (opp_index, home_index)\n",
    "    i = edges.index(edge)\n",
    "    W[i, i] += 1\n",
    "    w[i] += 1\n",
    "    f[i] += diff\n",
    "for i in range(len(edges)):\n",
    "    if W[i, i] != 0:\n",
    "        f[i] = f[i]*1/W[i,i]\n",
    "    else:\n",
    "        f[i] = 0\n",
    "print(f)\n"
   ]
  },
  {
   "cell_type": "code",
   "execution_count": 13,
   "id": "05abdeb7",
   "metadata": {},
   "outputs": [
    {
     "name": "stdout",
     "output_type": "stream",
     "text": [
      "[4. 4. 1. 4. 2. 2. 1. 1. 2. 2. 5. 3. 2. 2. 3. 4. 2. 3. 2. 1. 2. 2. 1. 3.\n",
      " 2. 2. 3. 2. 3. 3. 2. 2. 1. 1. 1. 2. 2. 2. 3. 3. 1. 4. 4. 5. 3. 4. 2. 2.\n",
      " 1. 2. 1. 4. 1. 1. 3. 4. 4. 2. 5. 1. 1. 2. 2. 1. 1. 3. 3. 2. 3. 2. 1. 6.\n",
      " 2. 2. 2. 2. 2. 2. 3. 2. 2. 4. 3. 4. 2. 4. 4. 2. 3. 3. 1. 2. 2. 5. 2. 2.\n",
      " 3. 2. 2. 3. 1. 3. 2. 3. 2. 5. 3. 2. 2. 1. 2. 2. 2. 2. 1. 2. 3. 2. 1. 3.\n",
      " 3. 4. 4. 4. 1. 2. 1. 2. 2. 3. 1. 3. 2. 4. 2. 3. 4. 3. 5. 2. 2. 2. 2. 1.\n",
      " 2. 2. 2. 1. 3. 2. 4. 3. 4. 2. 4. 4. 1. 1. 2. 5. 3. 4. 1. 2. 2. 4. 2. 2.\n",
      " 2. 1. 1. 2. 4. 4. 3. 5. 2. 4. 3. 1. 2. 1. 3. 4. 5. 1. 2. 4. 2. 2. 1. 2.\n",
      " 2. 3. 5. 3. 2. 3. 2. 3. 3. 0. 2. 2. 3. 4. 3. 2. 2. 1. 2. 2. 1. 2. 3. 2.\n",
      " 2. 4. 4. 2. 4. 3. 2. 2. 2. 4. 2. 1. 5. 2. 2. 2. 2. 1. 3. 4. 4. 3. 2. 1.\n",
      " 1. 4. 2. 1. 2. 2. 2. 3. 3. 2. 2. 2. 1. 4. 4. 5. 4. 3. 0. 2. 4. 1. 2. 2.\n",
      " 4. 2. 3. 2. 3. 3. 3. 2. 2. 1. 3. 1. 3. 2. 2. 4. 3. 4. 1. 4. 4. 4. 4. 2.\n",
      " 2. 2. 1. 2. 3. 3. 2. 2. 2. 3. 4. 3. 2. 2. 2. 2. 2. 4. 3. 1. 4. 1. 4. 4.\n",
      " 1. 2. 2. 2. 3. 2. 5. 2. 1. 2. 2. 2. 4. 1. 1. 4. 3. 2. 3. 5. 4. 2. 1. 2.\n",
      " 2. 2. 3. 1. 2. 3. 3. 2. 3. 3. 2. 2. 1. 3. 0. 2. 2. 2. 3. 3. 3. 1. 2. 1.\n",
      " 1. 2. 2. 3. 2. 1. 4. 3. 4. 1. 2. 2. 2. 2. 4. 2. 2. 3. 3. 3. 5. 3. 4. 3.\n",
      " 2. 3. 2. 2. 2. 2. 4. 1. 2. 2. 3. 4. 2. 1. 2. 3. 4. 2. 4. 3. 2. 2. 2. 3.\n",
      " 2. 4. 3. 2. 3. 2. 2. 3. 2. 2. 1. 2. 2. 2. 5. 3. 3. 2. 2. 2. 1. 2. 3. 3.\n",
      " 3. 3. 3.]\n"
     ]
    }
   ],
   "source": [
    "print(w)"
   ]
  },
  {
   "cell_type": "code",
   "execution_count": 14,
   "id": "204d825f",
   "metadata": {},
   "outputs": [
    {
     "name": "stdout",
     "output_type": "stream",
     "text": [
      "[[-1.  1.  0. ...  0.  0.  0.]\n",
      " [-1.  0.  1. ...  0.  0.  0.]\n",
      " [-1.  0.  0. ...  0.  0.  0.]\n",
      " ...\n",
      " [ 0.  0.  0. ... -1.  1.  0.]\n",
      " [ 0.  0.  0. ... -1.  0.  1.]\n",
      " [ 0.  0.  0. ...  0. -1.  1.]]\n"
     ]
    }
   ],
   "source": [
    "# neg_divergence, edges x nodes\n",
    "for i in range(len(edges)):\n",
    "    for j in range(num_nodes):\n",
    "        if edges[i][0] == j:\n",
    "            neg_divergence[i,j] = -1\n",
    "        elif edges[i][1] == j:\n",
    "            neg_divergence[i,j] = 1\n",
    "print(neg_divergence)"
   ]
  },
  {
   "cell_type": "code",
   "execution_count": 15,
   "id": "0d237e3f",
   "metadata": {},
   "outputs": [
    {
     "name": "stdout",
     "output_type": "stream",
     "text": [
      "[ 1.28246727  4.43656461  2.36435915 -2.18359708  2.35165521  4.22564431\n",
      "  2.10209339  6.49239783 -8.7491817  -1.22854766 -3.19226628  4.33541596\n",
      "  3.16428958  2.89402519  0.10105    -0.30682556 -6.8426367  -2.25186342\n",
      "  1.76721406  7.55631855 -6.19993212 -4.23642858  0.0457767  -7.30698196\n",
      "  1.70241609  5.60959399  4.82941923 -3.2634901  -8.19956173 -1.29938825]\n"
     ]
    }
   ],
   "source": [
    "right_side = np.matmul(np.transpose(neg_divergence), np.matmul(W, f))\n",
    "left_side = np.matmul(np.matmul(np.transpose(neg_divergence), W), neg_divergence)\n",
    "r = np.matmul(np.linalg.pinv(left_side), right_side)\n",
    "print(r)"
   ]
  },
  {
   "cell_type": "code",
   "execution_count": 16,
   "id": "2600c723",
   "metadata": {},
   "outputs": [
    {
     "name": "stdout",
     "output_type": "stream",
     "text": [
      "             team         r\n",
      "0            Suns  7.556319\n",
      "1        Warriors  6.492398\n",
      "2            Jazz  5.609594\n",
      "3       Grizzlies  4.829419\n",
      "4         Celtics  4.436565\n",
      "5            Heat  4.335416\n",
      "6       Mavericks  4.225644\n",
      "7           Bucks  3.164290\n",
      "8    Timberwolves  2.894025\n",
      "9       Cavaliers  2.364359\n",
      "10          Bulls  2.351655\n",
      "11        Nuggets  2.102093\n",
      "12          76ers  1.767214\n",
      "13        Raptors  1.702416\n",
      "14          Hawks  1.282467\n",
      "15           Nets  0.101050\n",
      "16          Spurs  0.045777\n",
      "17         Knicks -0.306826\n",
      "18       Clippers -1.228548\n",
      "19        Hornets -1.299388\n",
      "20       Pelicans -2.183597\n",
      "21         Pacers -2.251863\n",
      "22         Lakers -3.192266\n",
      "23        Wizards -3.263490\n",
      "24          Kings -4.236429\n",
      "25  Trail Blazers -6.199932\n",
      "26          Magic -6.842637\n",
      "27        Thunder -7.306982\n",
      "28        Pistons -8.199562\n",
      "29        Rockets -8.749182\n"
     ]
    }
   ],
   "source": [
    "rank_df = pd.DataFrame({\n",
    "    'team': team_names,\n",
    "    'r': r\n",
    "})\n",
    "\n",
    "rank_df = rank_df.sort_values(by =['r'],  ascending = False)\n",
    "rank_df = rank_df.reset_index(drop = True)\n",
    "print(rank_df)\n",
    "\n",
    "#rank_df.to_csv('data/hodge_ranking.csv')"
   ]
  },
  {
   "cell_type": "markdown",
   "id": "42a31e27",
   "metadata": {},
   "source": []
  },
  {
   "cell_type": "code",
   "execution_count": null,
   "id": "5e1c427b",
   "metadata": {},
   "outputs": [],
   "source": []
  }
 ],
 "metadata": {
  "kernelspec": {
   "display_name": "Python 3 (ipykernel)",
   "language": "python",
   "name": "python3"
  },
  "language_info": {
   "codemirror_mode": {
    "name": "ipython",
    "version": 3
   },
   "file_extension": ".py",
   "mimetype": "text/x-python",
   "name": "python",
   "nbconvert_exporter": "python",
   "pygments_lexer": "ipython3",
   "version": "3.9.2"
  }
 },
 "nbformat": 4,
 "nbformat_minor": 5
}
