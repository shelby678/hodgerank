{
 "cells": [
  {
   "cell_type": "markdown",
   "id": "46980869",
   "metadata": {},
   "source": [
    "Data downloaded from https://www.kaggle.com/datasets/nathanlauga/nba-games?select=games.csv, originally from Sports Data LLC (https://www.sports-reference.com/)"
   ]
  },
  {
   "cell_type": "code",
   "execution_count": 4,
   "id": "6bd13180",
   "metadata": {},
   "outputs": [],
   "source": [
    "import csv\n",
    "import pandas as pd\n",
    "import numpy as np"
   ]
  },
  {
   "cell_type": "markdown",
   "id": "dc7bb4b6",
   "metadata": {},
   "source": [
    "## Processing Data"
   ]
  },
  {
   "cell_type": "code",
   "execution_count": 5,
   "id": "d173697e",
   "metadata": {},
   "outputs": [],
   "source": [
    "big_game_df = pd.read_csv(\"data/nba/games.csv\")"
   ]
  },
  {
   "cell_type": "code",
   "execution_count": 7,
   "id": "d6f48a6e",
   "metadata": {},
   "outputs": [
    {
     "name": "stdout",
     "output_type": "stream",
     "text": [
      "(25796, 21)\n"
     ]
    }
   ],
   "source": [
    "print(big_game_df.shape)"
   ]
  },
  {
   "cell_type": "code",
   "execution_count": 8,
   "id": "acec74e6",
   "metadata": {},
   "outputs": [
    {
     "name": "stdout",
     "output_type": "stream",
     "text": [
      "Index(['GAME_DATE_EST', 'GAME_ID', 'GAME_STATUS_TEXT', 'HOME_TEAM_ID',\n",
      "       'VISITOR_TEAM_ID', 'SEASON', 'TEAM_ID_home', 'PTS_home', 'FG_PCT_home',\n",
      "       'FT_PCT_home', 'FG3_PCT_home', 'AST_home', 'REB_home', 'TEAM_ID_away',\n",
      "       'PTS_away', 'FG_PCT_away', 'FT_PCT_away', 'FG3_PCT_away', 'AST_away',\n",
      "       'REB_away', 'HOME_TEAM_WINS'],\n",
      "      dtype='object')\n"
     ]
    }
   ],
   "source": [
    "print(big_game_df.columns)"
   ]
  },
  {
   "cell_type": "code",
   "execution_count": 10,
   "id": "db99ca65",
   "metadata": {},
   "outputs": [
    {
     "name": "stdout",
     "output_type": "stream",
     "text": [
      "  GAME_DATE_EST   GAME_ID GAME_STATUS_TEXT  HOME_TEAM_ID  VISITOR_TEAM_ID  \\\n",
      "0    2022-03-12  22101005            Final    1610612748       1610612750   \n",
      "1    2022-03-12  22101006            Final    1610612741       1610612739   \n",
      "2    2022-03-12  22101007            Final    1610612759       1610612754   \n",
      "3    2022-03-12  22101008            Final    1610612744       1610612749   \n",
      "4    2022-03-12  22101009            Final    1610612743       1610612761   \n",
      "\n",
      "   SEASON  TEAM_ID_home  PTS_home  FG_PCT_home  FT_PCT_home  ...  AST_home  \\\n",
      "0    2021    1610612748     104.0        0.398        0.760  ...      23.0   \n",
      "1    2021    1610612741     101.0        0.443        0.933  ...      20.0   \n",
      "2    2021    1610612759     108.0        0.412        0.813  ...      28.0   \n",
      "3    2021    1610612744     122.0        0.484        0.933  ...      33.0   \n",
      "4    2021    1610612743     115.0        0.551        0.750  ...      32.0   \n",
      "\n",
      "   REB_home  TEAM_ID_away  PTS_away  FG_PCT_away  FT_PCT_away  FG3_PCT_away  \\\n",
      "0      53.0    1610612750     113.0        0.422        0.875         0.357   \n",
      "1      46.0    1610612739      91.0        0.419        0.824         0.208   \n",
      "2      52.0    1610612754     119.0        0.489        1.000         0.389   \n",
      "3      55.0    1610612749     109.0        0.413        0.696         0.386   \n",
      "4      39.0    1610612761     127.0        0.471        0.760         0.387   \n",
      "\n",
      "   AST_away  REB_away  HOME_TEAM_WINS  \n",
      "0      21.0      46.0               0  \n",
      "1      19.0      40.0               1  \n",
      "2      23.0      47.0               0  \n",
      "3      27.0      39.0               1  \n",
      "4      28.0      50.0               0  \n",
      "\n",
      "[5 rows x 21 columns]\n"
     ]
    }
   ],
   "source": [
    "print(big_game_df.head())"
   ]
  },
  {
   "cell_type": "code",
   "execution_count": 27,
   "id": "1cef0059",
   "metadata": {},
   "outputs": [],
   "source": [
    "game_df = big_game_df[['SEASON', 'HOME_TEAM_ID', 'VISITOR_TEAM_ID', 'PTS_home', 'PTS_away']].copy()"
   ]
  },
  {
   "cell_type": "code",
   "execution_count": 38,
   "id": "ffa85737",
   "metadata": {},
   "outputs": [
    {
     "name": "stdout",
     "output_type": "stream",
     "text": [
      "    SEASON  HOME_TEAM_ID  VISITOR_TEAM_ID  PTS_home  PTS_away\n",
      "0     2021    1610612748       1610612750     104.0     113.0\n",
      "1     2021    1610612741       1610612739     101.0      91.0\n",
      "2     2021    1610612759       1610612754     108.0     119.0\n",
      "3     2021    1610612744       1610612749     122.0     109.0\n",
      "4     2021    1610612743       1610612761     115.0     127.0\n",
      "5     2021    1610612762       1610612758     134.0     125.0\n",
      "6     2021    1610612757       1610612764     127.0     118.0\n",
      "7     2021    1610612753       1610612750     118.0     110.0\n",
      "8     2021    1610612737       1610612746     112.0     106.0\n",
      "9     2021    1610612738       1610612765     114.0     103.0\n",
      "10    2021    1610612748       1610612739     117.0     105.0\n",
      "11    2021    1610612745       1610612742     100.0     113.0\n",
      "12    2021    1610612763       1610612752     118.0     114.0\n",
      "13    2021    1610612740       1610612766     120.0     142.0\n",
      "14    2021    1610612759       1610612762     104.0     102.0\n",
      "15    2021    1610612756       1610612761     112.0     117.0\n",
      "16    2021    1610612747       1610612764     122.0     109.0\n",
      "17    2021    1610612755       1610612751     100.0     129.0\n",
      "18    2021    1610612743       1610612744     102.0     113.0\n",
      "19    2021    1610612766       1610612738     101.0     115.0\n",
      "(25697, 5)\n"
     ]
    }
   ],
   "source": [
    "print(game_df.head(20))\n",
    "print(game_df.shape)"
   ]
  },
  {
   "cell_type": "code",
   "execution_count": 29,
   "id": "a8bb378c",
   "metadata": {},
   "outputs": [
    {
     "name": "stdout",
     "output_type": "stream",
     "text": [
      "(25697, 5)\n"
     ]
    }
   ],
   "source": [
    "game_df.dropna( inplace = True)\n",
    "print(game_df.shape)\n"
   ]
  },
  {
   "cell_type": "code",
   "execution_count": 30,
   "id": "d78daf9f",
   "metadata": {},
   "outputs": [],
   "source": [
    "teams = set(game_df['HOME_TEAM_ID'].tolist())\n",
    "teams.update(set(game_df['VISITOR_TEAM_ID'].tolist()))"
   ]
  },
  {
   "cell_type": "code",
   "execution_count": 31,
   "id": "8d05f002",
   "metadata": {},
   "outputs": [
    {
     "name": "stdout",
     "output_type": "stream",
     "text": [
      "30\n"
     ]
    }
   ],
   "source": [
    "teams = list(teams)\n",
    "print(len(teams))"
   ]
  },
  {
   "cell_type": "code",
   "execution_count": 32,
   "id": "f4d1120d",
   "metadata": {},
   "outputs": [
    {
     "name": "stdout",
     "output_type": "stream",
     "text": [
      "[1610612737, 1610612738, 1610612739, 1610612740, 1610612741, 1610612742, 1610612743, 1610612744, 1610612745, 1610612746, 1610612747, 1610612748, 1610612749, 1610612750, 1610612751, 1610612752, 1610612753, 1610612754, 1610612755, 1610612756, 1610612757, 1610612758, 1610612759, 1610612760, 1610612761, 1610612762, 1610612763, 1610612764, 1610612765, 1610612766]\n"
     ]
    }
   ],
   "source": [
    "print(teams)"
   ]
  },
  {
   "cell_type": "markdown",
   "id": "2219fcaf",
   "metadata": {},
   "source": [
    "## Building the graph, matrices, and vectors"
   ]
  },
  {
   "cell_type": "code",
   "execution_count": 33,
   "id": "7e65073e",
   "metadata": {},
   "outputs": [
    {
     "name": "stdout",
     "output_type": "stream",
     "text": [
      "lets go\n",
      "lets go\n",
      "lets go\n",
      "lets go\n",
      "lets go\n",
      "lets go\n",
      "lets go\n",
      "lets go\n",
      "lets go\n",
      "lets go\n",
      "lets go\n",
      "lets go\n",
      "lets go\n",
      "lets go\n",
      "lets go\n",
      "lets go\n",
      "lets go\n",
      "lets go\n",
      "lets go\n",
      "lets go\n",
      "lets go\n",
      "lets go\n",
      "lets go\n",
      "lets go\n",
      "lets go\n",
      "lets go\n",
      "lets go\n",
      "lets go\n",
      "lets go\n",
      "lets go\n"
     ]
    }
   ],
   "source": [
    "#init edges, triangles, adj_matrix, curl, neg_divergence, f, and W\n",
    "edges = []\n",
    "num_nodes = len(teams)\n",
    "for i in range(num_nodes):\n",
    "        for j in range(i + 1, num_nodes):\n",
    "            edges.append((i,j))\n",
    "        print(\"lets go\")\n",
    "adj_matrix = np.zeros((num_nodes, num_nodes))\n",
    "neg_divergence = np.zeros((len(edges), num_nodes))\n",
    "f = np.zeros((len(edges)))\n",
    "W = np.zeros((len(edges), len(edges)))"
   ]
  },
  {
   "cell_type": "code",
   "execution_count": 34,
   "id": "95e178b2",
   "metadata": {},
   "outputs": [
    {
     "name": "stdout",
     "output_type": "stream",
     "text": [
      "435\n"
     ]
    }
   ],
   "source": [
    "print(len(edges))"
   ]
  },
  {
   "cell_type": "code",
   "execution_count": 43,
   "id": "251fc2f0",
   "metadata": {},
   "outputs": [
    {
     "name": "stdout",
     "output_type": "stream",
     "text": [
      "[  1.93103448   2.91566265  -0.77083333   2.37179487   0.41463415\n",
      "   1.72972973   3.31428571   5.10810811   2.07894737   4.81081081\n",
      "   4.19791667   0.16455696  -3.47368421  -1.69333333   1.09722222\n",
      "   2.01030928   1.11111111   0.18055556   0.975        2.74358974\n",
      "  -2.13888889   7.06976744   3.13888889   1.79104478   3.97222222\n",
      "  -1.29411765  -0.09090909   3.09333333  -0.98765432  -0.44444444\n",
      "  -2.58974359  -1.1375       1.75675676  -0.88888889  -2.08333333\n",
      "   1.25         2.43243243  -1.25490196  -1.58888889  -2.07692308\n",
      "  -3.48648649  -3.18269231  -4.23076923  -5.74390244  -1.12195122\n",
      "  -4.31730769  -1.42105263  -4.43243243  -5.41666667   5.83783784\n",
      "  -0.60526316  -2.59793814  -1.38888889  -3.77777778  -2.52631579\n",
      "  -0.41891892  -6.72857143   3.02564103   1.46666667   1.64285714\n",
      "   3.30555556   6.62068966   4.32432432   1.47222222   2.08571429\n",
      "   3.95588235  -0.06329114  -2.48648649  -1.58333333  -2.57142857\n",
      "  -0.36842105   1.35789474  -0.92         0.30555556   2.94444444\n",
      "   1.45714286   4.53333333  -0.89473684  -1.49438202   0.43243243\n",
      "  -3.25        -0.5106383   -0.19417476  -3.52238806   3.57777778\n",
      "   3.97590361   3.45945946   5.27631579   1.62025316  -0.11940299\n",
      "   2.57142857   1.17241379  -1.70731707  -1.13432836   1.17948718\n",
      "   0.61538462   1.36         1.41666667  -1.02631579   1.98507463\n",
      "  -1.86764706  -0.22857143   4.69135802   1.92957746   3.4\n",
      "   5.39130435  -1.09210526  -0.11627907  -0.92307692  -4.26315789\n",
      "   2.64444444   4.28205128   6.23684211   5.10526316   4.08571429\n",
      "   2.27777778   2.90697674  -1.22105263   0.02083333  -1.41666667\n",
      "  -2.11940299  -1.55882353  -0.42105263  -1.02777778   1.\n",
      "   3.89189189   1.08108108   4.16216216   1.19047619  -0.2027027\n",
      "   1.92105263  -1.88888889  -1.36904762  -1.24705882  -2.58208955\n",
      "   1.          -0.12        -0.6344086   -0.14285714  -1.625\n",
      "  -1.42        -4.21276596  -3.90909091  -3.34285714  -4.04878049\n",
      "  -5.22727273   0.47727273  -4.38461538   0.98809524  -3.67123288\n",
      "  -4.12820513   1.58823529  -0.62222222  -0.45945946  -2.01449275\n",
      "  -3.475       -6.68292683  -4.5         -8.1         -0.44578313\n",
      "   0.94285714  -1.35869565  -1.41176471  -5.24324324  -5.\n",
      "  -2.62352941  -0.72972973  -7.75675676  -4.92307692  -3.51219512\n",
      "  -0.44444444  -1.95180723  -3.26262626  -3.47826087   4.47126437\n",
      "   0.12790698  -4.31707317   1.54945055  -1.93939394  -3.92105263\n",
      "   0.45        -4.29411765  -2.05494505  -2.6969697    0.13861386\n",
      "   0.08108108   0.79487179  -5.15492958  -1.          -9.69444444\n",
      "  -1.44444444  -0.75675676  -3.68421053  -2.34177215  -5.86021505\n",
      "  -4.47126437   4.125       -2.14285714  -1.81818182   0.35443038\n",
      "  -1.43243243  -4.14285714  -2.75        -5.28571429  -1.26666667\n",
      "  -1.11764706   1.02380952  -2.8974359   -6.08333333  -7.71052632\n",
      "  -8.07692308  -2.60869565  -0.63414634  -1.65789474   0.01449275\n",
      "  -2.60759494  -5.89855072   2.          -1.4787234    0.87804878\n",
      "  -1.55434783  -2.52272727  -6.68421053   0.38888889  -5.66666667\n",
      "  -2.87209302   0.38461538  -2.27777778  -1.85915493  -0.83783784\n",
      "  -4.61111111  -4.68421053   0.72222222  -3.11111111  -0.25263158\n",
      "  -0.20454545  -2.98809524   4.975        0.40789474   2.48780488\n",
      "   1.86516854   0.03658537  -5.48717949  -0.88571429  -5.94444444\n",
      "  -1.40909091   0.7027027   -1.06756757  -3.125       -5.31578947\n",
      "  -2.41860465  -0.40540541  -1.02777778   1.625        0.32894737\n",
      "  -1.3258427    2.44578313   1.41975309   0.05405405   0.05154639\n",
      "  -0.35294118  -1.64864865  -0.24390244  -2.05        -0.98765432\n",
      "  -3.23076923  -4.04545455  -4.60869565  -1.91011236  -1.13541667\n",
      "  -3.28395062  -3.86486486  -0.37837838  -7.89189189   2.96825397\n",
      "   0.06818182  -0.43243243  -0.97368421  -0.68181818  -4.27380952\n",
      "  -0.98837209  -4.18888889  -0.81355932  -4.31506849  -4.5915493\n",
      "  -1.66216216   0.01298701  -0.84615385   1.47727273  -2.71052632\n",
      "  -2.91891892   6.02631579   0.43589744   1.27848101   4.15\n",
      "   2.57142857  -1.41428571   0.82828283  -2.45714286  -2.21052632\n",
      "  -2.27027027   3.27027027   1.65384615   1.36842105   3.18461538\n",
      "   3.41666667  -1.44594595   5.92063492   1.70512821   5.41860465\n",
      "   3.12162162   3.40540541  -0.27777778  -0.61702128   1.89473684\n",
      "   0.3814433    0.95522388   3.2972973   -0.21        -0.26315789\n",
      "   5.91666667  -2.33333333   8.94736842   1.91666667   4.79166667\n",
      "   5.34210526   4.02702703   1.15714286   1.44155844  -2.40298507\n",
      "   1.33333333   3.72368421   2.6627907    4.           3.5\n",
      "  -0.47368421   5.31578947   4.72222222   5.37974684   1.16216216\n",
      "   2.94444444  -1.0625      -0.80882353   1.265625     2.80769231\n",
      "  -1.37179487  -0.13513514   3.37837838   0.80555556   6.06382979\n",
      "   0.97222222   2.78666667   3.86486486   0.59574468  -1.74324324\n",
      "   2.30769231  -1.90123457  -3.35820896   1.64864865   0.7027027\n",
      "  -1.75675676   3.24390244  -2.           0.75675676  -1.075\n",
      "  -0.34883721  -1.31081081  -1.43181818  -3.04285714   2.94871795\n",
      "   1.94594595  -4.56756757   4.56410256   1.84615385   3.3372093\n",
      "   5.8          4.58974359  -0.17073171   1.23170732  -0.9375\n",
      "  -2.32941176  -1.94252874   3.24731183   0.78378378  -1.575\n",
      "   2.625       -0.44285714  -5.16216216   2.72972973  -3.83783784\n",
      "  -2.37647059   4.46376812   1.09411765   0.23255814   2.23157895\n",
      "  -0.38356164  -2.97368421  -1.25714286  -6.42857143   7.10526316\n",
      "   1.10126582   2.           4.70666667   5.28358209   1.10526316\n",
      "   2.71052632  -0.6         -4.22105263  -3.81578947  -4.78205128\n",
      "  -5.09       -10.525       -4.02        -9.08571429  -2.42105263\n",
      "  -1.80487805  -0.01098901   0.40540541  -2.72972973  -5.21621622\n",
      "   1.1025641   -2.          -1.4         -0.28169014  -1.96875\n",
      "  -2.47887324  -5.78378378  -6.275       -6.71428571  -2.425\n",
      "  -5.11627907  -1.           1.81818182  -0.44736842  -1.34285714]\n"
     ]
    }
   ],
   "source": [
    "# f, w\n",
    "# f is a vector representing pairwise differences between the nodes\n",
    "# w is a diagonal matrix containing the weights of each edge\n",
    "\n",
    "W = np.zeros((len(edges), len(edges)))\n",
    "f = np.zeros((len(edges)))\n",
    "small_game_df = game_df.head(20)\n",
    "for index, game in game_df.iterrows():\n",
    "    home_index = teams.index(game['HOME_TEAM_ID'])\n",
    "    opp_index = teams.index(game['VISITOR_TEAM_ID'])\n",
    "    diff = int(game['PTS_away']) - int(game['PTS_home'])\n",
    "    if home_index < opp_index:\n",
    "        edge = (home_index, opp_index)\n",
    "    else:\n",
    "        diff = -diff\n",
    "        edge = (opp_index, home_index)\n",
    "    i = edges.index(edge)\n",
    "    W[i, i] += 1\n",
    "    f[i] += diff\n",
    "for i in range(len(edges)):\n",
    "    f[i] = f[i]*1/W[i,i]\n",
    "print(f)\n"
   ]
  },
  {
   "cell_type": "code",
   "execution_count": 44,
   "id": "05abdeb7",
   "metadata": {},
   "outputs": [
    {
     "name": "stdout",
     "output_type": "stream",
     "text": [
      "[[87.  0.  0. ...  0.  0.  0.]\n",
      " [ 0. 83.  0. ...  0.  0.  0.]\n",
      " [ 0.  0. 48. ...  0.  0.  0.]\n",
      " ...\n",
      " [ 0.  0.  0. ... 77.  0.  0.]\n",
      " [ 0.  0.  0. ...  0. 76.  0.]\n",
      " [ 0.  0.  0. ...  0.  0. 70.]]\n"
     ]
    }
   ],
   "source": [
    "print(W)"
   ]
  },
  {
   "cell_type": "code",
   "execution_count": null,
   "id": "0d237e3f",
   "metadata": {},
   "outputs": [],
   "source": []
  },
  {
   "cell_type": "code",
   "execution_count": null,
   "id": "2600c723",
   "metadata": {},
   "outputs": [],
   "source": []
  },
  {
   "cell_type": "code",
   "execution_count": null,
   "id": "84e4f26c",
   "metadata": {},
   "outputs": [],
   "source": []
  },
  {
   "cell_type": "code",
   "execution_count": null,
   "id": "5e1c427b",
   "metadata": {},
   "outputs": [],
   "source": []
  }
 ],
 "metadata": {
  "kernelspec": {
   "display_name": "Python 3.7.9 64-bit",
   "language": "python",
   "name": "python379jvsc74a57bd0e534e48711db4d1e1c48977d0d14ff85b1f16d41bcc4fdfd88268a329b3c9d66"
  },
  "language_info": {
   "codemirror_mode": {
    "name": "ipython",
    "version": 3
   },
   "file_extension": ".py",
   "mimetype": "text/x-python",
   "name": "python",
   "nbconvert_exporter": "python",
   "pygments_lexer": "ipython3",
   "version": "3.7.9"
  }
 },
 "nbformat": 4,
 "nbformat_minor": 5
}
