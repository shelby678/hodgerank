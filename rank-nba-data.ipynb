{
 "cells": [
  {
   "cell_type": "markdown",
   "id": "46980869",
   "metadata": {},
   "source": [
    "Data downloaded from https://www.kaggle.com/datasets/nathanlauga/nba-games?select=games.csv, originally from Sports Data LLC (https://www.sports-reference.com/)"
   ]
  },
  {
   "cell_type": "code",
   "execution_count": 54,
   "id": "6bd13180",
   "metadata": {},
   "outputs": [],
   "source": [
    "import csv\n",
    "import pandas as pd\n",
    "import numpy as np\n",
    "import math\n",
    "from scipy import stats"
   ]
  },
  {
   "cell_type": "markdown",
   "id": "dc7bb4b6",
   "metadata": {},
   "source": [
    "## Processing Data"
   ]
  },
  {
   "cell_type": "code",
   "execution_count": 2,
   "id": "d173697e",
   "metadata": {},
   "outputs": [],
   "source": [
    "big_game_df = pd.read_csv(\"data/nba/games.csv\")\n",
    "team_df = pd.read_csv(\"data/nba/teams.csv\")"
   ]
  },
  {
   "cell_type": "code",
   "execution_count": 3,
   "id": "1cef0059",
   "metadata": {},
   "outputs": [],
   "source": [
    "game_df = big_game_df[['SEASON', 'HOME_TEAM_ID', 'VISITOR_TEAM_ID', 'PTS_home', 'PTS_away']].copy()"
   ]
  },
  {
   "cell_type": "code",
   "execution_count": 4,
   "id": "a8bb378c",
   "metadata": {},
   "outputs": [
    {
     "name": "stdout",
     "output_type": "stream",
     "text": [
      "(1076, 5)\n"
     ]
    }
   ],
   "source": [
    "# only for 2021 season\n",
    "game_df = game_df[game_df['SEASON'] == 2021]\n",
    "game_df.dropna( inplace = True)\n",
    "print(game_df.shape)"
   ]
  },
  {
   "cell_type": "markdown",
   "id": "9bc6ceae",
   "metadata": {},
   "source": [
    "## Naive Ranking"
   ]
  },
  {
   "cell_type": "code",
   "execution_count": 7,
   "id": "aca25a8f",
   "metadata": {},
   "outputs": [],
   "source": [
    "# each team scored based on the point difference of every game they've played\n",
    "scores = {team_ID: 0 for team_ID in teams}\n",
    "games_played = {team_ID: 0 for team_ID in teams}\n",
    "for index, game in game_df.iterrows():\n",
    "    diff = int(game['PTS_away']) - int(game['PTS_home'])\n",
    "    scores[game['HOME_TEAM_ID']] += -diff\n",
    "    scores[game['VISITOR_TEAM_ID']] += diff\n",
    "    games_played[game['HOME_TEAM_ID']] += 1\n",
    "    games_played[game['VISITOR_TEAM_ID']] += 1"
   ]
  },
  {
   "cell_type": "code",
   "execution_count": 8,
   "id": "2dcd247e",
   "metadata": {},
   "outputs": [],
   "source": [
    "naive_r = []\n",
    "for team, score in scores.items():\n",
    "    naive_r.append(score/ games_played[team])"
   ]
  },
  {
   "cell_type": "code",
   "execution_count": 9,
   "id": "a17edf87",
   "metadata": {},
   "outputs": [
    {
     "name": "stdout",
     "output_type": "stream",
     "text": [
      "             team         r\n",
      "0            Suns  8.281690\n",
      "1        Warriors  6.794521\n",
      "2            Jazz  6.014085\n",
      "3       Grizzlies  5.270270\n",
      "4         Celtics  5.125000\n",
      "5            Heat  4.546667\n",
      "6       Mavericks  4.253521\n",
      "7           Bucks  3.465753\n",
      "8    Timberwolves  3.178082\n",
      "9           Bulls  2.718310\n",
      "10      Cavaliers  2.402778\n",
      "11        Nuggets  2.315068\n",
      "12          76ers  1.884058\n",
      "13        Raptors  1.625000\n",
      "14          Hawks  0.785714\n",
      "15          Spurs  0.136986\n",
      "16           Nets -0.056338\n",
      "17         Knicks -0.309859\n",
      "18       Clippers -1.383562\n",
      "19        Hornets -1.472222\n",
      "20         Pacers -2.541667\n",
      "21       Pelicans -2.690141\n",
      "22         Lakers -3.152778\n",
      "23        Wizards -3.157143\n",
      "24          Kings -4.342466\n",
      "25  Trail Blazers -7.257143\n",
      "26          Magic -7.388889\n",
      "27        Thunder -7.857143\n",
      "28        Pistons -8.830986\n",
      "29        Rockets -9.239437\n"
     ]
    }
   ],
   "source": [
    "naive_rank_df = pd.DataFrame({\n",
    "    'team': team_names,\n",
    "    'r': naive_r\n",
    "})\n",
    "naive_rank_df = naive_rank_df.sort_values(by =['r'],  ascending = False)\n",
    "naive_rank_df = naive_rank_df.reset_index(drop = True)\n",
    "print(naive_rank_df)"
   ]
  },
  {
   "cell_type": "markdown",
   "id": "2219fcaf",
   "metadata": {},
   "source": [
    "## Building the graph, matrices, and vectors"
   ]
  },
  {
   "cell_type": "code",
   "execution_count": 30,
   "id": "7e65073e",
   "metadata": {},
   "outputs": [],
   "source": [
    "def rank(game_df, teams):\n",
    "    teams = set(game_df['HOME_TEAM_ID'].tolist())\n",
    "    teams.update(set(game_df['VISITOR_TEAM_ID'].tolist()))\n",
    "    teams = list(teams)\n",
    "\n",
    "    team_names = []\n",
    "    for team in teams:\n",
    "        team_names.append(str(team_df[team_df['TEAM_ID'] == team].iloc[0]['NICKNAME']))\n",
    "    \n",
    "    #init edges, triangles, adj_matrix, curl, neg_divergence, f, and W\n",
    "    edges = []\n",
    "    num_nodes = len(teams)\n",
    "    for i in range(num_nodes):\n",
    "            for j in range(i + 1, num_nodes):\n",
    "                edges.append((i,j))\n",
    "    neg_divergence = np.zeros((len(edges), num_nodes))\n",
    "\n",
    "    f = np.zeros((len(edges)))\n",
    "    W = np.zeros((len(edges), len(edges)))\n",
    "    \n",
    "    # f, w\n",
    "    # f is a vector representing pairwise differences between the nodes\n",
    "    # w is a diagonal matrix containing the weights of each edge\n",
    "\n",
    "    for index, game in game_df.iterrows():\n",
    "        home_index = teams.index(game['HOME_TEAM_ID'])\n",
    "        opp_index = teams.index(game['VISITOR_TEAM_ID'])\n",
    "        diff = int(game['PTS_away']) - int(game['PTS_home'])\n",
    "        if home_index < opp_index:\n",
    "            edge = (home_index, opp_index)\n",
    "        else:\n",
    "            diff = -diff\n",
    "            edge = (opp_index, home_index)\n",
    "        i = edges.index(edge)\n",
    "        W[i, i] += 1\n",
    "        f[i] += diff\n",
    "    for i in range(len(edges)):\n",
    "        if W[i, i] != 0:\n",
    "            f[i] = f[i]*1/W[i,i]\n",
    "        else:\n",
    "            f[i] = 0\n",
    "            \n",
    "    # neg_divergence\n",
    "    for i in range(len(edges)):\n",
    "        for j in range(num_nodes):\n",
    "            if edges[i][0] == j:\n",
    "                neg_divergence[i,j] = -1\n",
    "            elif edges[i][1] == j:\n",
    "                neg_divergence[i,j] = 1\n",
    "    \n",
    "    right_side = np.matmul(np.transpose(neg_divergence), np.matmul(W, f))\n",
    "    left_side = np.matmul(np.matmul(np.transpose(neg_divergence), W), neg_divergence)\n",
    "    r = np.matmul(np.linalg.pinv(left_side), right_side)\n",
    "    \n",
    "    rank_df = pd.DataFrame({\n",
    "    'team': team_names,\n",
    "    'r': r\n",
    "    })\n",
    "\n",
    "    rank_df = rank_df.sort_values(by =['r'],  ascending = False)\n",
    "    rank_df = rank_df.reset_index(drop = True)\n",
    "    return(rank_df)\n",
    "\n",
    "    #rank_df.to_csv('data/hodge_ranking.csv')"
   ]
  },
  {
   "cell_type": "code",
   "execution_count": 52,
   "id": "bc10d343",
   "metadata": {},
   "outputs": [
    {
     "name": "stdout",
     "output_type": "stream",
     "text": [
      "             team         r\n",
      "0            Suns  7.556319\n",
      "1        Warriors  6.492398\n",
      "2            Jazz  5.609594\n",
      "3       Grizzlies  4.829419\n",
      "4         Celtics  4.436565\n",
      "5            Heat  4.335416\n",
      "6       Mavericks  4.225644\n",
      "7           Bucks  3.164290\n",
      "8    Timberwolves  2.894025\n",
      "9       Cavaliers  2.364359\n",
      "10          Bulls  2.351655\n",
      "11        Nuggets  2.102093\n",
      "12          76ers  1.767214\n",
      "13        Raptors  1.702416\n",
      "14          Hawks  1.282467\n",
      "15           Nets  0.101050\n",
      "16          Spurs  0.045777\n",
      "17         Knicks -0.306826\n",
      "18       Clippers -1.228548\n",
      "19        Hornets -1.299388\n",
      "20       Pelicans -2.183597\n",
      "21         Pacers -2.251863\n",
      "22         Lakers -3.192266\n",
      "23        Wizards -3.263490\n",
      "24          Kings -4.236429\n",
      "25  Trail Blazers -6.199932\n",
      "26          Magic -6.842637\n",
      "27        Thunder -7.306982\n",
      "28        Pistons -8.199562\n",
      "29        Rockets -8.749182\n"
     ]
    }
   ],
   "source": [
    "r_regular = rank(game_df, teams)\n",
    "print(r_regular)"
   ]
  },
  {
   "cell_type": "markdown",
   "id": "04f24ab6",
   "metadata": {},
   "source": [
    "## Grouping method: grouping teams with lots of W's and teams with lots of L's together"
   ]
  },
  {
   "cell_type": "code",
   "execution_count": 62,
   "id": "b252a051",
   "metadata": {},
   "outputs": [
    {
     "name": "stdout",
     "output_type": "stream",
     "text": [
      "[10, 10, 10]\n"
     ]
    }
   ],
   "source": [
    "\"\"\"\n",
    "a (very convulated) way to distribute all nodes into \n",
    "groupings such that each group has at least \n",
    "group_size number of nodes\n",
    "\"\"\"\n",
    "num_nodes = len(teams)\n",
    "group_size = 10\n",
    "group_lengths = [group_size]*(math.floor(num_nodes/group_size))\n",
    "for n in range(num_nodes - group_size * len(group_lengths)):\n",
    "    group_lengths[n % len(group_lengths)] += 1\n",
    "print(group_lengths)"
   ]
  },
  {
   "cell_type": "code",
   "execution_count": 69,
   "id": "a7f1b276",
   "metadata": {},
   "outputs": [],
   "source": [
    "# get each teams total number of wins and total number of games played\n",
    "better_than = {team_ID: 0 for team_ID in teams}\n",
    "games_played = {team_ID: 0 for team_ID in teams}\n",
    "for index, game in game_df.iterrows():\n",
    "    diff = int(game['PTS_away']) - int(game['PTS_home'])\n",
    "    if diff > 0:\n",
    "        better_than[game['VISITOR_TEAM_ID']] += 1\n",
    "    else:\n",
    "        better_than[game['HOME_TEAM_ID']] += 1\n",
    "    games_played[game['HOME_TEAM_ID']] += 1\n",
    "    games_played[game['VISITOR_TEAM_ID']] += 1\n",
    "\n",
    "# get overall score: (number of wins)/(total games)\n",
    "for team, score in better_than.items():\n",
    "    better_than[team] = score/games_played[team]\n",
    "\n",
    "# sort by score\n",
    "scores_df = pd.DataFrame(list(better_than.items()), columns = ['TEAM_ID', 'SCORE'])\n",
    "scores_df = scores_df.sort_values(by =['SCORE'],  ascending = False)\n",
    "scores_df = scores_df.reset_index(drop = True)\n",
    "ranked_teams = list(scores_df['TEAM_ID'])\n",
    "#print(scores_df)\n",
    "\n",
    "# fill list with groups of teams, sorted by score\n",
    "groupings = []\n",
    "for group_length in group_lengths:\n",
    "    groupings.append(ranked_teams[0:group_length])\n",
    "    ranked_teams = ranked_teams[group_length:]"
   ]
  },
  {
   "cell_type": "code",
   "execution_count": 66,
   "id": "90cbbfe6",
   "metadata": {},
   "outputs": [
    {
     "name": "stdout",
     "output_type": "stream",
     "text": [
      "             team         r\n",
      "0        Warriors  4.317160\n",
      "1            Suns  3.970623\n",
      "2            Jazz  3.110800\n",
      "3            Heat  2.349909\n",
      "4       Mavericks  2.134221\n",
      "5         Celtics  1.917020\n",
      "6       Grizzlies -1.788253\n",
      "7           Bucks -2.190572\n",
      "8           76ers -6.022508\n",
      "9           Bulls -7.798399\n",
      "10      Cavaliers  2.738796\n",
      "11        Hornets  1.021284\n",
      "12        Nuggets  1.021019\n",
      "13        Raptors  0.967144\n",
      "14           Nets -0.353357\n",
      "15       Clippers -0.399147\n",
      "16          Hawks -0.568799\n",
      "17         Knicks -0.910685\n",
      "18        Wizards -1.344098\n",
      "19   Timberwolves -2.172159\n",
      "20          Spurs  8.230980\n",
      "21       Pelicans  2.781119\n",
      "22          Kings  1.681835\n",
      "23         Pacers  1.610577\n",
      "24         Lakers  1.537968\n",
      "25        Thunder -2.001000\n",
      "26  Trail Blazers -2.627769\n",
      "27          Magic -2.651659\n",
      "28        Rockets -3.934368\n",
      "29        Pistons -4.627683\n"
     ]
    }
   ],
   "source": [
    "r_groups = pd.DataFrame(columns = ['team', 'r'])\n",
    "\n",
    "# create ranking for each grouping\n",
    "for grouping in groupings:\n",
    "    small_game_df = game_df[game_df['HOME_TEAM_ID'].isin(grouping)]\n",
    "    small_game_df = small_game_df[small_game_df['VISITOR_TEAM_ID'].isin(grouping)]\n",
    "    r_groups = r_groups.append(rank(small_game_df, grouping))\n",
    "\n",
    "r_groups = r_groups.reset_index(drop = True)\n",
    "print(r_groups)\n",
    "    "
   ]
  },
  {
   "cell_type": "code",
   "execution_count": 68,
   "id": "069274b8",
   "metadata": {},
   "outputs": [
    {
     "name": "stdout",
     "output_type": "stream",
     "text": [
      "KendalltauResult(correlation=0.21839080459770116, pvalue=0.09369487956659167)\n"
     ]
    }
   ],
   "source": [
    "print(stats.kendalltau(r_groups['team'], r_regular['team']))"
   ]
  },
  {
   "cell_type": "code",
   "execution_count": null,
   "id": "06475447",
   "metadata": {},
   "outputs": [],
   "source": []
  }
 ],
 "metadata": {
  "kernelspec": {
   "display_name": "Python 3.7.9 64-bit",
   "language": "python",
   "name": "python379jvsc74a57bd0e534e48711db4d1e1c48977d0d14ff85b1f16d41bcc4fdfd88268a329b3c9d66"
  },
  "language_info": {
   "codemirror_mode": {
    "name": "ipython",
    "version": 3
   },
   "file_extension": ".py",
   "mimetype": "text/x-python",
   "name": "python",
   "nbconvert_exporter": "python",
   "pygments_lexer": "ipython3",
   "version": "3.7.9"
  }
 },
 "nbformat": 4,
 "nbformat_minor": 5
}
