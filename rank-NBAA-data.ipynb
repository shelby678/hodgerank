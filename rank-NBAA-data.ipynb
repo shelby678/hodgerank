{
 "cells": [
  {
   "cell_type": "markdown",
   "id": "d8dfe805",
   "metadata": {},
   "source": [
    "Data downloaded from https://www.kaggle.com/datasets/nateduncan/2011current-ncaa-basketball-games, originally from Sports Data LLC (https://www.sports-reference.com/)"
   ]
  },
  {
   "cell_type": "code",
   "execution_count": 1,
   "id": "6bd13180",
   "metadata": {},
   "outputs": [],
   "source": [
    "import csv\n",
    "import pandas as pd\n",
    "import numpy as np\n"
   ]
  },
  {
   "cell_type": "code",
   "execution_count": 12,
   "id": "d173697e",
   "metadata": {},
   "outputs": [
    {
     "name": "stderr",
     "output_type": "stream",
     "text": [
      "/Users/shelbyferrier/Library/Python/3.7/lib/python/site-packages/IPython/core/interactiveshell.py:3457: DtypeWarning: Columns (6) have mixed types.Specify dtype option on import or set low_memory=False.\n",
      "  exec(code_obj, self.user_global_ns, self.user_ns)\n"
     ]
    }
   ],
   "source": [
    "big_game_df = pd.read_csv(\"data/games.csv\")"
   ]
  },
  {
   "cell_type": "code",
   "execution_count": 13,
   "id": "49f0d5c7",
   "metadata": {},
   "outputs": [
    {
     "name": "stdout",
     "output_type": "stream",
     "text": [
      "(90968, 5)\n"
     ]
    }
   ],
   "source": [
    "print(game_df.shape)"
   ]
  },
  {
   "cell_type": "code",
   "execution_count": 15,
   "id": "18312b69",
   "metadata": {},
   "outputs": [
    {
     "name": "stdout",
     "output_type": "stream",
     "text": [
      "Index(['team_name', 'game_num', 'date', 'site', 'opp_name', 'w_l', 'pts',\n",
      "       'opp_pts', 'fg', 'fga', 'fg_per', '3p', '3pa', '3p_per', 'ft', 'fta',\n",
      "       'ft_per', 'orb', 'trb', 'ast', 'stl', 'blk', 'tov', 'pf', 'opp_fg',\n",
      "       'opp_fga', 'opp_fg_per', 'opp_3p', 'opp_3pa', 'opp_3p_per', 'opp_ft',\n",
      "       'opp_fta', 'opp_ft_per', 'opp_orb', 'opp_trb', 'opp_ast', 'opp_stl',\n",
      "       'opp_blk', 'opp_tov', 'opp_pf'],\n",
      "      dtype='object')\n"
     ]
    }
   ],
   "source": [
    "print(big_game_df.columns)"
   ]
  },
  {
   "cell_type": "code",
   "execution_count": 23,
   "id": "02903509",
   "metadata": {},
   "outputs": [
    {
     "name": "stdout",
     "output_type": "stream",
     "text": [
      "                    team_name         opp_name pts  opp_pts        date\n",
      "0  Abilene Christian Wildcats         Duquesne  75       94  2013-11-09\n",
      "1  Abilene Christian Wildcats  St. Bonaventure  47       75  2013-11-11\n",
      "2  Abilene Christian Wildcats         Maryland  44       67  2013-11-13\n",
      "3  Abilene Christian Wildcats             Iowa  41      103  2013-11-17\n",
      "4  Abilene Christian Wildcats              TCU  64       71  2013-11-19\n"
     ]
    }
   ],
   "source": [
    "print(game_df.head())"
   ]
  },
  {
   "cell_type": "code",
   "execution_count": 24,
   "id": "1c405e13",
   "metadata": {},
   "outputs": [],
   "source": [
    "game_df = game_df[['team_name', 'opp_name', 'pts', 'opp_pts', 'date']].copy()"
   ]
  },
  {
   "cell_type": "code",
   "execution_count": 25,
   "id": "d19a33e7",
   "metadata": {},
   "outputs": [
    {
     "name": "stdout",
     "output_type": "stream",
     "text": [
      "                    team_name         opp_name pts  opp_pts        date\n",
      "0  Abilene Christian Wildcats         Duquesne  75       94  2013-11-09\n",
      "1  Abilene Christian Wildcats  St. Bonaventure  47       75  2013-11-11\n",
      "2  Abilene Christian Wildcats         Maryland  44       67  2013-11-13\n",
      "3  Abilene Christian Wildcats             Iowa  41      103  2013-11-17\n",
      "4  Abilene Christian Wildcats              TCU  64       71  2013-11-19\n"
     ]
    }
   ],
   "source": [
    "print(game_df.head())"
   ]
  },
  {
   "cell_type": "code",
   "execution_count": 22,
   "id": "1be1b96a",
   "metadata": {},
   "outputs": [],
   "source": [
    "game_df.dropna(subset=['date'], inplace = True)"
   ]
  }
 ],
 "metadata": {
  "kernelspec": {
   "display_name": "Python 3.7.9 64-bit",
   "language": "python",
   "name": "python379jvsc74a57bd0e534e48711db4d1e1c48977d0d14ff85b1f16d41bcc4fdfd88268a329b3c9d66"
  },
  "language_info": {
   "codemirror_mode": {
    "name": "ipython",
    "version": 3
   },
   "file_extension": ".py",
   "mimetype": "text/x-python",
   "name": "python",
   "nbconvert_exporter": "python",
   "pygments_lexer": "ipython3",
   "version": "3.7.9"
  }
 },
 "nbformat": 4,
 "nbformat_minor": 5
}
